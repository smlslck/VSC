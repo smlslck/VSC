{
 "cells": [
  {
   "cell_type": "markdown",
   "metadata": {},
   "source": [
    "# Hal Hatır Soran Program :)"
   ]
  },
  {
   "cell_type": "code",
   "execution_count": 11,
   "metadata": {},
   "outputs": [
    {
     "name": "stdout",
     "output_type": "stream",
     "text": [
      "iyi... bende iyiyim\n"
     ]
    }
   ],
   "source": [
    "x =(input(\"Nasılsın Kardeşim ?\").lower())\n",
    "if x == \"iyiyim\":\n",
    "    print(\"iyi... bende iyiyim\")\n",
    "elif x == \"kötüyüm\":\n",
    "    print(\"Seni anlıyorum kardeşim Allah yardımcın olsun...\")\n",
    "else:\n",
    "    print(\"Lan oğlum düzgün cevap ver...\")"
   ]
  },
  {
   "cell_type": "markdown",
   "metadata": {},
   "source": [
    "# Doğum Yılını Ve Şimdiki Tarihi Girince Kaç saatdir yaşıyor"
   ]
  },
  {
   "cell_type": "code",
   "execution_count": 1,
   "metadata": {},
   "outputs": [
    {
     "name": "stdout",
     "output_type": "stream",
     "text": [
      "120960 saattir yaşıyorsun...\n"
     ]
    }
   ],
   "source": [
    "birt_year = int(input(\"Lütfen Doğum yılınızı giriniz :\"))\n",
    "year = int(input(\"Lütfen şimdiki yılı giriniz :\"))\n",
    "yasadigi_yil = (year - birt_year)\n",
    "yasadigi_ay = (yasadigi_yil * 12)\n",
    "yasadigi_gun = (yasadigi_ay * 30)\n",
    "yasadigi_saat = (yasadigi_gun * 24)\n",
    "print(f\"{yasadigi_saat} saattir yaşıyorsun...\")"
   ]
  },
  {
   "cell_type": "markdown",
   "metadata": {},
   "source": [
    "# kalp çizme"
   ]
  },
  {
   "cell_type": "code",
   "execution_count": null,
   "metadata": {},
   "outputs": [],
   "source": [
    "from turtle import *\n",
    "color(\"red\")\n",
    "begin_fill()\n",
    "pensize(3)\n",
    "left(50)\n",
    "forward(133)\n",
    "circle(50,200)\n",
    "right(140)\n",
    "circle(50,200)\n",
    "forward(133)\n",
    "end_fill()"
   ]
  },
  {
   "cell_type": "markdown",
   "metadata": {},
   "source": [
    "# Kırık Kaynamasını Hızlandıran Ve Yavaşlatan Besinler"
   ]
  },
  {
   "cell_type": "code",
   "execution_count": 2,
   "metadata": {},
   "outputs": [],
   "source": [
    "# HIZLANDIRANLAR: paça çorbası   sarımsak   süt ve süt ürünleri   sardalya ve somon balıkları   yumurta   portakal\n",
    "# YAVAŞLATANLAR: kafein   tuz   sigara   alkol   sağlıksız ve şekerli gıdalar"
   ]
  },
  {
   "cell_type": "code",
   "execution_count": 2,
   "metadata": {},
   "outputs": [
    {
     "name": "stdout",
     "output_type": "stream",
     "text": [
      "Wi-Fi Name                    | Password\n",
      "----------------------------------------------\n",
      "Hata\n",
      "Hata\n",
      "Hata\n",
      "Hata\n",
      "Hata\n",
      "Hata\n",
      "Hata\n",
      "Hata\n",
      "Hata\n",
      "Hata\n",
      "Hata\n",
      "Hata\n",
      "Hata\n",
      "Hata\n",
      "Hata\n",
      "Hata\n",
      "Hata\n"
     ]
    }
   ],
   "source": [
    "import subprocess\n",
    "\n",
    "meta_data = subprocess.check_output([\"netsh\",\"wlan\",\"show\",\"profiles\"])\n",
    "data = meta_data.decode(\"utf-8\",errors =\"backslashreplace\")\n",
    "data = data.split(\"\\n\")\n",
    "profiles = []\n",
    "\n",
    "for i in data:\n",
    "    if \"All User Profile\" in i :\n",
    "        i = i.split(\":\")\n",
    "        i = i[1]\n",
    "        i = i[1:-1]\n",
    "        profiles.append(i)\n",
    "\n",
    "print(\"{:<30}| {:<}\".format(\"Wi-Fi Name\", \"Password\"))\n",
    "print(\"----------------------------------------------\")\n",
    "\n",
    "for i in profiles:\n",
    "    try:\n",
    "        results = subprocess.check_output([\"netsh\",\"wlan\",\"show\",\"profile\",i,\"key = clear\"])\n",
    "\n",
    "        results = results.decode(\"utf-8\",errors =\"backslashreplace\")\n",
    "        results = [b.split(\":\")[1][1:-1] for b in results if \"Key Content\" in b]\n",
    "\n",
    "        try:\n",
    "            print(\"{:<30}| {:<}\".format(i, results[0]))\n",
    "\n",
    "        except IndexError:\n",
    "            print(\"{:<30}| {:<}\".format(i, \"\"))\n",
    "\n",
    "    except subprocess.CalledProcessError:\n",
    "        print(\"Hata\")"
   ]
  },
  {
   "cell_type": "code",
   "execution_count": 2,
   "metadata": {},
   "outputs": [
    {
     "ename": "SyntaxError",
     "evalue": "invalid syntax (2834269807.py, line 5)",
     "output_type": "error",
     "traceback": [
      "\u001b[1;36m  Input \u001b[1;32mIn [2]\u001b[1;36m\u001b[0m\n\u001b[1;33m    input(print(\"\"::::::)\u001b[0m\n\u001b[1;37m                  ^\u001b[0m\n\u001b[1;31mSyntaxError\u001b[0m\u001b[1;31m:\u001b[0m invalid syntax\n"
     ]
    }
   ],
   "source": [
    "x = input(print(\"Merhaba ben yapay zeka bana söylemek istediğin birşey varmı ?\"))\n",
    "\n",
    "if (x.lower()) == \"naber\":\n",
    "    print(\"İyi vallaha senden ?\")\n",
    "    y = input()\n",
    "    if y == \"iyi bende\"\n"
   ]
  },
  {
   "cell_type": "code",
   "execution_count": null,
   "metadata": {},
   "outputs": [],
   "source": []
  },
  {
   "cell_type": "code",
   "execution_count": null,
   "metadata": {},
   "outputs": [],
   "source": []
  }
 ],
 "metadata": {
  "kernelspec": {
   "display_name": "Python 3.9.12 ('base')",
   "language": "python",
   "name": "python3"
  },
  "language_info": {
   "codemirror_mode": {
    "name": "ipython",
    "version": 3
   },
   "file_extension": ".py",
   "mimetype": "text/x-python",
   "name": "python",
   "nbconvert_exporter": "python",
   "pygments_lexer": "ipython3",
   "version": "3.9.12"
  },
  "orig_nbformat": 4,
  "vscode": {
   "interpreter": {
    "hash": "ad2bdc8ecc057115af97d19610ffacc2b4e99fae6737bb82f5d7fb13d2f2c186"
   }
  }
 },
 "nbformat": 4,
 "nbformat_minor": 2
}
