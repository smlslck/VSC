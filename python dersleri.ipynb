{
 "cells": [
  {
   "cell_type": "code",
   "execution_count": 61,
   "metadata": {},
   "outputs": [
    {
     "name": "stdout",
     "output_type": "stream",
     "text": [
      "hello world\n"
     ]
    }
   ],
   "source": [
    "print(\"hello world\")"
   ]
  },
  {
   "cell_type": "code",
   "execution_count": 62,
   "metadata": {},
   "outputs": [
    {
     "name": "stdout",
     "output_type": "stream",
     "text": [
      " '' \n"
     ]
    }
   ],
   "source": [
    "print(\" '' \")"
   ]
  },
  {
   "cell_type": "code",
   "execution_count": 63,
   "metadata": {},
   "outputs": [
    {
     "name": "stdout",
     "output_type": "stream",
     "text": [
      "vay canına isminiz ismail ne kadar güzel bir isminiz var\n"
     ]
    }
   ],
   "source": [
    "x=str(input(\"İsminizi girermisiniz...\"))\n",
    "print(f\"vay canına isminiz {x} ne kadar güzel bir isminiz var\")"
   ]
  },
  {
   "cell_type": "code",
   "execution_count": 64,
   "metadata": {},
   "outputs": [],
   "source": [
    "age = 15\n",
    "name = \"ismail\"\n",
    "pi_number = 3.14"
   ]
  },
  {
   "cell_type": "code",
   "execution_count": 65,
   "metadata": {},
   "outputs": [
    {
     "name": "stdout",
     "output_type": "stream",
     "text": [
      "15\n"
     ]
    }
   ],
   "source": [
    "print(age)"
   ]
  },
  {
   "cell_type": "code",
   "execution_count": 66,
   "metadata": {},
   "outputs": [
    {
     "data": {
      "text/plain": [
       "3.14"
      ]
     },
     "execution_count": 66,
     "metadata": {},
     "output_type": "execute_result"
    }
   ],
   "source": [
    "pi_number"
   ]
  },
  {
   "cell_type": "code",
   "execution_count": 67,
   "metadata": {},
   "outputs": [
    {
     "data": {
      "text/plain": [
       "'ismail'"
      ]
     },
     "execution_count": 67,
     "metadata": {},
     "output_type": "execute_result"
    }
   ],
   "source": [
    "name"
   ]
  },
  {
   "cell_type": "code",
   "execution_count": 68,
   "metadata": {},
   "outputs": [
    {
     "ename": "SyntaxError",
     "evalue": "invalid syntax (737407983.py, line 1)",
     "output_type": "error",
     "traceback": [
      "\u001b[1;36m  Input \u001b[1;32mIn [68]\u001b[1;36m\u001b[0m\n\u001b[1;33m    2apples = 25 #değişken atarken başa sayı konulmaz.\u001b[0m\n\u001b[1;37m     ^\u001b[0m\n\u001b[1;31mSyntaxError\u001b[0m\u001b[1;31m:\u001b[0m invalid syntax\n"
     ]
    }
   ],
   "source": [
    "2apples = 25 #değişken atarken başa sayı konulmaz.\n",
    "apples2 = 23 "
   ]
  },
  {
   "cell_type": "code",
   "execution_count": null,
   "metadata": {},
   "outputs": [],
   "source": [
    "first_name = \"ismail\"\n",
    "f_n = \"liamsi\""
   ]
  },
  {
   "cell_type": "markdown",
   "metadata": {},
   "source": [
    "# DATA TYPES"
   ]
  },
  {
   "cell_type": "code",
   "execution_count": null,
   "metadata": {},
   "outputs": [
    {
     "name": "stdout",
     "output_type": "stream",
     "text": [
      "<class 'str'>\n"
     ]
    }
   ],
   "source": [
    "print(type(\"Hello World\"))"
   ]
  },
  {
   "cell_type": "code",
   "execution_count": null,
   "metadata": {},
   "outputs": [
    {
     "name": "stdout",
     "output_type": "stream",
     "text": [
      "<class 'int'>\n"
     ]
    }
   ],
   "source": [
    "print(type(3))"
   ]
  },
  {
   "cell_type": "code",
   "execution_count": null,
   "metadata": {},
   "outputs": [
    {
     "name": "stdout",
     "output_type": "stream",
     "text": [
      "<class 'float'>\n"
     ]
    }
   ],
   "source": [
    "print(type(3.6))"
   ]
  },
  {
   "cell_type": "code",
   "execution_count": null,
   "metadata": {},
   "outputs": [
    {
     "name": "stdout",
     "output_type": "stream",
     "text": [
      "<class 'bool'>\n"
     ]
    }
   ],
   "source": [
    "print(type(True))"
   ]
  },
  {
   "cell_type": "code",
   "execution_count": null,
   "metadata": {},
   "outputs": [
    {
     "data": {
      "text/plain": [
       "'Hello World'"
      ]
     },
     "execution_count": 28,
     "metadata": {},
     "output_type": "execute_result"
    }
   ],
   "source": [
    "\"Hello World\" #str"
   ]
  },
  {
   "cell_type": "code",
   "execution_count": null,
   "metadata": {},
   "outputs": [],
   "source": [
    "list_1 = [\"apple\" , 3 , 5.2]"
   ]
  },
  {
   "cell_type": "code",
   "execution_count": null,
   "metadata": {},
   "outputs": [],
   "source": [
    "x = \"17\""
   ]
  },
  {
   "cell_type": "code",
   "execution_count": null,
   "metadata": {},
   "outputs": [
    {
     "name": "stdout",
     "output_type": "stream",
     "text": [
      "17\n"
     ]
    }
   ],
   "source": [
    "print(int(x))"
   ]
  },
  {
   "cell_type": "code",
   "execution_count": null,
   "metadata": {},
   "outputs": [
    {
     "data": {
      "text/plain": [
       "2"
      ]
     },
     "execution_count": 4,
     "metadata": {},
     "output_type": "execute_result"
    }
   ],
   "source": [
    "b = 2.98\n",
    "c = int(b)\n",
    "c"
   ]
  },
  {
   "cell_type": "markdown",
   "metadata": {},
   "source": [
    "# Arithmetic Operations"
   ]
  },
  {
   "cell_type": "code",
   "execution_count": null,
   "metadata": {},
   "outputs": [
    {
     "data": {
      "text/plain": [
       "153.86"
      ]
     },
     "execution_count": 8,
     "metadata": {},
     "output_type": "execute_result"
    }
   ],
   "source": [
    "yarı_çap = 7\n",
    "pi = 3.14\n",
    "pi*yarı_çap**2"
   ]
  },
  {
   "cell_type": "code",
   "execution_count": null,
   "metadata": {},
   "outputs": [
    {
     "data": {
      "text/plain": [
       "4.0"
      ]
     },
     "execution_count": 9,
     "metadata": {},
     "output_type": "execute_result"
    }
   ],
   "source": [
    "16**0.5"
   ]
  },
  {
   "cell_type": "code",
   "execution_count": null,
   "metadata": {},
   "outputs": [
    {
     "data": {
      "text/plain": [
       "0.25"
      ]
     },
     "execution_count": 10,
     "metadata": {},
     "output_type": "execute_result"
    }
   ],
   "source": [
    "4**-1"
   ]
  },
  {
   "cell_type": "code",
   "execution_count": null,
   "metadata": {},
   "outputs": [
    {
     "data": {
      "text/plain": [
       "3"
      ]
     },
     "execution_count": 11,
     "metadata": {},
     "output_type": "execute_result"
    }
   ],
   "source": [
    "24//7"
   ]
  },
  {
   "cell_type": "code",
   "execution_count": null,
   "metadata": {},
   "outputs": [
    {
     "data": {
      "text/plain": [
       "4"
      ]
     },
     "execution_count": 12,
     "metadata": {},
     "output_type": "execute_result"
    }
   ],
   "source": [
    "25%7"
   ]
  },
  {
   "cell_type": "code",
   "execution_count": null,
   "metadata": {},
   "outputs": [],
   "source": [
    "x = \"elma\"\n",
    "y = \"portakal\"\n",
    "z = \"armut\"\n",
    "t = False\n",
    "k = 3.14"
   ]
  },
  {
   "cell_type": "code",
   "execution_count": null,
   "metadata": {},
   "outputs": [
    {
     "name": "stdout",
     "output_type": "stream",
     "text": [
      "elma portakal armut False 3.14\n"
     ]
    }
   ],
   "source": [
    "print(x, y, z, t, k)"
   ]
  },
  {
   "cell_type": "code",
   "execution_count": null,
   "metadata": {},
   "outputs": [
    {
     "name": "stdout",
     "output_type": "stream",
     "text": [
      "elma\n",
      "portakal\n",
      "armut\n",
      "False\n",
      "3.14\n"
     ]
    }
   ],
   "source": [
    "print(x, y, z, t, k, sep=\"\\n\")"
   ]
  },
  {
   "cell_type": "code",
   "execution_count": null,
   "metadata": {},
   "outputs": [
    {
     "name": "stdout",
     "output_type": "stream",
     "text": [
      "elma-portakal-armut-False-3.14\n"
     ]
    }
   ],
   "source": [
    "print(x, y, z, t, k, sep=\"-\")"
   ]
  },
  {
   "cell_type": "code",
   "execution_count": null,
   "metadata": {},
   "outputs": [
    {
     "name": "stdout",
     "output_type": "stream",
     "text": [
      "elma\n",
      "portakal-armut\n",
      "3.14*"
     ]
    }
   ],
   "source": [
    "# TASK\n",
    "print(x)\n",
    "print(y, z, sep=\"-\")\n",
    "print(k, end=\"*\")"
   ]
  },
  {
   "cell_type": "code",
   "execution_count": null,
   "metadata": {},
   "outputs": [
    {
     "name": "stdout",
     "output_type": "stream",
     "text": [
      "techpro \n",
      "education is \n",
      "perfect\n"
     ]
    }
   ],
   "source": [
    "print(\"techpro \\neducation is \\nperfect\")"
   ]
  },
  {
   "cell_type": "markdown",
   "metadata": {},
   "source": [
    "## Escape Sequences"
   ]
  },
  {
   "cell_type": "code",
   "execution_count": null,
   "metadata": {},
   "outputs": [
    {
     "name": "stdout",
     "output_type": "stream",
     "text": [
      "I'm a python teacher\n"
     ]
    }
   ],
   "source": [
    "print('I\\'m a python teacher')"
   ]
  },
  {
   "cell_type": "code",
   "execution_count": null,
   "metadata": {},
   "outputs": [
    {
     "name": "stdout",
     "output_type": "stream",
     "text": [
      "techpro education is \n",
      "perfect\n"
     ]
    }
   ],
   "source": [
    "print(\"techpro education is \\nperfect\") #\\n"
   ]
  },
  {
   "cell_type": "code",
   "execution_count": null,
   "metadata": {},
   "outputs": [
    {
     "name": "stdout",
     "output_type": "stream",
     "text": [
      "applorangbanana\n"
     ]
    }
   ],
   "source": [
    "print(\"apple\",\"orange\",\"banana\", sep=\"\\b\") #\\b"
   ]
  },
  {
   "cell_type": "code",
   "execution_count": null,
   "metadata": {},
   "outputs": [
    {
     "name": "stdout",
     "output_type": "stream",
     "text": [
      "B106 and B116 ar perfect\n"
     ]
    }
   ],
   "source": [
    "print(\"B106 and B116 are\\b perfect\")"
   ]
  },
  {
   "cell_type": "markdown",
   "metadata": {},
   "source": [
    "### ASCİİ"
   ]
  },
  {
   "cell_type": "code",
   "execution_count": null,
   "metadata": {},
   "outputs": [
    {
     "name": "stdout",
     "output_type": "stream",
     "text": [
      "iSMAiL\n"
     ]
    }
   ],
   "source": [
    "print(\"\\x69\\x53\\x4D\\x41\\x69\\x4C\")"
   ]
  },
  {
   "cell_type": "code",
   "execution_count": null,
   "metadata": {},
   "outputs": [
    {
     "name": "stdout",
     "output_type": "stream",
     "text": [
      "Hello World\n"
     ]
    }
   ],
   "source": [
    "print(\"\\x48\\x65\\x6C\\x6C\\x6F\\x20\\x57\\x6F\\x72\\x6C\\x64\")"
   ]
  },
  {
   "cell_type": "code",
   "execution_count": null,
   "metadata": {},
   "outputs": [
    {
     "data": {
      "text/plain": [
       "'H'"
      ]
     },
     "execution_count": 38,
     "metadata": {},
     "output_type": "execute_result"
    }
   ],
   "source": [
    "chr(72)"
   ]
  },
  {
   "cell_type": "code",
   "execution_count": null,
   "metadata": {},
   "outputs": [
    {
     "data": {
      "text/plain": [
       "72"
      ]
     },
     "execution_count": 39,
     "metadata": {},
     "output_type": "execute_result"
    }
   ],
   "source": [
    "ord(\"H\")"
   ]
  },
  {
   "cell_type": "code",
   "execution_count": null,
   "metadata": {},
   "outputs": [
    {
     "name": "stdout",
     "output_type": "stream",
     "text": [
      "Saat 2 Dakika 24 Saniye 14\n"
     ]
    }
   ],
   "source": [
    "verilen_saniye = int(input(\"Lütfen Saniyeyi Giriniz :\"))\n",
    "saat = (verilen_saniye // 3600)\n",
    "saatten_kalan = (verilen_saniye % 3600)\n",
    "dakika = (saatten_kalan // 60)\n",
    "saniye = (saatten_kalan % 60)\n",
    "print(f\"Saat {saat} Dakika {dakika} Saniye {saniye}\")"
   ]
  },
  {
   "cell_type": "code",
   "execution_count": null,
   "metadata": {},
   "outputs": [
    {
     "name": "stdout",
     "output_type": "stream",
     "text": [
      "kullanıcının yaşı 15\n"
     ]
    }
   ],
   "source": [
    "age = int(input(\"Enter your age :\"))\n",
    "print(f\"kullanıcının yaşı {age}\")"
   ]
  },
  {
   "cell_type": "code",
   "execution_count": null,
   "metadata": {},
   "outputs": [
    {
     "data": {
      "text/plain": [
       "157"
      ]
     },
     "execution_count": 10,
     "metadata": {},
     "output_type": "execute_result"
    }
   ],
   "source": [
    "round(156.6) # round : float bir sayıyı en yakın sayıya yuvarlar"
   ]
  },
  {
   "cell_type": "code",
   "execution_count": null,
   "metadata": {},
   "outputs": [],
   "source": [
    "x = 564.674"
   ]
  },
  {
   "cell_type": "code",
   "execution_count": null,
   "metadata": {},
   "outputs": [
    {
     "data": {
      "text/plain": [
       "564.674"
      ]
     },
     "execution_count": 12,
     "metadata": {},
     "output_type": "execute_result"
    }
   ],
   "source": [
    "x"
   ]
  },
  {
   "cell_type": "code",
   "execution_count": null,
   "metadata": {},
   "outputs": [
    {
     "data": {
      "text/plain": [
       "564.7"
      ]
     },
     "execution_count": 13,
     "metadata": {},
     "output_type": "execute_result"
    }
   ],
   "source": [
    "round(x,1)"
   ]
  },
  {
   "cell_type": "code",
   "execution_count": null,
   "metadata": {},
   "outputs": [
    {
     "data": {
      "text/plain": [
       "564.67"
      ]
     },
     "execution_count": 14,
     "metadata": {},
     "output_type": "execute_result"
    }
   ],
   "source": [
    "round(x,2)"
   ]
  },
  {
   "cell_type": "code",
   "execution_count": null,
   "metadata": {},
   "outputs": [
    {
     "data": {
      "text/plain": [
       "564.674"
      ]
     },
     "execution_count": 15,
     "metadata": {},
     "output_type": "execute_result"
    }
   ],
   "source": [
    "round(x,3)"
   ]
  },
  {
   "cell_type": "code",
   "execution_count": null,
   "metadata": {},
   "outputs": [
    {
     "data": {
      "text/plain": [
       "560.0"
      ]
     },
     "execution_count": 17,
     "metadata": {},
     "output_type": "execute_result"
    }
   ],
   "source": [
    "round(x,-1)"
   ]
  },
  {
   "cell_type": "code",
   "execution_count": null,
   "metadata": {},
   "outputs": [
    {
     "data": {
      "text/plain": [
       "600.0"
      ]
     },
     "execution_count": 18,
     "metadata": {},
     "output_type": "execute_result"
    }
   ],
   "source": [
    "round(x,-2)"
   ]
  },
  {
   "cell_type": "code",
   "execution_count": null,
   "metadata": {},
   "outputs": [
    {
     "data": {
      "text/plain": [
       "1000.0"
      ]
     },
     "execution_count": 19,
     "metadata": {},
     "output_type": "execute_result"
    }
   ],
   "source": [
    "round(x,-3)"
   ]
  },
  {
   "cell_type": "markdown",
   "metadata": {},
   "source": [
    "# Comparison Operators (karşılaştırma operatörleri)"
   ]
  },
  {
   "cell_type": "code",
   "execution_count": null,
   "metadata": {},
   "outputs": [
    {
     "data": {
      "text/plain": [
       "True"
      ]
     },
     "execution_count": 20,
     "metadata": {},
     "output_type": "execute_result"
    }
   ],
   "source": [
    "5 > 2 # büyüktür"
   ]
  },
  {
   "cell_type": "code",
   "execution_count": null,
   "metadata": {},
   "outputs": [
    {
     "data": {
      "text/plain": [
       "False"
      ]
     },
     "execution_count": 27,
     "metadata": {},
     "output_type": "execute_result"
    }
   ],
   "source": [
    "5 < 2 # küçüktür"
   ]
  },
  {
   "cell_type": "code",
   "execution_count": null,
   "metadata": {},
   "outputs": [
    {
     "data": {
      "text/plain": [
       "True"
      ]
     },
     "execution_count": 29,
     "metadata": {},
     "output_type": "execute_result"
    }
   ],
   "source": [
    "5 == 5 # == çift eşittir ile yazılır. Eşitlik olup olmadığını karşılaştırır"
   ]
  },
  {
   "cell_type": "code",
   "execution_count": null,
   "metadata": {},
   "outputs": [
    {
     "data": {
      "text/plain": [
       "False"
      ]
     },
     "execution_count": 24,
     "metadata": {},
     "output_type": "execute_result"
    }
   ],
   "source": [
    "5 == 9"
   ]
  },
  {
   "cell_type": "code",
   "execution_count": null,
   "metadata": {},
   "outputs": [
    {
     "data": {
      "text/plain": [
       "True"
      ]
     },
     "execution_count": 26,
     "metadata": {},
     "output_type": "execute_result"
    }
   ],
   "source": [
    "5 != 9 # != eşit değildir demek"
   ]
  },
  {
   "cell_type": "code",
   "execution_count": null,
   "metadata": {},
   "outputs": [
    {
     "data": {
      "text/plain": [
       "True"
      ]
     },
     "execution_count": 32,
     "metadata": {},
     "output_type": "execute_result"
    }
   ],
   "source": [
    "5 >= 5 # büyük eşittir"
   ]
  },
  {
   "cell_type": "code",
   "execution_count": null,
   "metadata": {},
   "outputs": [
    {
     "data": {
      "text/plain": [
       "False"
      ]
     },
     "execution_count": 31,
     "metadata": {},
     "output_type": "execute_result"
    }
   ],
   "source": [
    "5 >= 6"
   ]
  },
  {
   "cell_type": "code",
   "execution_count": null,
   "metadata": {},
   "outputs": [
    {
     "data": {
      "text/plain": [
       "True"
      ]
     },
     "execution_count": 33,
     "metadata": {},
     "output_type": "execute_result"
    }
   ],
   "source": [
    "5 <= 8 # küçük eşittir"
   ]
  },
  {
   "cell_type": "markdown",
   "metadata": {},
   "source": [
    "# Boolean"
   ]
  },
  {
   "cell_type": "code",
   "execution_count": null,
   "metadata": {},
   "outputs": [
    {
     "data": {
      "text/plain": [
       "True"
      ]
     },
     "execution_count": 34,
     "metadata": {},
     "output_type": "execute_result"
    }
   ],
   "source": [
    "bool(56)"
   ]
  },
  {
   "cell_type": "code",
   "execution_count": null,
   "metadata": {},
   "outputs": [
    {
     "data": {
      "text/plain": [
       "True"
      ]
     },
     "execution_count": 35,
     "metadata": {},
     "output_type": "execute_result"
    }
   ],
   "source": [
    "bool(23453)"
   ]
  },
  {
   "cell_type": "code",
   "execution_count": null,
   "metadata": {},
   "outputs": [
    {
     "data": {
      "text/plain": [
       "True"
      ]
     },
     "execution_count": 36,
     "metadata": {},
     "output_type": "execute_result"
    }
   ],
   "source": [
    "bool(2)"
   ]
  },
  {
   "cell_type": "code",
   "execution_count": null,
   "metadata": {},
   "outputs": [
    {
     "data": {
      "text/plain": [
       "True"
      ]
     },
     "execution_count": 37,
     "metadata": {},
     "output_type": "execute_result"
    }
   ],
   "source": [
    "bool(5.6)"
   ]
  },
  {
   "cell_type": "code",
   "execution_count": null,
   "metadata": {},
   "outputs": [
    {
     "data": {
      "text/plain": [
       "False"
      ]
     },
     "execution_count": 38,
     "metadata": {},
     "output_type": "execute_result"
    }
   ],
   "source": [
    "bool(0)"
   ]
  },
  {
   "cell_type": "code",
   "execution_count": null,
   "metadata": {},
   "outputs": [
    {
     "data": {
      "text/plain": [
       "True"
      ]
     },
     "execution_count": 39,
     "metadata": {},
     "output_type": "execute_result"
    }
   ],
   "source": [
    "bool(\"enes\")"
   ]
  },
  {
   "cell_type": "code",
   "execution_count": null,
   "metadata": {},
   "outputs": [
    {
     "data": {
      "text/plain": [
       "False"
      ]
     },
     "execution_count": 40,
     "metadata": {},
     "output_type": "execute_result"
    }
   ],
   "source": [
    "bool(\"\")"
   ]
  },
  {
   "cell_type": "code",
   "execution_count": null,
   "metadata": {},
   "outputs": [
    {
     "data": {
      "text/plain": [
       "True"
      ]
     },
     "execution_count": 41,
     "metadata": {},
     "output_type": "execute_result"
    }
   ],
   "source": [
    "bool(\" \")"
   ]
  },
  {
   "cell_type": "code",
   "execution_count": null,
   "metadata": {},
   "outputs": [
    {
     "data": {
      "text/plain": [
       "False"
      ]
     },
     "execution_count": 43,
     "metadata": {},
     "output_type": "execute_result"
    }
   ],
   "source": [
    "bool(0.0)"
   ]
  },
  {
   "cell_type": "code",
   "execution_count": null,
   "metadata": {},
   "outputs": [
    {
     "data": {
      "text/plain": [
       "False"
      ]
     },
     "execution_count": 49,
     "metadata": {},
     "output_type": "execute_result"
    }
   ],
   "source": [
    "bool([])"
   ]
  },
  {
   "cell_type": "code",
   "execution_count": null,
   "metadata": {},
   "outputs": [],
   "source": []
  },
  {
   "cell_type": "markdown",
   "metadata": {},
   "source": [
    "# Mantıksal İfadeler"
   ]
  },
  {
   "cell_type": "code",
   "execution_count": null,
   "metadata": {},
   "outputs": [],
   "source": [
    "#   işlem önceliği\n",
    "# 1-not \n",
    "# 2-and\n",
    "# 3-or"
   ]
  },
  {
   "cell_type": "code",
   "execution_count": null,
   "metadata": {},
   "outputs": [],
   "source": [
    "# not\n",
    "# Terse döndürür"
   ]
  },
  {
   "cell_type": "code",
   "execution_count": null,
   "metadata": {},
   "outputs": [],
   "source": [
    "#and\n",
    "#Hepsi True ise sondakini döndürür. Bir tane bile False varsa ilk gördüğü False ı döndürür."
   ]
  },
  {
   "cell_type": "code",
   "execution_count": null,
   "metadata": {},
   "outputs": [],
   "source": [
    "#or\n",
    "#Hepsi False ise son değeri döndürür. Bir tane bile True varsa ilk True değeri döndürür."
   ]
  },
  {
   "cell_type": "markdown",
   "metadata": {},
   "source": [
    "### Örnekler"
   ]
  },
  {
   "cell_type": "code",
   "execution_count": null,
   "metadata": {},
   "outputs": [
    {
     "data": {
      "text/plain": [
       "True"
      ]
     },
     "execution_count": 55,
     "metadata": {},
     "output_type": "execute_result"
    }
   ],
   "source": [
    "False or 5 and not 0"
   ]
  },
  {
   "cell_type": "code",
   "execution_count": null,
   "metadata": {},
   "outputs": [
    {
     "data": {
      "text/plain": [
       "6"
      ]
     },
     "execution_count": 56,
     "metadata": {},
     "output_type": "execute_result"
    }
   ],
   "source": [
    "False or not 0 and 6"
   ]
  },
  {
   "cell_type": "code",
   "execution_count": null,
   "metadata": {},
   "outputs": [
    {
     "name": "stdout",
     "output_type": "stream",
     "text": [
      "1\n"
     ]
    }
   ],
   "source": [
    "print(None or 1)"
   ]
  },
  {
   "cell_type": "code",
   "execution_count": null,
   "metadata": {},
   "outputs": [
    {
     "data": {
      "text/plain": [
       "True"
      ]
     },
     "execution_count": 59,
     "metadata": {},
     "output_type": "execute_result"
    }
   ],
   "source": [
    "False or True or False"
   ]
  },
  {
   "cell_type": "code",
   "execution_count": null,
   "metadata": {},
   "outputs": [
    {
     "data": {
      "text/plain": [
       "True"
      ]
     },
     "execution_count": 60,
     "metadata": {},
     "output_type": "execute_result"
    }
   ],
   "source": [
    "not False and True"
   ]
  },
  {
   "cell_type": "code",
   "execution_count": null,
   "metadata": {},
   "outputs": [
    {
     "name": "stdout",
     "output_type": "stream",
     "text": [
      "None or 1\n"
     ]
    }
   ],
   "source": [
    "print(\"None or 1\")"
   ]
  },
  {
   "cell_type": "code",
   "execution_count": null,
   "metadata": {},
   "outputs": [],
   "source": [
    "x = (4 // 7) ** (4 **(1 *2 / 2) / 2)"
   ]
  },
  {
   "cell_type": "code",
   "execution_count": null,
   "metadata": {},
   "outputs": [
    {
     "data": {
      "text/plain": [
       "4.0"
      ]
     },
     "execution_count": 3,
     "metadata": {},
     "output_type": "execute_result"
    }
   ],
   "source": [
    "x = (24 / 2) - (2 ** (1 * 8 / 2) / 2)\n",
    "x"
   ]
  },
  {
   "cell_type": "code",
   "execution_count": null,
   "metadata": {},
   "outputs": [
    {
     "data": {
      "text/plain": [
       "4"
      ]
     },
     "execution_count": 4,
     "metadata": {},
     "output_type": "execute_result"
    }
   ],
   "source": [
    "25 % 7"
   ]
  },
  {
   "cell_type": "code",
   "execution_count": null,
   "metadata": {},
   "outputs": [
    {
     "data": {
      "text/plain": [
       "20"
      ]
     },
     "execution_count": 5,
     "metadata": {},
     "output_type": "execute_result"
    }
   ],
   "source": [
    "t = 50\n",
    "t %= 30\n",
    "t"
   ]
  },
  {
   "cell_type": "code",
   "execution_count": null,
   "metadata": {},
   "outputs": [
    {
     "data": {
      "text/plain": [
       "1"
      ]
     },
     "execution_count": 6,
     "metadata": {},
     "output_type": "execute_result"
    }
   ],
   "source": [
    "x = 50\n",
    "x //= 30\n",
    "x"
   ]
  },
  {
   "cell_type": "code",
   "execution_count": null,
   "metadata": {},
   "outputs": [
    {
     "name": "stdout",
     "output_type": "stream",
     "text": [
      "selam \n",
      " arkadaşlar\n"
     ]
    }
   ],
   "source": [
    "print(\"selam \\n arkadaşlar\")"
   ]
  },
  {
   "cell_type": "code",
   "execution_count": null,
   "metadata": {},
   "outputs": [
    {
     "name": "stdout",
     "output_type": "stream",
     "text": [
      "selam \\n arkadaşlar\n"
     ]
    }
   ],
   "source": [
    "print(r\"selam \\n arkadaşlar\")"
   ]
  },
  {
   "cell_type": "code",
   "execution_count": null,
   "metadata": {},
   "outputs": [
    {
     "data": {
      "text/plain": [
       "{}"
      ]
     },
     "execution_count": 10,
     "metadata": {},
     "output_type": "execute_result"
    }
   ],
   "source": [
    "False or 0 or [] or {}"
   ]
  },
  {
   "cell_type": "code",
   "execution_count": null,
   "metadata": {},
   "outputs": [
    {
     "data": {
      "text/plain": [
       "True"
      ]
     },
     "execution_count": 11,
     "metadata": {},
     "output_type": "execute_result"
    }
   ],
   "source": [
    "False or 5 and not 0"
   ]
  },
  {
   "cell_type": "code",
   "execution_count": null,
   "metadata": {},
   "outputs": [
    {
     "name": "stdout",
     "output_type": "stream",
     "text": [
      "None or 1\n"
     ]
    }
   ],
   "source": [
    "print(\"None or 1\")"
   ]
  },
  {
   "cell_type": "markdown",
   "metadata": {},
   "source": [
    "# Strings"
   ]
  },
  {
   "cell_type": "code",
   "execution_count": null,
   "metadata": {},
   "outputs": [
    {
     "data": {
      "text/plain": [
       "'kırıkkale'"
      ]
     },
     "execution_count": 13,
     "metadata": {},
     "output_type": "execute_result"
    }
   ],
   "source": [
    "\"kırıkkale\""
   ]
  },
  {
   "cell_type": "code",
   "execution_count": null,
   "metadata": {},
   "outputs": [
    {
     "data": {
      "text/plain": [
       "'35'"
      ]
     },
     "execution_count": 14,
     "metadata": {},
     "output_type": "execute_result"
    }
   ],
   "source": [
    "\"35\""
   ]
  },
  {
   "cell_type": "code",
   "execution_count": null,
   "metadata": {},
   "outputs": [
    {
     "data": {
      "text/plain": [
       "'*/?0=('"
      ]
     },
     "execution_count": 15,
     "metadata": {},
     "output_type": "execute_result"
    }
   ],
   "source": [
    "\"*/?0=(\""
   ]
  },
  {
   "cell_type": "code",
   "execution_count": null,
   "metadata": {},
   "outputs": [],
   "source": [
    "# Indexing & Slicing"
   ]
  },
  {
   "cell_type": "code",
   "execution_count": null,
   "metadata": {},
   "outputs": [
    {
     "data": {
      "text/plain": [
       "'k'"
      ]
     },
     "execution_count": 17,
     "metadata": {},
     "output_type": "execute_result"
    }
   ],
   "source": [
    "\"kırıkkale\"[0]"
   ]
  },
  {
   "cell_type": "code",
   "execution_count": null,
   "metadata": {},
   "outputs": [
    {
     "data": {
      "text/plain": [
       "'ı'"
      ]
     },
     "execution_count": 18,
     "metadata": {},
     "output_type": "execute_result"
    }
   ],
   "source": [
    "\"kırıkkale\"[1]"
   ]
  },
  {
   "cell_type": "code",
   "execution_count": null,
   "metadata": {},
   "outputs": [
    {
     "data": {
      "text/plain": [
       "'e'"
      ]
     },
     "execution_count": 19,
     "metadata": {},
     "output_type": "execute_result"
    }
   ],
   "source": [
    "\"kırıkkale\"[8]"
   ]
  },
  {
   "cell_type": "code",
   "execution_count": null,
   "metadata": {},
   "outputs": [
    {
     "data": {
      "text/plain": [
       "'e'"
      ]
     },
     "execution_count": 21,
     "metadata": {},
     "output_type": "execute_result"
    }
   ],
   "source": [
    "\"kırıkkale\"[-1]"
   ]
  },
  {
   "cell_type": "code",
   "execution_count": null,
   "metadata": {},
   "outputs": [
    {
     "data": {
      "text/plain": [
       "'kale'"
      ]
     },
     "execution_count": 26,
     "metadata": {},
     "output_type": "execute_result"
    }
   ],
   "source": [
    "\"kırıkkale\"[5:]"
   ]
  },
  {
   "cell_type": "code",
   "execution_count": null,
   "metadata": {},
   "outputs": [
    {
     "data": {
      "text/plain": [
       "'kale'"
      ]
     },
     "execution_count": 27,
     "metadata": {},
     "output_type": "execute_result"
    }
   ],
   "source": [
    "\"kırıkkale\"[5:1000]"
   ]
  },
  {
   "cell_type": "code",
   "execution_count": null,
   "metadata": {},
   "outputs": [
    {
     "data": {
      "text/plain": [
       "''"
      ]
     },
     "execution_count": 28,
     "metadata": {},
     "output_type": "execute_result"
    }
   ],
   "source": [
    "\"kırıkkale\"[9:]"
   ]
  },
  {
   "cell_type": "code",
   "execution_count": null,
   "metadata": {},
   "outputs": [
    {
     "data": {
      "text/plain": [
       "'rık'"
      ]
     },
     "execution_count": 30,
     "metadata": {},
     "output_type": "execute_result"
    }
   ],
   "source": [
    "\"kırıkkale\"[2:5]"
   ]
  },
  {
   "cell_type": "code",
   "execution_count": null,
   "metadata": {},
   "outputs": [
    {
     "data": {
      "text/plain": [
       "'rıkka'"
      ]
     },
     "execution_count": 31,
     "metadata": {},
     "output_type": "execute_result"
    }
   ],
   "source": [
    "\"kırıkkale\"[2:7:1]"
   ]
  },
  {
   "cell_type": "code",
   "execution_count": null,
   "metadata": {},
   "outputs": [
    {
     "data": {
      "text/plain": [
       "'rka'"
      ]
     },
     "execution_count": 32,
     "metadata": {},
     "output_type": "execute_result"
    }
   ],
   "source": [
    "\"kırıkkale\"[2:7:2]"
   ]
  },
  {
   "cell_type": "code",
   "execution_count": null,
   "metadata": {},
   "outputs": [],
   "source": [
    "name = \"TechPro Education\""
   ]
  },
  {
   "cell_type": "code",
   "execution_count": null,
   "metadata": {},
   "outputs": [
    {
     "data": {
      "text/plain": [
       "'ro Education'"
      ]
     },
     "execution_count": 34,
     "metadata": {},
     "output_type": "execute_result"
    }
   ],
   "source": [
    "name[5:]"
   ]
  },
  {
   "cell_type": "code",
   "execution_count": null,
   "metadata": {},
   "outputs": [
    {
     "data": {
      "text/plain": [
       "'crEc'"
      ]
     },
     "execution_count": 35,
     "metadata": {},
     "output_type": "execute_result"
    }
   ],
   "source": [
    "name[2:14:3]"
   ]
  },
  {
   "cell_type": "code",
   "execution_count": null,
   "metadata": {},
   "outputs": [
    {
     "data": {
      "text/plain": [
       "''"
      ]
     },
     "execution_count": 36,
     "metadata": {},
     "output_type": "execute_result"
    }
   ],
   "source": [
    "name[10:5]"
   ]
  },
  {
   "cell_type": "code",
   "execution_count": null,
   "metadata": {},
   "outputs": [
    {
     "data": {
      "text/plain": [
       "'udE o'"
      ]
     },
     "execution_count": 38,
     "metadata": {},
     "output_type": "execute_result"
    }
   ],
   "source": [
    "name[10:5:-1]"
   ]
  },
  {
   "cell_type": "code",
   "execution_count": null,
   "metadata": {},
   "outputs": [
    {
     "data": {
      "text/plain": [
       "'u'"
      ]
     },
     "execution_count": 39,
     "metadata": {},
     "output_type": "execute_result"
    }
   ],
   "source": [
    "name[10:5:-8]"
   ]
  },
  {
   "cell_type": "code",
   "execution_count": null,
   "metadata": {},
   "outputs": [
    {
     "data": {
      "text/plain": [
       "'Pro'"
      ]
     },
     "execution_count": 41,
     "metadata": {},
     "output_type": "execute_result"
    }
   ],
   "source": [
    "name1 = \"TechPro Education\"[4:7]\n",
    "name1"
   ]
  },
  {
   "cell_type": "code",
   "execution_count": null,
   "metadata": {},
   "outputs": [
    {
     "data": {
      "text/plain": [
       "'ProEducation'"
      ]
     },
     "execution_count": 42,
     "metadata": {},
     "output_type": "execute_result"
    }
   ],
   "source": [
    "name2 = \"TechPro Education\"[4:7] + \"TechPro Education\"[8:]\n",
    "name2"
   ]
  },
  {
   "cell_type": "code",
   "execution_count": null,
   "metadata": {},
   "outputs": [
    {
     "name": "stdout",
     "output_type": "stream",
     "text": [
      "thematics\n",
      "mathe\n",
      "mhac\n",
      "teais\n",
      "tics\n",
      "scitamehtam\n"
     ]
    }
   ],
   "source": [
    "lesson = \"mathematics\"\n",
    "print(lesson[2:])\n",
    "print(lesson[:5])\n",
    "print(lesson[::3])\n",
    "print(lesson[2:15:2])\n",
    "print(lesson[-4:])\n",
    "print(lesson[::-1])"
   ]
  },
  {
   "cell_type": "code",
   "execution_count": null,
   "metadata": {},
   "outputs": [
    {
     "data": {
      "text/plain": [
       "''"
      ]
     },
     "execution_count": 45,
     "metadata": {},
     "output_type": "execute_result"
    }
   ],
   "source": [
    "name[-3:-1:-1]"
   ]
  },
  {
   "cell_type": "code",
   "execution_count": null,
   "metadata": {},
   "outputs": [
    {
     "name": "stdout",
     "output_type": "stream",
     "text": [
      "appleapple+orangeorangeorange\n"
     ]
    }
   ],
   "source": [
    "fruit1 = \"orange\"\n",
    "fruit2 = \"apple\"\n",
    "\n",
    "\n",
    "print(2 * fruit2 + \"+\" + 3 * fruit1)"
   ]
  },
  {
   "cell_type": "code",
   "execution_count": null,
   "metadata": {},
   "outputs": [
    {
     "name": "stdout",
     "output_type": "stream",
     "text": [
      "TechPro\n"
     ]
    }
   ],
   "source": [
    "print('Tech' + \"\"\"Pro\"\"\")"
   ]
  },
  {
   "cell_type": "code",
   "execution_count": null,
   "metadata": {},
   "outputs": [
    {
     "name": "stdout",
     "output_type": "stream",
     "text": [
      "Tech\tPro\n"
     ]
    }
   ],
   "source": [
    "name = \"Tech\"\n",
    "name += \"\\tPro\"\n",
    "print(name)"
   ]
  },
  {
   "cell_type": "code",
   "execution_count": null,
   "metadata": {},
   "outputs": [
    {
     "name": "stdout",
     "output_type": "stream",
     "text": [
      "yesreJ weN\n"
     ]
    }
   ],
   "source": [
    "city = \"New Jersey\"\n",
    "print(city[::-1])"
   ]
  },
  {
   "cell_type": "code",
   "execution_count": null,
   "metadata": {},
   "outputs": [
    {
     "name": "stdout",
     "output_type": "stream",
     "text": [
      "I ate orange and apple.\n"
     ]
    }
   ],
   "source": [
    "print(f\"I ate {fruit1} and {fruit2}.\")"
   ]
  },
  {
   "cell_type": "code",
   "execution_count": null,
   "metadata": {},
   "outputs": [
    {
     "name": "stdout",
     "output_type": "stream",
     "text": [
      "I ate orange and apple.\n"
     ]
    }
   ],
   "source": [
    "print(\"I ate {} and {}.\".format(fruit1,fruit2))"
   ]
  },
  {
   "cell_type": "code",
   "execution_count": null,
   "metadata": {},
   "outputs": [
    {
     "name": "stdout",
     "output_type": "stream",
     "text": [
      "I ate apple and orange.\n"
     ]
    }
   ],
   "source": [
    "print(\"I ate {1} and {0}.\".format(fruit1,fruit2)) # indexleme devreye girdi"
   ]
  },
  {
   "cell_type": "code",
   "execution_count": null,
   "metadata": {},
   "outputs": [
    {
     "name": "stdout",
     "output_type": "stream",
     "text": [
      "I ate orange and orange.\n"
     ]
    }
   ],
   "source": [
    "print(\"I ate {0} and {0}.\".format(fruit1))"
   ]
  },
  {
   "cell_type": "code",
   "execution_count": null,
   "metadata": {},
   "outputs": [
    {
     "name": "stdout",
     "output_type": "stream",
     "text": [
      "I ate apple and apple.\n"
     ]
    }
   ],
   "source": [
    "print(\"I ate {1} and {1}.\".format(fruit1,fruit2))"
   ]
  },
  {
   "cell_type": "code",
   "execution_count": null,
   "metadata": {},
   "outputs": [
    {
     "name": "stdout",
     "output_type": "stream",
     "text": [
      "I ate orange.\n"
     ]
    }
   ],
   "source": [
    "print(\"I ate {}.\".format(fruit1,fruit2))"
   ]
  },
  {
   "cell_type": "code",
   "execution_count": null,
   "metadata": {},
   "outputs": [
    {
     "name": "stdout",
     "output_type": "stream",
     "text": [
      "Keçiören Ankara en büyük ilçesidir\n"
     ]
    }
   ],
   "source": [
    "print(\"{ilçe} {il} en büyük ilçesidir\".format(ilçe = \"Keçiören\",il = \"Ankara\"))"
   ]
  },
  {
   "cell_type": "code",
   "execution_count": null,
   "metadata": {},
   "outputs": [
    {
     "name": "stdout",
     "output_type": "stream",
     "text": [
      "Keçiören Ankara en büyük ilçesidir\n"
     ]
    }
   ],
   "source": [
    "ilçe = \"Keçiören\"\n",
    "il = \"Ankara\"\n",
    "print(f\"{ilçe} {il} en büyük ilçesidir\")"
   ]
  },
  {
   "cell_type": "markdown",
   "metadata": {},
   "source": [
    "### immutability"
   ]
  },
  {
   "cell_type": "code",
   "execution_count": null,
   "metadata": {},
   "outputs": [],
   "source": [
    "str1 = \"We didn't leave anyone Behind.\""
   ]
  },
  {
   "cell_type": "code",
   "execution_count": null,
   "metadata": {},
   "outputs": [
    {
     "data": {
      "text/plain": [
       "\"we didn't leave anyone behind.\""
      ]
     },
     "execution_count": 4,
     "metadata": {},
     "output_type": "execute_result"
    }
   ],
   "source": [
    "str1.lower() # .lower() : str deki bütün harfleri küçük harf yapar."
   ]
  },
  {
   "cell_type": "code",
   "execution_count": null,
   "metadata": {},
   "outputs": [
    {
     "name": "stdout",
     "output_type": "stream",
     "text": [
      "we didn't leave anyone behind.\n",
      "We didn't leave anyone Behind.\n"
     ]
    }
   ],
   "source": [
    "print(str1.lower())\n",
    "print(str1)"
   ]
  },
  {
   "cell_type": "code",
   "execution_count": null,
   "metadata": {},
   "outputs": [
    {
     "data": {
      "text/plain": [
       "\"We Didn'T Leave Anyone Behind.\""
      ]
     },
     "execution_count": 10,
     "metadata": {},
     "output_type": "execute_result"
    }
   ],
   "source": [
    "str1.title() # .title() : str deki bütün kelimelerin ilk harfini büyük yapar."
   ]
  },
  {
   "cell_type": "code",
   "execution_count": null,
   "metadata": {},
   "outputs": [
    {
     "data": {
      "text/plain": [
       "\"We didn't leave anyone behind.\""
      ]
     },
     "execution_count": 12,
     "metadata": {},
     "output_type": "execute_result"
    }
   ],
   "source": [
    "str1.capitalize() # .capitalize() : cümlenin baş harfini büyük geriye kalan harfleri küçük yapar."
   ]
  },
  {
   "cell_type": "code",
   "execution_count": null,
   "metadata": {},
   "outputs": [
    {
     "data": {
      "text/plain": [
       "\"We didn't leave anyone Behind.\""
      ]
     },
     "execution_count": 13,
     "metadata": {},
     "output_type": "execute_result"
    }
   ],
   "source": [
    "str1"
   ]
  },
  {
   "cell_type": "code",
   "execution_count": null,
   "metadata": {},
   "outputs": [
    {
     "data": {
      "text/plain": [
       "'Pazardan 1 Elma Aldım'"
      ]
     },
     "execution_count": 14,
     "metadata": {},
     "output_type": "execute_result"
    }
   ],
   "source": [
    "\"pazardan 1 elma aldım\".title()"
   ]
  },
  {
   "cell_type": "code",
   "execution_count": null,
   "metadata": {},
   "outputs": [
    {
     "data": {
      "text/plain": [
       "\"WE DIDN'T LEAVE ANYONE BEHIND.\""
      ]
     },
     "execution_count": 16,
     "metadata": {},
     "output_type": "execute_result"
    }
   ],
   "source": [
    "str1.upper() # .upper() : str deki bütün harfleri büyük yapar."
   ]
  },
  {
   "cell_type": "code",
   "execution_count": null,
   "metadata": {},
   "outputs": [
    {
     "data": {
      "text/plain": [
       "\"wE DIDN'T LEAVE ANYONE bEHIND.\""
      ]
     },
     "execution_count": 18,
     "metadata": {},
     "output_type": "execute_result"
    }
   ],
   "source": [
    "str1.swapcase() # .swapcase() : str deki bütün harfleri büyükse küçük küçükse büyük yapar."
   ]
  },
  {
   "cell_type": "code",
   "execution_count": null,
   "metadata": {},
   "outputs": [
    {
     "data": {
      "text/plain": [
       "\"WE DIDN'T LEAVE ANYONE BEHIND.\""
      ]
     },
     "execution_count": 19,
     "metadata": {},
     "output_type": "execute_result"
    }
   ],
   "source": [
    "str1.lower().swapcase()"
   ]
  },
  {
   "cell_type": "code",
   "execution_count": null,
   "metadata": {},
   "outputs": [
    {
     "data": {
      "text/plain": [
       "\"We didn't lexve xnyone Behind.\""
      ]
     },
     "execution_count": 22,
     "metadata": {},
     "output_type": "execute_result"
    }
   ],
   "source": [
    "str1.replace(\"a\",\"x\") # .replace() : parantez içine girilen ilk harf yada kelimeyi girilen ikin ciyle str de değiştirir."
   ]
  },
  {
   "cell_type": "code",
   "execution_count": null,
   "metadata": {},
   "outputs": [
    {
     "data": {
      "text/plain": [
       "False"
      ]
     },
     "execution_count": 27,
     "metadata": {},
     "output_type": "execute_result"
    }
   ],
   "source": [
    "str1.isalnum() # .isalnum() : str de sadece harfler varsa True boşluk, sayı, sembol varsa False döndürür."
   ]
  },
  {
   "cell_type": "code",
   "execution_count": null,
   "metadata": {},
   "outputs": [
    {
     "data": {
      "text/plain": [
       "True"
      ]
     },
     "execution_count": 26,
     "metadata": {},
     "output_type": "execute_result"
    }
   ],
   "source": [
    "x = \"naberolum\"\n",
    "x.isalnum()"
   ]
  },
  {
   "cell_type": "code",
   "execution_count": null,
   "metadata": {},
   "outputs": [
    {
     "data": {
      "text/plain": [
       "True"
      ]
     },
     "execution_count": 30,
     "metadata": {},
     "output_type": "execute_result"
    }
   ],
   "source": [
    "x.isascii() # .isascii() : str deki bütün karakterler ASCİİ tablosunda varsa True döndürür diğerlerini False döndürür."
   ]
  },
  {
   "cell_type": "code",
   "execution_count": null,
   "metadata": {},
   "outputs": [],
   "source": [
    "google_str = \"\"\"Ben umut nedir bilmezdim. Elimden kimse tutmazdı benim, ya da kimse saçımı okşayıp sevmezdi beni..\n",
    "eksiktim, yarımdım ama ne olursa olsun güclüydüm.\n",
    "Tek başıma da olsa her zaman ayağa kalkmayı başarırdım.\"\"\""
   ]
  },
  {
   "cell_type": "code",
   "execution_count": null,
   "metadata": {},
   "outputs": [
    {
     "data": {
      "text/plain": [
       "2"
      ]
     },
     "execution_count": 42,
     "metadata": {},
     "output_type": "execute_result"
    }
   ],
   "source": [
    "google_str.count(\"ben\") # .count() : parantezdekini str de kaçtane var sayar."
   ]
  },
  {
   "cell_type": "code",
   "execution_count": null,
   "metadata": {},
   "outputs": [
    {
     "data": {
      "text/plain": [
       "3"
      ]
     },
     "execution_count": 43,
     "metadata": {},
     "output_type": "execute_result"
    }
   ],
   "source": [
    "google_str.count(\"Ben\") + google_str.count(\"ben\")"
   ]
  },
  {
   "cell_type": "code",
   "execution_count": null,
   "metadata": {},
   "outputs": [
    {
     "data": {
      "text/plain": [
       "5"
      ]
     },
     "execution_count": 50,
     "metadata": {},
     "output_type": "execute_result"
    }
   ],
   "source": [
    "x.find(\"olum\") # .find() : str de parantezdeki varsa olduğu yerin sayısını yok sa -1 der."
   ]
  },
  {
   "cell_type": "code",
   "execution_count": null,
   "metadata": {},
   "outputs": [
    {
     "data": {
      "text/plain": [
       "-1"
      ]
     },
     "execution_count": 60,
     "metadata": {},
     "output_type": "execute_result"
    }
   ],
   "source": [
    "x.find(\"aga\")"
   ]
  },
  {
   "cell_type": "markdown",
   "metadata": {},
   "source": [
    "#### .split()"
   ]
  },
  {
   "cell_type": "code",
   "execution_count": 71,
   "metadata": {},
   "outputs": [
    {
     "data": {
      "text/plain": [
       "['We', \"didn't\", 'leave', 'anyone', 'Behind.']"
      ]
     },
     "execution_count": 71,
     "metadata": {},
     "output_type": "execute_result"
    }
   ],
   "source": [
    "str1.split() # .split() : str deki boşluklardan kelimeri ayırıp hepsini listeye atar."
   ]
  },
  {
   "cell_type": "code",
   "execution_count": 72,
   "metadata": {},
   "outputs": [
    {
     "data": {
      "text/plain": [
       "[\"We didn't leave anyone Behind.\"]"
      ]
     },
     "execution_count": 72,
     "metadata": {},
     "output_type": "execute_result"
    }
   ],
   "source": [
    "str1.split(\"is\",maxsplit=1)"
   ]
  },
  {
   "cell_type": "code",
   "execution_count": 75,
   "metadata": {},
   "outputs": [
    {
     "data": {
      "text/plain": [
       "\" didn't leave anyone Behind.\""
      ]
     },
     "execution_count": 75,
     "metadata": {},
     "output_type": "execute_result"
    }
   ],
   "source": [
    "str1.strip(\"We\") # .strip() : parantezde yazanı str den siler. "
   ]
  },
  {
   "cell_type": "code",
   "execution_count": 76,
   "metadata": {},
   "outputs": [
    {
     "data": {
      "text/plain": [
       "False"
      ]
     },
     "execution_count": 76,
     "metadata": {},
     "output_type": "execute_result"
    }
   ],
   "source": [
    "str1.endswith(\"did\")"
   ]
  },
  {
   "cell_type": "code",
   "execution_count": 77,
   "metadata": {},
   "outputs": [
    {
     "name": "stdout",
     "output_type": "stream",
     "text": [
      "True\n"
     ]
    }
   ],
   "source": [
    "print(\"15000$\".endswith(\"$\"))"
   ]
  },
  {
   "cell_type": "code",
   "execution_count": 78,
   "metadata": {},
   "outputs": [],
   "source": [
    "mood = \"Bugün nasılsın?\""
   ]
  },
  {
   "cell_type": "code",
   "execution_count": 79,
   "metadata": {},
   "outputs": [
    {
     "name": "stdout",
     "output_type": "stream",
     "text": [
      "bugün nasilsin?\n"
     ]
    }
   ],
   "source": [
    "print(mood.upper().swapcase())"
   ]
  },
  {
   "cell_type": "code",
   "execution_count": 80,
   "metadata": {},
   "outputs": [
    {
     "data": {
      "text/plain": [
       "'bUGÜN NASILSIN?'"
      ]
     },
     "execution_count": 80,
     "metadata": {},
     "output_type": "execute_result"
    }
   ],
   "source": [
    "mood.swapcase()"
   ]
  },
  {
   "cell_type": "code",
   "execution_count": 82,
   "metadata": {},
   "outputs": [
    {
     "data": {
      "text/plain": [
       "'Bugün Nasılsın?'"
      ]
     },
     "execution_count": 82,
     "metadata": {},
     "output_type": "execute_result"
    }
   ],
   "source": [
    "mood.title()"
   ]
  },
  {
   "cell_type": "code",
   "execution_count": 83,
   "metadata": {},
   "outputs": [
    {
     "name": "stdout",
     "output_type": "stream",
     "text": [
      "bugün nasılsın?\n",
      "Bugün nasılsın?\n",
      "Bugün nasılsın?\n"
     ]
    }
   ],
   "source": [
    "print(mood.lower())\n",
    "print(mood.capitalize())\n",
    "print(mood)"
   ]
  },
  {
   "cell_type": "markdown",
   "metadata": {},
   "source": [
    "# len()"
   ]
  },
  {
   "cell_type": "markdown",
   "metadata": {},
   "source": [
    "## len() : str de kaç tane karakteri olduğunu sayar."
   ]
  },
  {
   "cell_type": "code",
   "execution_count": 84,
   "metadata": {},
   "outputs": [
    {
     "data": {
      "text/plain": [
       "17"
      ]
     },
     "execution_count": 84,
     "metadata": {},
     "output_type": "execute_result"
    }
   ],
   "source": [
    "len(\"TechPro education\")"
   ]
  },
  {
   "cell_type": "code",
   "execution_count": 85,
   "metadata": {},
   "outputs": [
    {
     "data": {
      "text/plain": [
       "24"
      ]
     },
     "execution_count": 85,
     "metadata": {},
     "output_type": "execute_result"
    }
   ],
   "source": [
    "len(\"TechPro education\") + len(\"TechPro\")"
   ]
  },
  {
   "cell_type": "code",
   "execution_count": 86,
   "metadata": {},
   "outputs": [
    {
     "data": {
      "text/plain": [
       "3"
      ]
     },
     "execution_count": 86,
     "metadata": {},
     "output_type": "execute_result"
    }
   ],
   "source": [
    "len(\"techpro\"[2:6])"
   ]
  },
  {
   "cell_type": "code",
   "execution_count": 87,
   "metadata": {},
   "outputs": [
    {
     "data": {
      "text/plain": [
       "'chpr'"
      ]
     },
     "execution_count": 87,
     "metadata": {},
     "output_type": "execute_result"
    }
   ],
   "source": [
    "\"techpro\"[2:6]"
   ]
  },
  {
   "cell_type": "code",
   "execution_count": 88,
   "metadata": {},
   "outputs": [
    {
     "data": {
      "text/plain": [
       "6"
      ]
     },
     "execution_count": 88,
     "metadata": {},
     "output_type": "execute_result"
    }
   ],
   "source": [
    "len(\"techpro\"[2:6] + \"edu\"[:2])"
   ]
  },
  {
   "cell_type": "code",
   "execution_count": 90,
   "metadata": {},
   "outputs": [
    {
     "data": {
      "text/plain": [
       "4"
      ]
     },
     "execution_count": 90,
     "metadata": {},
     "output_type": "execute_result"
    }
   ],
   "source": [
    "len(\"1453\")"
   ]
  },
  {
   "cell_type": "markdown",
   "metadata": {},
   "source": [
    "# If Elif Else"
   ]
  },
  {
   "cell_type": "code",
   "execution_count": 4,
   "metadata": {},
   "outputs": [
    {
     "name": "stdout",
     "output_type": "stream",
     "text": [
      "27\n"
     ]
    }
   ],
   "source": [
    "if 5 > 2:\n",
    "    print(3 * 9)"
   ]
  },
  {
   "cell_type": "code",
   "execution_count": 3,
   "metadata": {},
   "outputs": [],
   "source": [
    "if 5 < 2:\n",
    "    print(3 * 9)"
   ]
  },
  {
   "cell_type": "code",
   "execution_count": 5,
   "metadata": {},
   "outputs": [
    {
     "name": "stdout",
     "output_type": "stream",
     "text": [
      "5, 2 den küçük değildir\n"
     ]
    }
   ],
   "source": [
    "if 5 < 2:\n",
    "    print(\"Doğru Değil\")\n",
    "else:\n",
    "    print(\"5, 2 den küçük değildir\")"
   ]
  },
  {
   "cell_type": "code",
   "execution_count": 14,
   "metadata": {},
   "outputs": [
    {
     "name": "stdout",
     "output_type": "stream",
     "text": [
      "if\n"
     ]
    }
   ],
   "source": [
    "x = -1\n",
    "if x < 2:\n",
    "    print(\"if\")\n",
    "elif x > 5:\n",
    "    print(\"elif\")\n",
    "else:\n",
    "    print(\"else\")"
   ]
  },
  {
   "cell_type": "code",
   "execution_count": 15,
   "metadata": {},
   "outputs": [],
   "source": [
    "#30 dahil \"daha çok gençsin\"\n",
    "#30 ile 50 dahil arasında ise \"çocuklar nasıl\"\n",
    "#50 den büyükse \"ellerinden öperim\""
   ]
  },
  {
   "cell_type": "code",
   "execution_count": 16,
   "metadata": {},
   "outputs": [
    {
     "name": "stdout",
     "output_type": "stream",
     "text": [
      "Daha büyüyecek abisi :)\n"
     ]
    }
   ],
   "source": [
    "x = int(input(\"Enter Your Age :\"))\n",
    "if x > 30:\n",
    "    print(\"Daha çok gençsin\")\n",
    "elif 30 < x < 50:\n",
    "    print(\"Çocuklar nasıl ?\")\n",
    "elif 50 < x:\n",
    "    print(\"Ellerinden öperim\")\n",
    "else:\n",
    "    print(\"Daha büyüyecek abisi :)\")"
   ]
  },
  {
   "cell_type": "code",
   "execution_count": 17,
   "metadata": {},
   "outputs": [
    {
     "name": "stdout",
     "output_type": "stream",
     "text": [
      "Sayıların toplamı 100\n"
     ]
    }
   ],
   "source": [
    "birinci = int(input(\"1. sayı\"))\n",
    "ikinci = int(input(\"2. sayı\"))\n",
    "toplam = (birinci + ikinci)\n",
    "print(f\"Sayıların toplamı {toplam}\")"
   ]
  },
  {
   "cell_type": "code",
   "execution_count": 20,
   "metadata": {},
   "outputs": [
    {
     "name": "stdout",
     "output_type": "stream",
     "text": [
      "56 sayısıyla 12 sayısının farkıyla toplamının çarpımı : 2992\n"
     ]
    }
   ],
   "source": [
    "num1 = int(input(\"1. sayı\"))\n",
    "num2 = int(input(\"2. sayı\"))\n",
    "sonuc = ((num1 - num2) * (num1 + num2))\n",
    "print(f\"{num1} sayısıyla {num2} sayısının farkıyla toplamının çarpımı : {sonuc}\")"
   ]
  },
  {
   "cell_type": "code",
   "execution_count": 22,
   "metadata": {},
   "outputs": [
    {
     "name": "stdout",
     "output_type": "stream",
     "text": [
      "boyunuz 1.63, kilonuz 86 vicut kitle indeksi 32.36854981369265\n"
     ]
    }
   ],
   "source": [
    "boy = float(input(\"Lütfen Boyunuzu Metre Cinsinden Giriniz :\"))\n",
    "kilo = int(input(\"Lütfen Kilonuzu Kilogram Cinsinden Giriniz :\"))\n",
    "sonuc = (kilo / boy ** 2)\n",
    "print(f\"boyunuz {boy}, kilonuz {kilo} vicut kitle indeksi {sonuc}\")"
   ]
  },
  {
   "cell_type": "code",
   "execution_count": 26,
   "metadata": {},
   "outputs": [
    {
     "name": "stdout",
     "output_type": "stream",
     "text": [
      "15 51\n"
     ]
    }
   ],
   "source": [
    "y = int(input(\"1. sayıyı giriniz :\"))\n",
    "x = int(input(\"2. sayıyı giriniz :\"))\n",
    "y,x = x,y\n",
    "print(x,y)"
   ]
  },
  {
   "cell_type": "code",
   "execution_count": 28,
   "metadata": {},
   "outputs": [
    {
     "name": "stdout",
     "output_type": "stream",
     "text": [
      "ürünün fiyatı 18 geriye kalan para 2\n"
     ]
    }
   ],
   "source": [
    "ürünfiyat = (200 // 11)\n",
    "geriyekalan = (200 % 11)\n",
    "print(f\"ürünün fiyatı {ürünfiyat} geriye kalan para {geriyekalan}\")"
   ]
  },
  {
   "cell_type": "code",
   "execution_count": 30,
   "metadata": {},
   "outputs": [
    {
     "name": "stdout",
     "output_type": "stream",
     "text": [
      "selamselamselamselamselam\n"
     ]
    }
   ],
   "source": [
    "x = str(input(\"Bir metin giriniz :\"))\n",
    "y = int(input(\"Bir sayı giriniz :\"))\n",
    "print(x * y)"
   ]
  },
  {
   "cell_type": "code",
   "execution_count": 34,
   "metadata": {},
   "outputs": [
    {
     "name": "stdout",
     "output_type": "stream",
     "text": [
      "kelime :Naber \n",
      "sayı :3\n",
      "berberber\n"
     ]
    }
   ],
   "source": [
    "x = str(input(\"Bir kelime giriniz :\"))\n",
    "y = int(input(\"Bir sayı giriniz :\"))\n",
    "print(f\"kelime :{x} \\nsayı :{y}\")\n",
    "print(x[-3:] * 3)"
   ]
  },
  {
   "cell_type": "code",
   "execution_count": 35,
   "metadata": {},
   "outputs": [
    {
     "data": {
      "text/plain": [
       "'ProProPro'"
      ]
     },
     "execution_count": 35,
     "metadata": {},
     "output_type": "execute_result"
    }
   ],
   "source": [
    "\"TechPro\"[-3:]*3"
   ]
  },
  {
   "cell_type": "markdown",
   "metadata": {},
   "source": [
    "# LISTS (LİSTELER)"
   ]
  },
  {
   "cell_type": "code",
   "execution_count": 1,
   "metadata": {},
   "outputs": [
    {
     "data": {
      "text/plain": [
       "[]"
      ]
     },
     "execution_count": 1,
     "metadata": {},
     "output_type": "execute_result"
    }
   ],
   "source": [
    "list()\n",
    "[]"
   ]
  },
  {
   "cell_type": "code",
   "execution_count": 2,
   "metadata": {},
   "outputs": [
    {
     "data": {
      "text/plain": [
       "[]"
      ]
     },
     "execution_count": 2,
     "metadata": {},
     "output_type": "execute_result"
    }
   ],
   "source": [
    "list() # iterable (yinelenebilir) olmalıdır"
   ]
  },
  {
   "cell_type": "code",
   "execution_count": 4,
   "metadata": {},
   "outputs": [
    {
     "data": {
      "text/plain": [
       "['h', 'e', 'l', 'l', 'o', ' ', 'w', 'o', 'r', 'l', 'd']"
      ]
     },
     "execution_count": 4,
     "metadata": {},
     "output_type": "execute_result"
    }
   ],
   "source": [
    "liste_1 = list(\"hello world\")\n",
    "liste_1"
   ]
  },
  {
   "cell_type": "code",
   "execution_count": 5,
   "metadata": {},
   "outputs": [
    {
     "data": {
      "text/plain": [
       "11"
      ]
     },
     "execution_count": 5,
     "metadata": {},
     "output_type": "execute_result"
    }
   ],
   "source": [
    "len(liste_1)"
   ]
  },
  {
   "cell_type": "code",
   "execution_count": 6,
   "metadata": {},
   "outputs": [],
   "source": [
    "str_1 = \"hello world\""
   ]
  },
  {
   "cell_type": "code",
   "execution_count": 8,
   "metadata": {},
   "outputs": [
    {
     "data": {
      "text/plain": [
       "['h', 'e', 'l', 'l', 'o', ' ', 'w', 'o', 'r', 'l', 'd']"
      ]
     },
     "execution_count": 8,
     "metadata": {},
     "output_type": "execute_result"
    }
   ],
   "source": [
    "liste_2 = list(str_1)\n",
    "liste_2"
   ]
  },
  {
   "cell_type": "code",
   "execution_count": 10,
   "metadata": {},
   "outputs": [
    {
     "data": {
      "text/plain": [
       "\"['h', 'e', 'l', 'l', 'o', ' ', 'w', 'o', 'r', 'l', 'd']\""
      ]
     },
     "execution_count": 10,
     "metadata": {},
     "output_type": "execute_result"
    }
   ],
   "source": [
    "str_list = str(liste_1)\n",
    "str_list"
   ]
  },
  {
   "cell_type": "code",
   "execution_count": 11,
   "metadata": {},
   "outputs": [
    {
     "data": {
      "text/plain": [
       "55"
      ]
     },
     "execution_count": 11,
     "metadata": {},
     "output_type": "execute_result"
    }
   ],
   "source": [
    "len(str_list)"
   ]
  },
  {
   "cell_type": "code",
   "execution_count": 12,
   "metadata": {},
   "outputs": [],
   "source": [
    "empty_list = []"
   ]
  },
  {
   "cell_type": "code",
   "execution_count": 13,
   "metadata": {},
   "outputs": [
    {
     "data": {
      "text/plain": [
       "list"
      ]
     },
     "execution_count": 13,
     "metadata": {},
     "output_type": "execute_result"
    }
   ],
   "source": [
    "type(empty_list)"
   ]
  },
  {
   "cell_type": "code",
   "execution_count": 14,
   "metadata": {},
   "outputs": [
    {
     "data": {
      "text/plain": [
       "0"
      ]
     },
     "execution_count": 14,
     "metadata": {},
     "output_type": "execute_result"
    }
   ],
   "source": [
    "len(empty_list)"
   ]
  },
  {
   "cell_type": "code",
   "execution_count": 18,
   "metadata": {},
   "outputs": [
    {
     "data": {
      "text/plain": [
       "['hello world']"
      ]
     },
     "execution_count": 18,
     "metadata": {},
     "output_type": "execute_result"
    }
   ],
   "source": [
    "liste_3 = [str_1]\n",
    "liste_3"
   ]
  },
  {
   "cell_type": "code",
   "execution_count": 19,
   "metadata": {},
   "outputs": [
    {
     "data": {
      "text/plain": [
       "1"
      ]
     },
     "execution_count": 19,
     "metadata": {},
     "output_type": "execute_result"
    }
   ],
   "source": [
    "len(liste_3)"
   ]
  },
  {
   "cell_type": "code",
   "execution_count": 25,
   "metadata": {},
   "outputs": [
    {
     "data": {
      "text/plain": [
       "[5, 3.14, 'hello', False]"
      ]
     },
     "execution_count": 25,
     "metadata": {},
     "output_type": "execute_result"
    }
   ],
   "source": [
    "new_list = [5, 3.14, \"hello\", False]\n",
    "new_list"
   ]
  },
  {
   "cell_type": "code",
   "execution_count": 27,
   "metadata": {},
   "outputs": [
    {
     "data": {
      "text/plain": [
       "5"
      ]
     },
     "execution_count": 27,
     "metadata": {},
     "output_type": "execute_result"
    }
   ],
   "source": [
    "new_list[0]"
   ]
  },
  {
   "cell_type": "code",
   "execution_count": 26,
   "metadata": {},
   "outputs": [
    {
     "data": {
      "text/plain": [
       "False"
      ]
     },
     "execution_count": 26,
     "metadata": {},
     "output_type": "execute_result"
    }
   ],
   "source": [
    "[5, 3.14, \"hello\", False][3]"
   ]
  },
  {
   "cell_type": "code",
   "execution_count": 28,
   "metadata": {},
   "outputs": [
    {
     "data": {
      "text/plain": [
       "[3.14, 'hello']"
      ]
     },
     "execution_count": 28,
     "metadata": {},
     "output_type": "execute_result"
    }
   ],
   "source": [
    "new_list[1:3]"
   ]
  },
  {
   "cell_type": "code",
   "execution_count": 29,
   "metadata": {},
   "outputs": [
    {
     "data": {
      "text/plain": [
       "list"
      ]
     },
     "execution_count": 29,
     "metadata": {},
     "output_type": "execute_result"
    }
   ],
   "source": [
    "type(new_list[1:3])"
   ]
  },
  {
   "cell_type": "code",
   "execution_count": 30,
   "metadata": {},
   "outputs": [
    {
     "name": "stdout",
     "output_type": "stream",
     "text": [
      "['sedat', 'TechPro', 30]\n",
      "3\n",
      "[['sedat', 'TechPro', 30]]\n",
      "1\n"
     ]
    }
   ],
   "source": [
    "my_list = [\"sedat\", \"TechPro\", 30]\n",
    "new_list_2 = list(my_list)\n",
    "new_list_3 = [my_list]\n",
    "\n",
    "print(new_list_2)\n",
    "print(len(new_list_2))\n",
    "print(new_list_3)\n",
    "print(len(new_list_3))"
   ]
  },
  {
   "cell_type": "code",
   "execution_count": 36,
   "metadata": {},
   "outputs": [],
   "source": [
    "saçma = \"jdfkfhkhfskdhffss\""
   ]
  },
  {
   "cell_type": "code",
   "execution_count": 37,
   "metadata": {},
   "outputs": [
    {
     "data": {
      "text/plain": [
       "1"
      ]
     },
     "execution_count": 37,
     "metadata": {},
     "output_type": "execute_result"
    }
   ],
   "source": [
    "aa = [\"jdfkfhkhfskdhffss\"]\n",
    "len(aa)"
   ]
  },
  {
   "cell_type": "code",
   "execution_count": 38,
   "metadata": {},
   "outputs": [
    {
     "data": {
      "text/plain": [
       "17"
      ]
     },
     "execution_count": 38,
     "metadata": {},
     "output_type": "execute_result"
    }
   ],
   "source": [
    "bb = list(\"jdfkfhkhfskdhffss\")\n",
    "len(bb)"
   ]
  },
  {
   "cell_type": "code",
   "execution_count": null,
   "metadata": {},
   "outputs": [],
   "source": [
    "len(list(1453))"
   ]
  },
  {
   "cell_type": "code",
   "execution_count": 41,
   "metadata": {},
   "outputs": [],
   "source": [
    "sayı_listesi =[[15, [13, 19], 24, 26, 28]]"
   ]
  },
  {
   "cell_type": "code",
   "execution_count": 42,
   "metadata": {},
   "outputs": [
    {
     "data": {
      "text/plain": [
       "[]"
      ]
     },
     "execution_count": 42,
     "metadata": {},
     "output_type": "execute_result"
    }
   ],
   "source": [
    "sayı_listesi[1:3]"
   ]
  },
  {
   "cell_type": "code",
   "execution_count": 43,
   "metadata": {},
   "outputs": [
    {
     "data": {
      "text/plain": [
       "19"
      ]
     },
     "execution_count": 43,
     "metadata": {},
     "output_type": "execute_result"
    }
   ],
   "source": [
    "sayı_listesi[0][1:3][0][1]"
   ]
  },
  {
   "cell_type": "code",
   "execution_count": 46,
   "metadata": {},
   "outputs": [
    {
     "data": {
      "text/plain": [
       "['hello world', 'merhaba dünya']"
      ]
     },
     "execution_count": 46,
     "metadata": {},
     "output_type": "execute_result"
    }
   ],
   "source": [
    "liste_4 = [\"hello world\",\"merhaba dünya\"]\n",
    "liste_4"
   ]
  },
  {
   "cell_type": "code",
   "execution_count": 44,
   "metadata": {},
   "outputs": [
    {
     "data": {
      "text/plain": [
       "['hello world']"
      ]
     },
     "execution_count": 44,
     "metadata": {},
     "output_type": "execute_result"
    }
   ],
   "source": [
    "liste_3"
   ]
  },
  {
   "cell_type": "code",
   "execution_count": 47,
   "metadata": {},
   "outputs": [
    {
     "data": {
      "text/plain": [
       "['hello world', 'hello world', 'merhaba dünya']"
      ]
     },
     "execution_count": 47,
     "metadata": {},
     "output_type": "execute_result"
    }
   ],
   "source": [
    "liste_3 + liste_4"
   ]
  },
  {
   "cell_type": "code",
   "execution_count": 49,
   "metadata": {},
   "outputs": [
    {
     "data": {
      "text/plain": [
       "['hello world',\n",
       " 'merhaba dünya',\n",
       " 'hello world',\n",
       " 'merhaba dünya',\n",
       " 'hello world',\n",
       " 'merhaba dünya']"
      ]
     },
     "execution_count": 49,
     "metadata": {},
     "output_type": "execute_result"
    }
   ],
   "source": [
    "liste_4 * 3"
   ]
  },
  {
   "cell_type": "code",
   "execution_count": 50,
   "metadata": {},
   "outputs": [
    {
     "data": {
      "text/plain": [
       "['hello world', 3, 5, False]"
      ]
     },
     "execution_count": 50,
     "metadata": {},
     "output_type": "execute_result"
    }
   ],
   "source": [
    "liste_3 + [3, 5, False]"
   ]
  },
  {
   "cell_type": "code",
   "execution_count": 54,
   "metadata": {},
   "outputs": [
    {
     "data": {
      "text/plain": [
       "[1, 4, 9, 16, False, 36]"
      ]
     },
     "execution_count": 54,
     "metadata": {},
     "output_type": "execute_result"
    }
   ],
   "source": [
    "kareler = [1, 4, 9, 16, 24, 36]\n",
    "kareler[4] = False\n",
    "kareler"
   ]
  },
  {
   "cell_type": "code",
   "execution_count": 55,
   "metadata": {},
   "outputs": [
    {
     "data": {
      "text/plain": [
       "[[2, 5], 4, 9, 16, False, 36]"
      ]
     },
     "execution_count": 55,
     "metadata": {},
     "output_type": "execute_result"
    }
   ],
   "source": [
    "kareler[0] = [2, 5]\n",
    "kareler"
   ]
  },
  {
   "cell_type": "code",
   "execution_count": 57,
   "metadata": {},
   "outputs": [
    {
     "data": {
      "text/plain": [
       "['a', 'b', 'c', 'd', 'e', 'f', 'g']"
      ]
     },
     "execution_count": 57,
     "metadata": {},
     "output_type": "execute_result"
    }
   ],
   "source": [
    "letters = [\"a\", \"b\", \"c\", \"d\", \"e\", \"f\", \"g\"]\n",
    "letters"
   ]
  },
  {
   "cell_type": "code",
   "execution_count": 58,
   "metadata": {},
   "outputs": [
    {
     "data": {
      "text/plain": [
       "['a', '1', '2', 'd', 'e', 'f', 'g']"
      ]
     },
     "execution_count": 58,
     "metadata": {},
     "output_type": "execute_result"
    }
   ],
   "source": [
    "letters[1:3] = [\"1\", \"2\"]\n",
    "letters"
   ]
  },
  {
   "cell_type": "code",
   "execution_count": 59,
   "metadata": {},
   "outputs": [
    {
     "data": {
      "text/plain": [
       "['a', '1', '2', '3', '4', '5', 'f', 'g']"
      ]
     },
     "execution_count": 59,
     "metadata": {},
     "output_type": "execute_result"
    }
   ],
   "source": [
    "letters[3:5] = [\"3\", \"4\", \"5\"]\n",
    "letters"
   ]
  },
  {
   "cell_type": "markdown",
   "metadata": {},
   "source": [
    "## Off the record"
   ]
  },
  {
   "cell_type": "code",
   "execution_count": 65,
   "metadata": {},
   "outputs": [
    {
     "name": "stdout",
     "output_type": "stream",
     "text": [
      "3.14 5.155 9.0\n"
     ]
    }
   ],
   "source": [
    "metin = \"{:.2f} {:.3f} {:.1f}\".format(3.142536, 5.1547, 8.9584)\n",
    "print(metin)"
   ]
  },
  {
   "cell_type": "code",
   "execution_count": 62,
   "metadata": {},
   "outputs": [
    {
     "data": {
      "text/plain": [
       "'bülent    '"
      ]
     },
     "execution_count": 62,
     "metadata": {},
     "output_type": "execute_result"
    }
   ],
   "source": [
    "ss = \"{:<10}\".format(\"bülent\")\n",
    "ss"
   ]
  },
  {
   "cell_type": "code",
   "execution_count": 63,
   "metadata": {},
   "outputs": [
    {
     "data": {
      "text/plain": [
       "'  bülent  '"
      ]
     },
     "execution_count": 63,
     "metadata": {},
     "output_type": "execute_result"
    }
   ],
   "source": [
    "ss = \"{:^10}\".format(\"bülent\")\n",
    "ss"
   ]
  },
  {
   "cell_type": "code",
   "execution_count": 64,
   "metadata": {},
   "outputs": [
    {
     "data": {
      "text/plain": [
       "3.14"
      ]
     },
     "execution_count": 64,
     "metadata": {},
     "output_type": "execute_result"
    }
   ],
   "source": [
    "round(3.142536,2)"
   ]
  },
  {
   "cell_type": "code",
   "execution_count": 66,
   "metadata": {},
   "outputs": [
    {
     "data": {
      "text/plain": [
       "5.155"
      ]
     },
     "execution_count": 66,
     "metadata": {},
     "output_type": "execute_result"
    }
   ],
   "source": [
    "round(5.1547,3)"
   ]
  },
  {
   "cell_type": "code",
   "execution_count": 67,
   "metadata": {},
   "outputs": [
    {
     "data": {
      "text/plain": [
       "9.0"
      ]
     },
     "execution_count": 67,
     "metadata": {},
     "output_type": "execute_result"
    }
   ],
   "source": [
    "round(8.9584,1)"
   ]
  },
  {
   "cell_type": "code",
   "execution_count": 69,
   "metadata": {},
   "outputs": [
    {
     "name": "stdout",
     "output_type": "stream",
     "text": [
      "Selam-Selam-Selam\n"
     ]
    }
   ],
   "source": [
    "a = input(\"Kelime Giriniz :\")\n",
    "b = int(input(\"Sayı Giriniz :\"))\n",
    "c = input(\"Sep Giriniz :\")\n",
    "\n",
    "\n",
    "print((a + c) * (b - 1) + a)"
   ]
  },
  {
   "cell_type": "code",
   "execution_count": 78,
   "metadata": {},
   "outputs": [
    {
     "name": "stdout",
     "output_type": "stream",
     "text": [
      "TechPro\n"
     ]
    }
   ],
   "source": [
    "x = int(input(\"Bir Sayı Giriniz :\"))\n",
    "\n",
    "if x % 3 == 0 and x % 5 == 0:\n",
    "    print(\"TechPro\")\n",
    "elif x % 3 == 0:\n",
    "    print(\"Tech\")\n",
    "elif x % 5 == 0:\n",
    "    print(\"Pro\")\n",
    "else:\n",
    "    print(\"hem 3 e hem 5 e bölünmüyor...\")\n"
   ]
  },
  {
   "cell_type": "code",
   "execution_count": 89,
   "metadata": {},
   "outputs": [
    {
     "name": "stdout",
     "output_type": "stream",
     "text": [
      "Artık yıl...\n"
     ]
    }
   ],
   "source": [
    "x = int(input(\"Lütfen bir yıl giriniz :\"))\n",
    "\n",
    "if x % 4 == 0 and x % 200 == 0 or x % 100 != 0:\n",
    "    print(\"Artık yıl...\")\n",
    "else:\n",
    "    print(\"Artık yıl değil\")"
   ]
  },
  {
   "cell_type": "markdown",
   "metadata": {},
   "source": [
    "# Listelere Eleman Ekleme"
   ]
  },
  {
   "cell_type": "markdown",
   "metadata": {},
   "source": [
    "## .append()\n",
    "### Listenin sonuna eleman gönderir. Tek seferde sadece 1 eleman göndere bilir."
   ]
  },
  {
   "cell_type": "code",
   "execution_count": 4,
   "metadata": {},
   "outputs": [],
   "source": [
    "sayılar = [1, 2, 3, 4, 5]"
   ]
  },
  {
   "cell_type": "code",
   "execution_count": 1,
   "metadata": {},
   "outputs": [
    {
     "data": {
      "text/plain": [
       "'hello'"
      ]
     },
     "execution_count": 1,
     "metadata": {},
     "output_type": "execute_result"
    }
   ],
   "source": [
    "aa = \"hello\"\n",
    "aa"
   ]
  },
  {
   "cell_type": "code",
   "execution_count": 2,
   "metadata": {},
   "outputs": [
    {
     "data": {
      "text/plain": [
       "'HELLO'"
      ]
     },
     "execution_count": 2,
     "metadata": {},
     "output_type": "execute_result"
    }
   ],
   "source": [
    "aa.upper()"
   ]
  },
  {
   "cell_type": "code",
   "execution_count": 3,
   "metadata": {},
   "outputs": [
    {
     "data": {
      "text/plain": [
       "'hello'"
      ]
     },
     "execution_count": 3,
     "metadata": {},
     "output_type": "execute_result"
    }
   ],
   "source": [
    "aa"
   ]
  },
  {
   "cell_type": "code",
   "execution_count": 5,
   "metadata": {},
   "outputs": [
    {
     "data": {
      "text/plain": [
       "[1, 2, 3, 4, 5]"
      ]
     },
     "execution_count": 5,
     "metadata": {},
     "output_type": "execute_result"
    }
   ],
   "source": [
    "sayılar"
   ]
  },
  {
   "cell_type": "code",
   "execution_count": 6,
   "metadata": {},
   "outputs": [],
   "source": [
    "sayılar.append(6)"
   ]
  },
  {
   "cell_type": "code",
   "execution_count": 7,
   "metadata": {},
   "outputs": [
    {
     "data": {
      "text/plain": [
       "[1, 2, 3, 4, 5, 6]"
      ]
     },
     "execution_count": 7,
     "metadata": {},
     "output_type": "execute_result"
    }
   ],
   "source": [
    "sayılar"
   ]
  },
  {
   "cell_type": "code",
   "execution_count": 8,
   "metadata": {},
   "outputs": [],
   "source": [
    "sayılar.append(7)"
   ]
  },
  {
   "cell_type": "code",
   "execution_count": 9,
   "metadata": {},
   "outputs": [
    {
     "data": {
      "text/plain": [
       "[1, 2, 3, 4, 5, 6, 7]"
      ]
     },
     "execution_count": 9,
     "metadata": {},
     "output_type": "execute_result"
    }
   ],
   "source": [
    "sayılar"
   ]
  },
  {
   "cell_type": "code",
   "execution_count": 10,
   "metadata": {},
   "outputs": [],
   "source": [
    "sayılar.append(\"hi\")"
   ]
  },
  {
   "cell_type": "code",
   "execution_count": 11,
   "metadata": {},
   "outputs": [
    {
     "data": {
      "text/plain": [
       "[1, 2, 3, 4, 5, 6, 7, 'hi']"
      ]
     },
     "execution_count": 11,
     "metadata": {},
     "output_type": "execute_result"
    }
   ],
   "source": [
    "sayılar"
   ]
  },
  {
   "cell_type": "code",
   "execution_count": 12,
   "metadata": {},
   "outputs": [],
   "source": [
    "sayılar.append([15, 26])"
   ]
  },
  {
   "cell_type": "code",
   "execution_count": 13,
   "metadata": {},
   "outputs": [
    {
     "data": {
      "text/plain": [
       "[1, 2, 3, 4, 5, 6, 7, 'hi', [15, 26]]"
      ]
     },
     "execution_count": 13,
     "metadata": {},
     "output_type": "execute_result"
    }
   ],
   "source": [
    "sayılar"
   ]
  },
  {
   "cell_type": "code",
   "execution_count": 15,
   "metadata": {},
   "outputs": [
    {
     "ename": "TypeError",
     "evalue": "list.append() takes exactly one argument (2 given)",
     "output_type": "error",
     "traceback": [
      "\u001b[1;31m---------------------------------------------------------------------------\u001b[0m",
      "\u001b[1;31mTypeError\u001b[0m                                 Traceback (most recent call last)",
      "\u001b[1;32mc:\\Users\\FATİH\\Desktop\\VSC\\python dersleri.ipynb Hücre 249\u001b[0m in \u001b[0;36m<cell line: 1>\u001b[1;34m()\u001b[0m\n\u001b[1;32m----> <a href='vscode-notebook-cell:/c%3A/Users/FAT%C4%B0H/Desktop/VSC/python%20dersleri.ipynb#Y503sZmlsZQ%3D%3D?line=0'>1</a>\u001b[0m sayılar\u001b[39m.\u001b[39;49mappend(\u001b[39m15\u001b[39;49m,\u001b[39m20\u001b[39;49m)\n",
      "\u001b[1;31mTypeError\u001b[0m: list.append() takes exactly one argument (2 given)"
     ]
    }
   ],
   "source": [
    "sayılar.append(15,20)"
   ]
  },
  {
   "cell_type": "code",
   "execution_count": 16,
   "metadata": {},
   "outputs": [
    {
     "data": {
      "text/plain": [
       "'HI'"
      ]
     },
     "execution_count": 16,
     "metadata": {},
     "output_type": "execute_result"
    }
   ],
   "source": [
    "sayılar[7].upper()"
   ]
  },
  {
   "cell_type": "code",
   "execution_count": 17,
   "metadata": {},
   "outputs": [
    {
     "data": {
      "text/plain": [
       "[1, 2, 3, 4, 5, 6, 7, 'hi', [15, 26]]"
      ]
     },
     "execution_count": 17,
     "metadata": {},
     "output_type": "execute_result"
    }
   ],
   "source": [
    "sayılar"
   ]
  },
  {
   "cell_type": "markdown",
   "metadata": {},
   "source": [
    "## .insert()\n",
    "### listenin sonu hariç istenilen yere eleman ataya bilir. Seçilen index teki elemanı sağa iterek onun yerine geçer."
   ]
  },
  {
   "cell_type": "code",
   "execution_count": 18,
   "metadata": {},
   "outputs": [],
   "source": [
    "sayılar.insert(2,\"yana kay 3\")"
   ]
  },
  {
   "cell_type": "code",
   "execution_count": 19,
   "metadata": {},
   "outputs": [
    {
     "data": {
      "text/plain": [
       "[1, 2, 'yana kay 3', 3, 4, 5, 6, 7, 'hi', [15, 26]]"
      ]
     },
     "execution_count": 19,
     "metadata": {},
     "output_type": "execute_result"
    }
   ],
   "source": [
    "sayılar"
   ]
  },
  {
   "cell_type": "code",
   "execution_count": 20,
   "metadata": {},
   "outputs": [],
   "source": [
    "numbers = [1, 4, 9, 16, 25]"
   ]
  },
  {
   "cell_type": "code",
   "execution_count": 22,
   "metadata": {},
   "outputs": [],
   "source": [
    "numbers.insert(-1,36)"
   ]
  },
  {
   "cell_type": "code",
   "execution_count": 23,
   "metadata": {},
   "outputs": [
    {
     "data": {
      "text/plain": [
       "[1, 4, 9, 16, 36, 36, 25]"
      ]
     },
     "execution_count": 23,
     "metadata": {},
     "output_type": "execute_result"
    }
   ],
   "source": [
    "numbers"
   ]
  },
  {
   "cell_type": "code",
   "execution_count": 24,
   "metadata": {},
   "outputs": [],
   "source": [
    "numbers.insert(2,(2, 3))"
   ]
  },
  {
   "cell_type": "code",
   "execution_count": 25,
   "metadata": {},
   "outputs": [
    {
     "data": {
      "text/plain": [
       "[1, 4, (2, 3), 9, 16, 36, 36, 25]"
      ]
     },
     "execution_count": 25,
     "metadata": {},
     "output_type": "execute_result"
    }
   ],
   "source": [
    "numbers"
   ]
  },
  {
   "cell_type": "markdown",
   "metadata": {},
   "source": [
    "## .remove()\n",
    "### Parantez içine girilen elemanı listeden siler. Aynı elemandan birden fazla varsa önce ilk baştakini siler."
   ]
  },
  {
   "cell_type": "code",
   "execution_count": 28,
   "metadata": {},
   "outputs": [],
   "source": [
    "numbers.remove((2, 3))"
   ]
  },
  {
   "cell_type": "code",
   "execution_count": 29,
   "metadata": {},
   "outputs": [
    {
     "data": {
      "text/plain": [
       "[1, 4, 9, 16, 36, 36, 25]"
      ]
     },
     "execution_count": 29,
     "metadata": {},
     "output_type": "execute_result"
    }
   ],
   "source": [
    "numbers"
   ]
  },
  {
   "cell_type": "code",
   "execution_count": 31,
   "metadata": {},
   "outputs": [],
   "source": [
    "list_1 = [1, 5, 1, 2, 6, 2, 7]"
   ]
  },
  {
   "cell_type": "code",
   "execution_count": 32,
   "metadata": {},
   "outputs": [],
   "source": [
    "list_1.remove(2)"
   ]
  },
  {
   "cell_type": "code",
   "execution_count": 33,
   "metadata": {},
   "outputs": [
    {
     "data": {
      "text/plain": [
       "[1, 5, 1, 6, 2, 7]"
      ]
     },
     "execution_count": 33,
     "metadata": {},
     "output_type": "execute_result"
    }
   ],
   "source": [
    "list_1"
   ]
  },
  {
   "cell_type": "markdown",
   "metadata": {},
   "source": [
    "## .sort()\n",
    "### "
   ]
  },
  {
   "cell_type": "code",
   "execution_count": 34,
   "metadata": {},
   "outputs": [],
   "source": [
    "list_1.sort()"
   ]
  },
  {
   "cell_type": "code",
   "execution_count": 35,
   "metadata": {},
   "outputs": [
    {
     "data": {
      "text/plain": [
       "[1, 1, 2, 5, 6, 7]"
      ]
     },
     "execution_count": 35,
     "metadata": {},
     "output_type": "execute_result"
    }
   ],
   "source": [
    "list_1"
   ]
  },
  {
   "cell_type": "code",
   "execution_count": 37,
   "metadata": {},
   "outputs": [
    {
     "data": {
      "text/plain": [
       "[1, 5, 9, 10, 'hi', 'world']"
      ]
     },
     "execution_count": 37,
     "metadata": {},
     "output_type": "execute_result"
    }
   ],
   "source": [
    "list_2 = [1,5,9,10,\"hi\",\"world\"]\n",
    "list_2"
   ]
  },
  {
   "cell_type": "code",
   "execution_count": null,
   "metadata": {},
   "outputs": [],
   "source": [
    "list_2.sort()"
   ]
  },
  {
   "cell_type": "code",
   "execution_count": 49,
   "metadata": {},
   "outputs": [
    {
     "data": {
      "text/plain": [
       "['Apple', 'Orange', 'Banana', 'Pine Apple']"
      ]
     },
     "execution_count": 49,
     "metadata": {},
     "output_type": "execute_result"
    }
   ],
   "source": [
    "list_3 = [\"Apple\",\"Orange\",\"Banana\",\"Pine Apple\"]\n",
    "list_3"
   ]
  },
  {
   "cell_type": "code",
   "execution_count": 44,
   "metadata": {},
   "outputs": [],
   "source": [
    "list_3.sort()"
   ]
  },
  {
   "cell_type": "code",
   "execution_count": 45,
   "metadata": {},
   "outputs": [
    {
     "data": {
      "text/plain": [
       "['apple', 'banana', 'orange', 'pine apple']"
      ]
     },
     "execution_count": 45,
     "metadata": {},
     "output_type": "execute_result"
    }
   ],
   "source": [
    "list_3"
   ]
  },
  {
   "cell_type": "code",
   "execution_count": 46,
   "metadata": {},
   "outputs": [],
   "source": [
    "list_3.sort(reverse=True)"
   ]
  },
  {
   "cell_type": "code",
   "execution_count": 47,
   "metadata": {},
   "outputs": [
    {
     "data": {
      "text/plain": [
       "['pine apple', 'orange', 'banana', 'apple']"
      ]
     },
     "execution_count": 47,
     "metadata": {},
     "output_type": "execute_result"
    }
   ],
   "source": [
    "list_3"
   ]
  },
  {
   "cell_type": "code",
   "execution_count": 50,
   "metadata": {},
   "outputs": [
    {
     "data": {
      "text/plain": [
       "['Apple', 'Banana', 'Orange', 'Pine Apple']"
      ]
     },
     "execution_count": 50,
     "metadata": {},
     "output_type": "execute_result"
    }
   ],
   "source": [
    "list_3.sort(key = str.lower)\n",
    "list_3"
   ]
  },
  {
   "cell_type": "markdown",
   "metadata": {},
   "source": [
    "## .pop()"
   ]
  },
  {
   "cell_type": "code",
   "execution_count": 51,
   "metadata": {},
   "outputs": [
    {
     "data": {
      "text/plain": [
       "[1, 5, 9, 10, 'hi', 'world']"
      ]
     },
     "execution_count": 51,
     "metadata": {},
     "output_type": "execute_result"
    }
   ],
   "source": [
    "list_2"
   ]
  },
  {
   "cell_type": "code",
   "execution_count": 52,
   "metadata": {},
   "outputs": [
    {
     "data": {
      "text/plain": [
       "'world'"
      ]
     },
     "execution_count": 52,
     "metadata": {},
     "output_type": "execute_result"
    }
   ],
   "source": [
    "list_2.pop()"
   ]
  },
  {
   "cell_type": "code",
   "execution_count": 53,
   "metadata": {},
   "outputs": [
    {
     "data": {
      "text/plain": [
       "[1, 5, 9, 10, 'hi']"
      ]
     },
     "execution_count": 53,
     "metadata": {},
     "output_type": "execute_result"
    }
   ],
   "source": [
    "list_2"
   ]
  },
  {
   "cell_type": "code",
   "execution_count": 54,
   "metadata": {},
   "outputs": [
    {
     "data": {
      "text/plain": [
       "'hi'"
      ]
     },
     "execution_count": 54,
     "metadata": {},
     "output_type": "execute_result"
    }
   ],
   "source": [
    "list_2.pop()"
   ]
  },
  {
   "cell_type": "code",
   "execution_count": 55,
   "metadata": {},
   "outputs": [
    {
     "data": {
      "text/plain": [
       "[1, 5, 9, 10]"
      ]
     },
     "execution_count": 55,
     "metadata": {},
     "output_type": "execute_result"
    }
   ],
   "source": [
    "list_2"
   ]
  },
  {
   "cell_type": "code",
   "execution_count": 56,
   "metadata": {},
   "outputs": [
    {
     "data": {
      "text/plain": [
       "[1, 2, 'yana kay 3', 3, 4, 5, 6, 7, 'hi', [15, 26]]"
      ]
     },
     "execution_count": 56,
     "metadata": {},
     "output_type": "execute_result"
    }
   ],
   "source": [
    "sayılar"
   ]
  },
  {
   "cell_type": "code",
   "execution_count": 57,
   "metadata": {},
   "outputs": [
    {
     "data": {
      "text/plain": [
       "2"
      ]
     },
     "execution_count": 57,
     "metadata": {},
     "output_type": "execute_result"
    }
   ],
   "source": [
    "sayılar.pop(1)"
   ]
  },
  {
   "cell_type": "code",
   "execution_count": 58,
   "metadata": {},
   "outputs": [
    {
     "data": {
      "text/plain": [
       "[1, 'yana kay 3', 3, 4, 5, 6, 7, 'hi', [15, 26]]"
      ]
     },
     "execution_count": 58,
     "metadata": {},
     "output_type": "execute_result"
    }
   ],
   "source": [
    "sayılar"
   ]
  },
  {
   "cell_type": "code",
   "execution_count": 59,
   "metadata": {},
   "outputs": [
    {
     "data": {
      "text/plain": [
       "[15, 26]"
      ]
     },
     "execution_count": 59,
     "metadata": {},
     "output_type": "execute_result"
    }
   ],
   "source": [
    "sayılar.pop(-1)"
   ]
  },
  {
   "cell_type": "code",
   "execution_count": 60,
   "metadata": {},
   "outputs": [
    {
     "data": {
      "text/plain": [
       "[1, 'yana kay 3', 3, 4, 5, 6, 7, 'hi']"
      ]
     },
     "execution_count": 60,
     "metadata": {},
     "output_type": "execute_result"
    }
   ],
   "source": [
    "sayılar"
   ]
  },
  {
   "cell_type": "markdown",
   "metadata": {},
   "source": [
    "## .clear()\n",
    "### Listeyi boşaltır"
   ]
  },
  {
   "cell_type": "code",
   "execution_count": 61,
   "metadata": {},
   "outputs": [
    {
     "data": {
      "text/plain": [
       "[1, 5, 9, 10]"
      ]
     },
     "execution_count": 61,
     "metadata": {},
     "output_type": "execute_result"
    }
   ],
   "source": [
    "list_2"
   ]
  },
  {
   "cell_type": "code",
   "execution_count": 62,
   "metadata": {},
   "outputs": [],
   "source": [
    "list_2.clear()"
   ]
  },
  {
   "cell_type": "code",
   "execution_count": 63,
   "metadata": {},
   "outputs": [
    {
     "data": {
      "text/plain": [
       "[]"
      ]
     },
     "execution_count": 63,
     "metadata": {},
     "output_type": "execute_result"
    }
   ],
   "source": [
    "list_2"
   ]
  },
  {
   "cell_type": "markdown",
   "metadata": {},
   "source": [
    "## del"
   ]
  },
  {
   "cell_type": "code",
   "execution_count": 65,
   "metadata": {},
   "outputs": [
    {
     "data": {
      "text/plain": [
       "['Apple', 'Banana', 'Orange', 'Pine Apple']"
      ]
     },
     "execution_count": 65,
     "metadata": {},
     "output_type": "execute_result"
    }
   ],
   "source": [
    "list_3"
   ]
  },
  {
   "cell_type": "code",
   "execution_count": 66,
   "metadata": {},
   "outputs": [],
   "source": [
    "del list_3[2]"
   ]
  },
  {
   "cell_type": "code",
   "execution_count": 67,
   "metadata": {},
   "outputs": [
    {
     "data": {
      "text/plain": [
       "['Apple', 'Banana', 'Pine Apple']"
      ]
     },
     "execution_count": 67,
     "metadata": {},
     "output_type": "execute_result"
    }
   ],
   "source": [
    "list_3"
   ]
  },
  {
   "cell_type": "code",
   "execution_count": 68,
   "metadata": {},
   "outputs": [],
   "source": [
    "del list_3 "
   ]
  },
  {
   "cell_type": "code",
   "execution_count": null,
   "metadata": {},
   "outputs": [],
   "source": [
    "list_3"
   ]
  },
  {
   "cell_type": "code",
   "execution_count": 72,
   "metadata": {},
   "outputs": [],
   "source": [
    "text = [\"selam\",\"naber\"]"
   ]
  },
  {
   "cell_type": "code",
   "execution_count": 73,
   "metadata": {},
   "outputs": [],
   "source": [
    "sayılar.extend(text)"
   ]
  },
  {
   "cell_type": "code",
   "execution_count": 74,
   "metadata": {},
   "outputs": [
    {
     "data": {
      "text/plain": [
       "[1, 'yana kay 3', 3, 4, 5, 6, 7, 'hi', 'selam', 'naber']"
      ]
     },
     "execution_count": 74,
     "metadata": {},
     "output_type": "execute_result"
    }
   ],
   "source": [
    "sayılar"
   ]
  },
  {
   "cell_type": "code",
   "execution_count": 1,
   "metadata": {},
   "outputs": [
    {
     "name": "stdout",
     "output_type": "stream",
     "text": [
      "naber anne\n"
     ]
    }
   ],
   "source": [
    "print(\"naber anne\")"
   ]
  },
  {
   "cell_type": "code",
   "execution_count": 5,
   "metadata": {},
   "outputs": [
    {
     "name": "stdout",
     "output_type": "stream",
     "text": [
      "Artık yıl...\n"
     ]
    }
   ],
   "source": [
    "x = int(input(\"Lütfen bir yıl giriniz :\"))\n",
    "\n",
    "if x % 4 == 0 and x % 400 == 0 or x % 100 != 0:\n",
    "    print(\"Artık yıl...\")\n",
    "else:\n",
    "    print(\"Artık yıl değil\")"
   ]
  },
  {
   "cell_type": "code",
   "execution_count": 6,
   "metadata": {},
   "outputs": [],
   "source": [
    "the_list = [\n",
    "    143266561,\n",
    "    1738152473,\n",
    "    312377936,\n",
    "    1027708881,\n",
    "    1871655963,\n",
    "    1495785517,\n",
    "    1858250798,\n",
    "    1693786723,\n",
    "    374455497,\n",
    "    430158267,\n",
    "]\n"
   ]
  },
  {
   "cell_type": "code",
   "execution_count": 7,
   "metadata": {},
   "outputs": [
    {
     "data": {
      "text/plain": [
       "[143266561,\n",
       " 312377936,\n",
       " 374455497,\n",
       " 430158267,\n",
       " 1027708881,\n",
       " 1495785517,\n",
       " 1693786723,\n",
       " 1738152473,\n",
       " 1858250798,\n",
       " 1871655963]"
      ]
     },
     "execution_count": 7,
     "metadata": {},
     "output_type": "execute_result"
    }
   ],
   "source": [
    "the_list.sort()\n",
    "the_list"
   ]
  },
  {
   "cell_type": "code",
   "execution_count": 9,
   "metadata": {},
   "outputs": [
    {
     "data": {
      "text/plain": [
       "1871655963"
      ]
     },
     "execution_count": 9,
     "metadata": {},
     "output_type": "execute_result"
    }
   ],
   "source": [
    "the_list[-1]"
   ]
  },
  {
   "cell_type": "code",
   "execution_count": 10,
   "metadata": {},
   "outputs": [
    {
     "name": "stdout",
     "output_type": "stream",
     "text": [
      "1871655963\n"
     ]
    }
   ],
   "source": [
    "print(max(the_list))"
   ]
  },
  {
   "cell_type": "code",
   "execution_count": 11,
   "metadata": {},
   "outputs": [],
   "source": [
    "listedeneme = [\"a\", \"n\", \"c\"]"
   ]
  },
  {
   "cell_type": "code",
   "execution_count": 12,
   "metadata": {},
   "outputs": [
    {
     "data": {
      "text/plain": [
       "'n'"
      ]
     },
     "execution_count": 12,
     "metadata": {},
     "output_type": "execute_result"
    }
   ],
   "source": [
    "max(listedeneme)"
   ]
  },
  {
   "cell_type": "code",
   "execution_count": 13,
   "metadata": {},
   "outputs": [
    {
     "data": {
      "text/plain": [
       "'a'"
      ]
     },
     "execution_count": 13,
     "metadata": {},
     "output_type": "execute_result"
    }
   ],
   "source": [
    "min(listedeneme)"
   ]
  },
  {
   "cell_type": "code",
   "execution_count": 14,
   "metadata": {},
   "outputs": [],
   "source": [
    "str98 = \"naber selam sanıl gidiyor nasılsın\""
   ]
  },
  {
   "cell_type": "code",
   "execution_count": 15,
   "metadata": {},
   "outputs": [
    {
     "data": {
      "text/plain": [
       "5"
      ]
     },
     "execution_count": 15,
     "metadata": {},
     "output_type": "execute_result"
    }
   ],
   "source": [
    "str98.count(\" \") + 1"
   ]
  },
  {
   "cell_type": "code",
   "execution_count": 16,
   "metadata": {},
   "outputs": [
    {
     "data": {
      "text/plain": [
       "5"
      ]
     },
     "execution_count": 16,
     "metadata": {},
     "output_type": "execute_result"
    }
   ],
   "source": [
    "len(str98.split())"
   ]
  },
  {
   "cell_type": "code",
   "execution_count": 18,
   "metadata": {},
   "outputs": [
    {
     "data": {
      "text/plain": [
       "4"
      ]
     },
     "execution_count": 18,
     "metadata": {},
     "output_type": "execute_result"
    }
   ],
   "source": [
    "\"hello world\".find(\"o\")"
   ]
  },
  {
   "cell_type": "code",
   "execution_count": 19,
   "metadata": {},
   "outputs": [
    {
     "data": {
      "text/plain": [
       "0"
      ]
     },
     "execution_count": 19,
     "metadata": {},
     "output_type": "execute_result"
    }
   ],
   "source": [
    "x = \"selam\"\n",
    "\"selam nasılsın nasıl gidiyor\".find(x)"
   ]
  },
  {
   "cell_type": "markdown",
   "metadata": {},
   "source": [
    "# TUPLES"
   ]
  },
  {
   "cell_type": "code",
   "execution_count": 20,
   "metadata": {},
   "outputs": [
    {
     "data": {
      "text/plain": [
       "()"
      ]
     },
     "execution_count": 20,
     "metadata": {},
     "output_type": "execute_result"
    }
   ],
   "source": [
    "()\n",
    "tuple()"
   ]
  },
  {
   "cell_type": "code",
   "execution_count": 24,
   "metadata": {},
   "outputs": [],
   "source": [
    "name = \"TechPro\""
   ]
  },
  {
   "cell_type": "code",
   "execution_count": 25,
   "metadata": {},
   "outputs": [
    {
     "data": {
      "text/plain": [
       "('T', 'e', 'c', 'h', 'P', 'r', 'o')"
      ]
     },
     "execution_count": 25,
     "metadata": {},
     "output_type": "execute_result"
    }
   ],
   "source": [
    "tuple(name)"
   ]
  },
  {
   "cell_type": "code",
   "execution_count": 26,
   "metadata": {},
   "outputs": [],
   "source": [
    "x = tuple(\"hello\")"
   ]
  },
  {
   "cell_type": "code",
   "execution_count": 27,
   "metadata": {},
   "outputs": [
    {
     "data": {
      "text/plain": [
       "('h', 'e', 'l', 'l', 'o')"
      ]
     },
     "execution_count": 27,
     "metadata": {},
     "output_type": "execute_result"
    }
   ],
   "source": [
    "x"
   ]
  },
  {
   "cell_type": "code",
   "execution_count": 28,
   "metadata": {},
   "outputs": [
    {
     "data": {
      "text/plain": [
       "tuple"
      ]
     },
     "execution_count": 28,
     "metadata": {},
     "output_type": "execute_result"
    }
   ],
   "source": [
    "type(x)"
   ]
  },
  {
   "cell_type": "code",
   "execution_count": 30,
   "metadata": {},
   "outputs": [
    {
     "name": "stdout",
     "output_type": "stream",
     "text": [
      "1453\n"
     ]
    }
   ],
   "source": [
    "y = (1453)\n",
    "print(y)"
   ]
  },
  {
   "cell_type": "code",
   "execution_count": 31,
   "metadata": {},
   "outputs": [
    {
     "data": {
      "text/plain": [
       "int"
      ]
     },
     "execution_count": 31,
     "metadata": {},
     "output_type": "execute_result"
    }
   ],
   "source": [
    "type(y)"
   ]
  },
  {
   "cell_type": "code",
   "execution_count": 32,
   "metadata": {},
   "outputs": [],
   "source": [
    "q = 1,2,3"
   ]
  },
  {
   "cell_type": "code",
   "execution_count": 33,
   "metadata": {},
   "outputs": [
    {
     "data": {
      "text/plain": [
       "tuple"
      ]
     },
     "execution_count": 33,
     "metadata": {},
     "output_type": "execute_result"
    }
   ],
   "source": [
    "type(q)"
   ]
  },
  {
   "cell_type": "code",
   "execution_count": 34,
   "metadata": {},
   "outputs": [],
   "source": [
    "t = (5,\"hello\")"
   ]
  },
  {
   "cell_type": "code",
   "execution_count": 35,
   "metadata": {},
   "outputs": [],
   "source": [
    "tuple_1 = (1,\"hello\",False,[1,2],(3,4))"
   ]
  },
  {
   "cell_type": "code",
   "execution_count": 36,
   "metadata": {},
   "outputs": [
    {
     "data": {
      "text/plain": [
       "tuple"
      ]
     },
     "execution_count": 36,
     "metadata": {},
     "output_type": "execute_result"
    }
   ],
   "source": [
    "type(tuple_1)"
   ]
  },
  {
   "cell_type": "markdown",
   "metadata": {},
   "source": [
    "## range()"
   ]
  },
  {
   "cell_type": "code",
   "execution_count": 37,
   "metadata": {},
   "outputs": [
    {
     "data": {
      "text/plain": [
       "range(2, 8)"
      ]
     },
     "execution_count": 37,
     "metadata": {},
     "output_type": "execute_result"
    }
   ],
   "source": [
    "range(2,8)"
   ]
  },
  {
   "cell_type": "code",
   "execution_count": 38,
   "metadata": {},
   "outputs": [
    {
     "data": {
      "text/plain": [
       "(2, 3, 4, 5, 6, 7)"
      ]
     },
     "execution_count": 38,
     "metadata": {},
     "output_type": "execute_result"
    }
   ],
   "source": [
    "tuple(range(2,8))"
   ]
  },
  {
   "cell_type": "code",
   "execution_count": 39,
   "metadata": {},
   "outputs": [
    {
     "data": {
      "text/plain": [
       "[0, 1, 2, 3, 4, 5, 6, 7, 8, 9, 10, 11, 12, 13, 14]"
      ]
     },
     "execution_count": 39,
     "metadata": {},
     "output_type": "execute_result"
    }
   ],
   "source": [
    "list(range(15))"
   ]
  },
  {
   "cell_type": "code",
   "execution_count": 47,
   "metadata": {},
   "outputs": [
    {
     "data": {
      "text/plain": [
       "(0,\n",
       " 2,\n",
       " 4,\n",
       " 6,\n",
       " 8,\n",
       " 10,\n",
       " 12,\n",
       " 14,\n",
       " 16,\n",
       " 18,\n",
       " 20,\n",
       " 22,\n",
       " 24,\n",
       " 26,\n",
       " 28,\n",
       " 30,\n",
       " 32,\n",
       " 34,\n",
       " 36,\n",
       " 38,\n",
       " 40,\n",
       " 42,\n",
       " 44,\n",
       " 46,\n",
       " 48)"
      ]
     },
     "execution_count": 47,
     "metadata": {},
     "output_type": "execute_result"
    }
   ],
   "source": [
    "tuple(range(0,50,2))"
   ]
  },
  {
   "cell_type": "code",
   "execution_count": 51,
   "metadata": {},
   "outputs": [
    {
     "data": {
      "text/plain": [
       "(10, 9, 8, 7, 6, 5, 4, 3, 2, 1)"
      ]
     },
     "execution_count": 51,
     "metadata": {},
     "output_type": "execute_result"
    }
   ],
   "source": [
    "tuple(range(10, 0, -1))"
   ]
  },
  {
   "cell_type": "code",
   "execution_count": 56,
   "metadata": {},
   "outputs": [],
   "source": [
    "ortaya_karışık = (1,3.14,\"hello\",(2,5),[\"sedat\",5,False,6.65])"
   ]
  },
  {
   "cell_type": "code",
   "execution_count": 57,
   "metadata": {},
   "outputs": [
    {
     "data": {
      "text/plain": [
       "5"
      ]
     },
     "execution_count": 57,
     "metadata": {},
     "output_type": "execute_result"
    }
   ],
   "source": [
    "len(ortaya_karışık)"
   ]
  },
  {
   "cell_type": "code",
   "execution_count": 59,
   "metadata": {},
   "outputs": [
    {
     "name": "stdout",
     "output_type": "stream",
     "text": [
      "(3, 5, 7, 'hello')\n"
     ]
    }
   ],
   "source": [
    "a = (\"hello\",)\n",
    "b = (3,5,7)\n",
    "\n",
    "b += a\n",
    "print(b)"
   ]
  },
  {
   "cell_type": "code",
   "execution_count": 60,
   "metadata": {},
   "outputs": [
    {
     "data": {
      "text/plain": [
       "(1, 'hello', False, [1, 2], (3, 4))"
      ]
     },
     "execution_count": 60,
     "metadata": {},
     "output_type": "execute_result"
    }
   ],
   "source": [
    "tuple_1"
   ]
  },
  {
   "cell_type": "code",
   "execution_count": 61,
   "metadata": {},
   "outputs": [
    {
     "data": {
      "text/plain": [
       "[1, 'hello', False, [1, 2], (3, 4)]"
      ]
     },
     "execution_count": 61,
     "metadata": {},
     "output_type": "execute_result"
    }
   ],
   "source": [
    "list1 = list(tuple_1)\n",
    "list1"
   ]
  },
  {
   "cell_type": "code",
   "execution_count": 62,
   "metadata": {},
   "outputs": [
    {
     "data": {
      "text/plain": [
       "5"
      ]
     },
     "execution_count": 62,
     "metadata": {},
     "output_type": "execute_result"
    }
   ],
   "source": [
    "len(list1)"
   ]
  },
  {
   "cell_type": "code",
   "execution_count": 63,
   "metadata": {},
   "outputs": [],
   "source": [
    "list1.append((5,6))"
   ]
  },
  {
   "cell_type": "code",
   "execution_count": 64,
   "metadata": {},
   "outputs": [
    {
     "data": {
      "text/plain": [
       "[1, 'hello', False, [1, 2], (3, 4), (5, 6)]"
      ]
     },
     "execution_count": 64,
     "metadata": {},
     "output_type": "execute_result"
    }
   ],
   "source": [
    "list1"
   ]
  },
  {
   "cell_type": "code",
   "execution_count": 67,
   "metadata": {},
   "outputs": [
    {
     "data": {
      "text/plain": [
       "(1, 'hello', False, [1, 2], (3, 4), (5, 6))"
      ]
     },
     "execution_count": 67,
     "metadata": {},
     "output_type": "execute_result"
    }
   ],
   "source": [
    "tuple_2 = tuple(list1)\n",
    "tuple_2"
   ]
  },
  {
   "cell_type": "code",
   "execution_count": 68,
   "metadata": {},
   "outputs": [
    {
     "data": {
      "text/plain": [
       "1"
      ]
     },
     "execution_count": 68,
     "metadata": {},
     "output_type": "execute_result"
    }
   ],
   "source": [
    "tuple_2.count(1)"
   ]
  },
  {
   "cell_type": "code",
   "execution_count": 69,
   "metadata": {},
   "outputs": [
    {
     "data": {
      "text/plain": [
       "1"
      ]
     },
     "execution_count": 69,
     "metadata": {},
     "output_type": "execute_result"
    }
   ],
   "source": [
    "tuple_2.count(\"hello\")"
   ]
  },
  {
   "cell_type": "code",
   "execution_count": 70,
   "metadata": {},
   "outputs": [
    {
     "data": {
      "text/plain": [
       "2"
      ]
     },
     "execution_count": 70,
     "metadata": {},
     "output_type": "execute_result"
    }
   ],
   "source": [
    "tuple_2.index(False)"
   ]
  },
  {
   "cell_type": "markdown",
   "metadata": {},
   "source": [
    "# Dictionaries"
   ]
  },
  {
   "cell_type": "code",
   "execution_count": 1,
   "metadata": {},
   "outputs": [
    {
     "data": {
      "text/plain": [
       "{}"
      ]
     },
     "execution_count": 1,
     "metadata": {},
     "output_type": "execute_result"
    }
   ],
   "source": [
    "{}\n",
    "dict()"
   ]
  },
  {
   "cell_type": "code",
   "execution_count": 2,
   "metadata": {},
   "outputs": [],
   "source": [
    "dict_1 = {\"key1\" : \"valuel\",\n",
    "            \"key2\" : \"value2\"}"
   ]
  },
  {
   "cell_type": "code",
   "execution_count": 3,
   "metadata": {},
   "outputs": [
    {
     "data": {
      "text/plain": [
       "{'key1': 'valuel', 'key2': 'value2'}"
      ]
     },
     "execution_count": 3,
     "metadata": {},
     "output_type": "execute_result"
    }
   ],
   "source": [
    "dict_1"
   ]
  },
  {
   "cell_type": "code",
   "execution_count": 4,
   "metadata": {},
   "outputs": [
    {
     "data": {
      "text/plain": [
       "dict_items([('key1', 'valuel'), ('key2', 'value2')])"
      ]
     },
     "execution_count": 4,
     "metadata": {},
     "output_type": "execute_result"
    }
   ],
   "source": [
    "dict_1.items()"
   ]
  },
  {
   "cell_type": "code",
   "execution_count": 5,
   "metadata": {},
   "outputs": [
    {
     "data": {
      "text/plain": [
       "dict_keys(['key1', 'key2'])"
      ]
     },
     "execution_count": 5,
     "metadata": {},
     "output_type": "execute_result"
    }
   ],
   "source": [
    "dict_1.keys()"
   ]
  },
  {
   "cell_type": "code",
   "execution_count": 6,
   "metadata": {},
   "outputs": [
    {
     "data": {
      "text/plain": [
       "dict_values(['valuel', 'value2'])"
      ]
     },
     "execution_count": 6,
     "metadata": {},
     "output_type": "execute_result"
    }
   ],
   "source": [
    "dict_1.values()"
   ]
  },
  {
   "cell_type": "code",
   "execution_count": null,
   "metadata": {},
   "outputs": [],
   "source": [
    "dict_2 = {\"apple\" : \"elma\" , \"orange\" : \"portakal\""
   ]
  },
  {
   "cell_type": "code",
   "execution_count": 7,
   "metadata": {},
   "outputs": [],
   "source": [
    "dict_3 = dict(fruits = \"apple\",fruits2 = \"orange\")"
   ]
  },
  {
   "cell_type": "code",
   "execution_count": 9,
   "metadata": {},
   "outputs": [
    {
     "data": {
      "text/plain": [
       "{'fruits': 'apple', 'fruits2': 'orange'}"
      ]
     },
     "execution_count": 9,
     "metadata": {},
     "output_type": "execute_result"
    }
   ],
   "source": [
    "dict_3"
   ]
  },
  {
   "cell_type": "code",
   "execution_count": 12,
   "metadata": {},
   "outputs": [],
   "source": [
    "dict_4 = {1 : \"one\",2 : \"two\",3 : \"three\"}"
   ]
  },
  {
   "cell_type": "code",
   "execution_count": 13,
   "metadata": {},
   "outputs": [
    {
     "data": {
      "text/plain": [
       "{1: 'one', 2: 'two', 3: 'three'}"
      ]
     },
     "execution_count": 13,
     "metadata": {},
     "output_type": "execute_result"
    }
   ],
   "source": [
    "dict_4"
   ]
  },
  {
   "cell_type": "code",
   "execution_count": 21,
   "metadata": {},
   "outputs": [
    {
     "data": {
      "text/plain": [
       "{'friends_1': 'Halil', 'friends_2': 'Aliİhsan'}"
      ]
     },
     "execution_count": 21,
     "metadata": {},
     "output_type": "execute_result"
    }
   ],
   "source": [
    "friends = { \"friends_1\" : \"Halil\", \"friends_2\" : \"Aliİhsan\"}\n",
    "friends"
   ]
  },
  {
   "cell_type": "code",
   "execution_count": 30,
   "metadata": {},
   "outputs": [],
   "source": [
    "friends2 = {\"friends1\" , \"Halil\",\"friends2\" , \"Aliİhsan\",\"friends3\" , \"Necati\",\"friends4\" , \"sedat\"}"
   ]
  },
  {
   "cell_type": "code",
   "execution_count": 32,
   "metadata": {},
   "outputs": [],
   "source": [
    "letters = {}.fromkeys([\"sesli_harfler\",\"sessiz_harfler\"],0)"
   ]
  },
  {
   "cell_type": "code",
   "execution_count": 33,
   "metadata": {},
   "outputs": [
    {
     "data": {
      "text/plain": [
       "{'sesli_harfler': 0, 'sessiz_harfler': 0}"
      ]
     },
     "execution_count": 33,
     "metadata": {},
     "output_type": "execute_result"
    }
   ],
   "source": [
    "letters"
   ]
  },
  {
   "cell_type": "code",
   "execution_count": 34,
   "metadata": {},
   "outputs": [],
   "source": [
    "hello = {}.fromkeys(\"hello\")"
   ]
  },
  {
   "cell_type": "code",
   "execution_count": 36,
   "metadata": {},
   "outputs": [
    {
     "data": {
      "text/plain": [
       "dict_items([('h', None), ('e', None), ('l', None), ('o', None)])"
      ]
     },
     "execution_count": 36,
     "metadata": {},
     "output_type": "execute_result"
    }
   ],
   "source": [
    "hello.items()"
   ]
  },
  {
   "cell_type": "code",
   "execution_count": 37,
   "metadata": {},
   "outputs": [
    {
     "data": {
      "text/plain": [
       "dict_keys(['h', 'e', 'l', 'o'])"
      ]
     },
     "execution_count": 37,
     "metadata": {},
     "output_type": "execute_result"
    }
   ],
   "source": [
    "hello.keys()"
   ]
  },
  {
   "cell_type": "code",
   "execution_count": 38,
   "metadata": {},
   "outputs": [
    {
     "data": {
      "text/plain": [
       "dict_values([None, None, None, None])"
      ]
     },
     "execution_count": 38,
     "metadata": {},
     "output_type": "execute_result"
    }
   ],
   "source": [
    "hello.values()"
   ]
  },
  {
   "cell_type": "code",
   "execution_count": 40,
   "metadata": {},
   "outputs": [],
   "source": [
    "hello[\"h\"] = \"alfabenin 10 uncu harfi\""
   ]
  },
  {
   "cell_type": "code",
   "execution_count": 41,
   "metadata": {},
   "outputs": [
    {
     "data": {
      "text/plain": [
       "{'h': 'alfabenin 10 uncu harfi', 'e': None, 'l': None, 'o': None}"
      ]
     },
     "execution_count": 41,
     "metadata": {},
     "output_type": "execute_result"
    }
   ],
   "source": [
    "hello"
   ]
  },
  {
   "cell_type": "markdown",
   "metadata": {},
   "source": [
    "## update"
   ]
  },
  {
   "cell_type": "code",
   "execution_count": 51,
   "metadata": {},
   "outputs": [],
   "source": [
    "hello.update({\"None\" : \"naber nasılsın ?\"})"
   ]
  },
  {
   "cell_type": "code",
   "execution_count": 52,
   "metadata": {},
   "outputs": [
    {
     "data": {
      "text/plain": [
       "{'h': 'alfabenin 10 uncu harfi',\n",
       " 'e': None,\n",
       " 'l': None,\n",
       " 'o': None,\n",
       " 'None': 'naber nasılsın ?'}"
      ]
     },
     "execution_count": 52,
     "metadata": {},
     "output_type": "execute_result"
    }
   ],
   "source": [
    "hello"
   ]
  },
  {
   "cell_type": "markdown",
   "metadata": {},
   "source": [
    "# in, not in"
   ]
  },
  {
   "cell_type": "code",
   "execution_count": 53,
   "metadata": {},
   "outputs": [
    {
     "data": {
      "text/plain": [
       "True"
      ]
     },
     "execution_count": 53,
     "metadata": {},
     "output_type": "execute_result"
    }
   ],
   "source": [
    "\"e\" in \"hello\""
   ]
  },
  {
   "cell_type": "code",
   "execution_count": 54,
   "metadata": {},
   "outputs": [
    {
     "data": {
      "text/plain": [
       "False"
      ]
     },
     "execution_count": 54,
     "metadata": {},
     "output_type": "execute_result"
    }
   ],
   "source": [
    "\"y\" in \"hello\""
   ]
  },
  {
   "cell_type": "code",
   "execution_count": 55,
   "metadata": {},
   "outputs": [
    {
     "data": {
      "text/plain": [
       "False"
      ]
     },
     "execution_count": 55,
     "metadata": {},
     "output_type": "execute_result"
    }
   ],
   "source": [
    "\"e\" not in \"hello\""
   ]
  },
  {
   "cell_type": "code",
   "execution_count": 56,
   "metadata": {},
   "outputs": [
    {
     "data": {
      "text/plain": [
       "True"
      ]
     },
     "execution_count": 56,
     "metadata": {},
     "output_type": "execute_result"
    }
   ],
   "source": [
    "\"y\" not in \"hello\""
   ]
  },
  {
   "cell_type": "code",
   "execution_count": 57,
   "metadata": {},
   "outputs": [
    {
     "data": {
      "text/plain": [
       "True"
      ]
     },
     "execution_count": 57,
     "metadata": {},
     "output_type": "execute_result"
    }
   ],
   "source": [
    "\"selam\" in \"selam nasıl gidiyor arkadaşlar\""
   ]
  },
  {
   "cell_type": "code",
   "execution_count": 58,
   "metadata": {},
   "outputs": [],
   "source": [
    "myfamily = {\n",
    " \"child1\" : {\n",
    "  \"name\" : \"Emil\",\n",
    "  \"year\" : 2004\n",
    " },\n",
    " \"child2\" : {\n",
    "  \"name\" : \"Tobias\",\n",
    "  \"year\" : 2007\n",
    " },\n",
    " \"child3\" : {\n",
    "  \"name\" : \"Linus\",\n",
    "  \"year\" : 2011\n",
    " }\n",
    "}"
   ]
  },
  {
   "cell_type": "code",
   "execution_count": 59,
   "metadata": {},
   "outputs": [
    {
     "data": {
      "text/plain": [
       "{'child1': {'name': 'Emil', 'year': 2004},\n",
       " 'child2': {'name': 'Tobias', 'year': 2007},\n",
       " 'child3': {'name': 'Linus', 'year': 2011}}"
      ]
     },
     "execution_count": 59,
     "metadata": {},
     "output_type": "execute_result"
    }
   ],
   "source": [
    "myfamily"
   ]
  },
  {
   "cell_type": "code",
   "execution_count": 8,
   "metadata": {},
   "outputs": [],
   "source": [
    "i = 6\n",
    "st = [1,2,3,4,5]"
   ]
  },
  {
   "cell_type": "code",
   "execution_count": 11,
   "metadata": {},
   "outputs": [
    {
     "name": "stdout",
     "output_type": "stream",
     "text": [
      "1\n",
      "2\n",
      "3\n",
      "4\n",
      "5\n",
      "[1, 2, 3, 4, 5]\n"
     ]
    }
   ],
   "source": [
    "for i in st:\n",
    "    print(i,end=\"\\n\")\n",
    "print(st)"
   ]
  },
  {
   "cell_type": "markdown",
   "metadata": {},
   "source": [
    "# sets"
   ]
  },
  {
   "cell_type": "code",
   "execution_count": null,
   "metadata": {},
   "outputs": [],
   "source": [
    "set()\n",
    "{}\n"
   ]
  },
  {
   "cell_type": "code",
   "execution_count": 1,
   "metadata": {},
   "outputs": [
    {
     "data": {
      "text/plain": [
       "{'e', 'h', 'l', 'o'}"
      ]
     },
     "execution_count": 1,
     "metadata": {},
     "output_type": "execute_result"
    }
   ],
   "source": [
    "set(\"hello\")"
   ]
  },
  {
   "cell_type": "code",
   "execution_count": 3,
   "metadata": {},
   "outputs": [
    {
     "data": {
      "text/plain": [
       "{'beyaz', 'kırmızı', 'mavi'}"
      ]
     },
     "execution_count": 3,
     "metadata": {},
     "output_type": "execute_result"
    }
   ],
   "source": [
    "set([\"mavi\",\"kırmızı\",\"beyaz\",\"mavi\"])"
   ]
  },
  {
   "cell_type": "code",
   "execution_count": 4,
   "metadata": {},
   "outputs": [
    {
     "name": "stdout",
     "output_type": "stream",
     "text": [
      "{'f', 'c', 'd', 'a', 'g', 'b', 'e'}\n"
     ]
    }
   ],
   "source": [
    "alfabe = \"a b c d e f g\".split()\n",
    "print(set(alfabe))"
   ]
  },
  {
   "cell_type": "code",
   "execution_count": 7,
   "metadata": {},
   "outputs": [
    {
     "data": {
      "text/plain": [
       "0.9999999999999996"
      ]
     },
     "execution_count": 7,
     "metadata": {},
     "output_type": "execute_result"
    }
   ],
   "source": [
    "4.1 - 3.1"
   ]
  },
  {
   "cell_type": "markdown",
   "metadata": {},
   "source": [
    "# Union, intersection, difference\n",
    "## intersection(&) : ikisindeki ortak elemanların olduğu küme\n",
    "## difference(-) : sadece kedine özel elemanların olduğu küme\n",
    "## union(|) : kümedeki bütün elemanlar ikikümedeki elemanların hepsi"
   ]
  },
  {
   "cell_type": "code",
   "execution_count": 9,
   "metadata": {},
   "outputs": [],
   "source": [
    "set1 = set(\"kayısı\")\n",
    "set2 = set(\"pastırma\")"
   ]
  },
  {
   "cell_type": "code",
   "execution_count": 10,
   "metadata": {},
   "outputs": [
    {
     "data": {
      "text/plain": [
       "{'a', 'k', 's', 'y', 'ı'}"
      ]
     },
     "execution_count": 10,
     "metadata": {},
     "output_type": "execute_result"
    }
   ],
   "source": [
    "set1"
   ]
  },
  {
   "cell_type": "code",
   "execution_count": 11,
   "metadata": {},
   "outputs": [
    {
     "data": {
      "text/plain": [
       "{'a', 'm', 'p', 'r', 's', 't', 'ı'}"
      ]
     },
     "execution_count": 11,
     "metadata": {},
     "output_type": "execute_result"
    }
   ],
   "source": [
    "set2"
   ]
  },
  {
   "cell_type": "code",
   "execution_count": 12,
   "metadata": {},
   "outputs": [
    {
     "data": {
      "text/plain": [
       "{'a', 's', 'ı'}"
      ]
     },
     "execution_count": 12,
     "metadata": {},
     "output_type": "execute_result"
    }
   ],
   "source": [
    "set1.intersection(set2)"
   ]
  },
  {
   "cell_type": "code",
   "execution_count": 16,
   "metadata": {},
   "outputs": [
    {
     "data": {
      "text/plain": [
       "{'k', 'y'}"
      ]
     },
     "execution_count": 16,
     "metadata": {},
     "output_type": "execute_result"
    }
   ],
   "source": [
    "set1 - set2 #difference"
   ]
  },
  {
   "cell_type": "code",
   "execution_count": 14,
   "metadata": {},
   "outputs": [
    {
     "data": {
      "text/plain": [
       "{'a', 's', 'ı'}"
      ]
     },
     "execution_count": 14,
     "metadata": {},
     "output_type": "execute_result"
    }
   ],
   "source": [
    "set1 & set2 # intersection"
   ]
  },
  {
   "cell_type": "code",
   "execution_count": 15,
   "metadata": {},
   "outputs": [
    {
     "data": {
      "text/plain": [
       "{'a', 'k', 'm', 'p', 'r', 's', 't', 'y', 'ı'}"
      ]
     },
     "execution_count": 15,
     "metadata": {},
     "output_type": "execute_result"
    }
   ],
   "source": [
    "set1 | set2 #union"
   ]
  },
  {
   "cell_type": "markdown",
   "metadata": {},
   "source": [
    "# haftalık ücret hesabı hesaplama"
   ]
  },
  {
   "cell_type": "code",
   "execution_count": 21,
   "metadata": {},
   "outputs": [
    {
     "name": "stdout",
     "output_type": "stream",
     "text": [
      "5500.0\n"
     ]
    }
   ],
   "source": [
    "haftalık_çalışma_saati = float(input(\"Çalışma saatinizi girin :\"))\n",
    "saatlik_ücret = float(input(\"Saatlik ücreti girin :\"))\n",
    "\n",
    "if haftalık_çalışma_saati > 40:\n",
    "    toplam_ücret = 40 * saatlik_ücret + (haftalık_çalışma_saati - 40) * (saatlik_ücret * 1.5)\n",
    "else:\n",
    "    toplam_ücret = haftalık_çalışma_saati * saatlik_ücret\n",
    "\n",
    "print(toplam_ücret)"
   ]
  },
  {
   "cell_type": "markdown",
   "metadata": {},
   "source": [
    "# if-elif-else"
   ]
  },
  {
   "cell_type": "code",
   "execution_count": 1,
   "metadata": {},
   "outputs": [
    {
     "name": "stdout",
     "output_type": "stream",
     "text": [
      "10 sayısı 5 ten büyüktür\n"
     ]
    }
   ],
   "source": [
    "if 10 > 5:\n",
    "    print(\"10 sayısı 5 ten büyüktür\")"
   ]
  },
  {
   "cell_type": "code",
   "execution_count": 4,
   "metadata": {},
   "outputs": [],
   "source": [
    "if 10 > 5:\n",
    "    x = 10 - 5"
   ]
  },
  {
   "cell_type": "code",
   "execution_count": 5,
   "metadata": {},
   "outputs": [
    {
     "data": {
      "text/plain": [
       "5"
      ]
     },
     "execution_count": 5,
     "metadata": {},
     "output_type": "execute_result"
    }
   ],
   "source": [
    "x"
   ]
  },
  {
   "cell_type": "code",
   "execution_count": 9,
   "metadata": {},
   "outputs": [
    {
     "name": "stdout",
     "output_type": "stream",
     "text": [
      "max number is 58\n"
     ]
    }
   ],
   "source": [
    "number_one = int(input(\"Bir sayı giriniz\"))\n",
    "number_two = int(input(\"Farklı bir sayı giriniz\"))\n",
    "number_three = int(input(\"Daha da farklı bir sayı giriniz\"))\n",
    "\n",
    "if number_one > number_two and number_one > number_three:\n",
    "    max_number = number_one\n",
    "elif number_two > number_one and number_two > number_three:\n",
    "    max_number = number_two\n",
    "else:\n",
    "    max_number = number_three\n",
    "\n",
    "print(f\"max number is {max_number}\")"
   ]
  },
  {
   "cell_type": "markdown",
   "metadata": {},
   "source": [
    "# LOOPS"
   ]
  },
  {
   "cell_type": "markdown",
   "metadata": {},
   "source": [
    "## while"
   ]
  },
  {
   "cell_type": "code",
   "execution_count": null,
   "metadata": {},
   "outputs": [],
   "source": [
    "while kaşul:\n",
    "    \"çıktı\""
   ]
  },
  {
   "cell_type": "code",
   "execution_count": null,
   "metadata": {},
   "outputs": [],
   "source": [
    "# ! ! ! ÇALIŞTIRMA SONSUZ DÖNGÜ ! ! !\n",
    "sayı = 1\n",
    "while sayı < 5:\n",
    "    print(sayı)"
   ]
  },
  {
   "cell_type": "code",
   "execution_count": 15,
   "metadata": {},
   "outputs": [
    {
     "name": "stdout",
     "output_type": "stream",
     "text": [
      "0\n",
      "1\n",
      "2\n",
      "3\n",
      "4\n",
      "döngünün sonu\n"
     ]
    }
   ],
   "source": [
    "sayı = 0\n",
    "while sayı < 5:\n",
    "    print(sayı)\n",
    "    sayı = sayı + 1\n",
    "print(\"Döngünün sonu\".lower())"
   ]
  },
  {
   "cell_type": "code",
   "execution_count": 19,
   "metadata": {},
   "outputs": [
    {
     "name": "stdout",
     "output_type": "stream",
     "text": [
      "1\n",
      "4\n",
      "9\n",
      "16\n",
      "25\n"
     ]
    }
   ],
   "source": [
    "sayı_listesi = [1,2,3,4,5]\n",
    "\n",
    "x = 0\n",
    "\n",
    "while x < len(sayı_listesi):\n",
    "    print(sayı_listesi[x] ** 2)\n",
    "    x += 1"
   ]
  },
  {
   "cell_type": "code",
   "execution_count": 21,
   "metadata": {},
   "outputs": [
    {
     "name": "stdout",
     "output_type": "stream",
     "text": [
      "Girdiğiniz sayı 44 Tahminini arttır...\n",
      "Girdiğiniz sayı 47 Tahminini arttır...\n",
      "Girdiğiniz sayı 89 Tahminini azalt...\n",
      "Girdiğiniz sayı 56 Tahminini azalt...\n",
      "Bravo, Sonunda doğru tahmin\n"
     ]
    }
   ],
   "source": [
    "sayı = 55\n",
    "tahmin_sayısı = 0\n",
    "\n",
    "while True:\n",
    "\n",
    "    tahmin = int(input(\"Sayıyı tahmin edin :\"))\n",
    "    if sayı < tahmin:\n",
    "        print(f\"Girdiğiniz sayı {tahmin} Tahminini azalt...\")\n",
    "        tahmin_sayısı += 1\n",
    "    elif sayı > tahmin:\n",
    "        print(f\"Girdiğiniz sayı {tahmin} Tahminini arttır...\")\n",
    "        tahmin_sayısı += 1\n",
    "    else:\n",
    "        print(\"Bravo, Sonunda doğru tahmin\")\n",
    "        tahmin_sayısı += 1\n",
    "        break\n",
    "print(f\"{tahmin_sayısı} denemede tahmin ettin...\")"
   ]
  },
  {
   "cell_type": "markdown",
   "metadata": {},
   "source": [
    "# .random()"
   ]
  },
  {
   "cell_type": "code",
   "execution_count": 23,
   "metadata": {},
   "outputs": [],
   "source": [
    "import random as rd # >> alias"
   ]
  },
  {
   "cell_type": "code",
   "execution_count": 24,
   "metadata": {},
   "outputs": [],
   "source": [
    "import random"
   ]
  },
  {
   "cell_type": "code",
   "execution_count": 27,
   "metadata": {},
   "outputs": [
    {
     "data": {
      "text/plain": [
       "0.9413291327233722"
      ]
     },
     "execution_count": 27,
     "metadata": {},
     "output_type": "execute_result"
    }
   ],
   "source": [
    "random.random()"
   ]
  },
  {
   "cell_type": "code",
   "execution_count": 28,
   "metadata": {},
   "outputs": [
    {
     "data": {
      "text/plain": [
       "0.5811521325045647"
      ]
     },
     "execution_count": 28,
     "metadata": {},
     "output_type": "execute_result"
    }
   ],
   "source": [
    "random.seed(101)\n",
    "random.random()"
   ]
  },
  {
   "cell_type": "code",
   "execution_count": 40,
   "metadata": {},
   "outputs": [
    {
     "data": {
      "text/plain": [
       "72"
      ]
     },
     "execution_count": 40,
     "metadata": {},
     "output_type": "execute_result"
    }
   ],
   "source": [
    "random.randint(10,99)"
   ]
  },
  {
   "cell_type": "code",
   "execution_count": 3,
   "metadata": {},
   "outputs": [
    {
     "name": "stdout",
     "output_type": "stream",
     "text": [
      "Girdiğiniz sayı 12 Tahminini arttır...\n",
      "Girdiğiniz sayı 45 Tahminini arttır...\n",
      "Girdiğiniz sayı 45 Tahminini arttır...\n",
      "Girdiğiniz sayı 56 Tahminini azalt...\n",
      "Girdiğiniz sayı 66 Tahminini azalt...\n",
      "Girdiğiniz sayı 65 Tahminini azalt...\n",
      "Girdiğiniz sayı 63 Tahminini azalt...\n",
      "Girdiğiniz sayı 63 Tahminini azalt...\n",
      "Girdiğiniz sayı 62 Tahminini azalt...\n",
      "Girdiğiniz sayı 60 Tahminini azalt...\n",
      "Girdiğiniz sayı 60 Tahminini azalt...\n",
      "Girdiğiniz sayı 59 Tahminini azalt...\n",
      "Girdiğiniz sayı 57 Tahminini azalt...\n",
      "Girdiğiniz sayı 56 Tahminini azalt...\n",
      "Girdiğiniz sayı 55 Tahminini azalt...\n",
      "Girdiğiniz sayı 55 Tahminini azalt...\n",
      "Girdiğiniz sayı 54 Tahminini azalt...\n",
      "Girdiğiniz sayı 54 Tahminini azalt...\n",
      "Bravo, Sonunda doğru tahmin\n",
      "19 denemede tahmin ettin...\n"
     ]
    }
   ],
   "source": [
    "import random\n",
    "sayı = random.randint(0,100)\n",
    "tahmin_sayısı = 0\n",
    "while True:\n",
    "\n",
    "    tahmin = int(input(\"Sayıyı tahmin edin :\"))\n",
    "    if sayı < tahmin:\n",
    "        print(f\"Girdiğiniz sayı {tahmin} Tahminini azalt...\")\n",
    "        tahmin_sayısı += 1\n",
    "    elif sayı > tahmin:\n",
    "        print(f\"Girdiğiniz sayı {tahmin} Tahminini arttır...\")\n",
    "        tahmin_sayısı += 1\n",
    "    else:\n",
    "        print(\"Bravo, Sonunda doğru tahmin\")\n",
    "        tahmin_sayısı += 1\n",
    "        break\n",
    "print(f\"{tahmin_sayısı} denemede tahmin ettin...\")"
   ]
  },
  {
   "cell_type": "code",
   "execution_count": 1,
   "metadata": {},
   "outputs": [
    {
     "name": "stdout",
     "output_type": "stream",
     "text": [
      "Girdiğiniz sayı 34 Tahminini arttır...\n",
      "Girdiğiniz sayı 34 Tahminini arttır...\n",
      "Girdiğiniz sayı 55 Tahminini azalt...\n",
      "Girdiğiniz sayı 44 Tahminini arttır...\n",
      "Girdiğiniz sayı 46 Tahminini arttır...\n",
      "5 denemede bulamadın :(\n"
     ]
    }
   ],
   "source": [
    "import random\n",
    "sayı = random.randint(0,100)\n",
    "döngü_sayısı = 0\n",
    "while döngü_sayısı < 5:\n",
    "\n",
    "    tahmin = int(input(\"Sayıyı tahmin edin :\"))\n",
    "    if sayı < tahmin:\n",
    "        print(f\"Girdiğiniz sayı {tahmin} Tahminini azalt...\")\n",
    "        döngü_sayısı += 1\n",
    "    elif sayı > tahmin:\n",
    "        print(f\"Girdiğiniz sayı {tahmin} Tahminini arttır...\")\n",
    "        döngü_sayısı += 1\n",
    "    else:\n",
    "        print(\"Bravo, Sonunda doğru tahmin\")\n",
    "        döngü_sayısı += 1\n",
    "        break\n",
    "print(\"5 denemede bulamadın :(\")"
   ]
  },
  {
   "cell_type": "code",
   "execution_count": 3,
   "metadata": {},
   "outputs": [],
   "source": [
    "#Task:\n",
    "liste = [12, 17, 25, 48, 23, 14, 16]\n",
    "#max olanı bulan kodu yazın"
   ]
  },
  {
   "cell_type": "markdown",
   "metadata": {},
   "source": []
  },
  {
   "cell_type": "code",
   "execution_count": 4,
   "metadata": {},
   "outputs": [
    {
     "data": {
      "text/plain": [
       "48"
      ]
     },
     "execution_count": 4,
     "metadata": {},
     "output_type": "execute_result"
    }
   ],
   "source": [
    "max(liste)"
   ]
  },
  {
   "cell_type": "code",
   "execution_count": 5,
   "metadata": {},
   "outputs": [
    {
     "name": "stdout",
     "output_type": "stream",
     "text": [
      "48\n"
     ]
    }
   ],
   "source": [
    "liste = [12, 17, 25, 48, 23, 14, 16]\n",
    "\n",
    "index = 0\n",
    "\n",
    "max_eleman = 0\n",
    "\n",
    "while index < len(liste):\n",
    "\n",
    "    if liste[index] > max_eleman:\n",
    "        max_eleman = liste[index]\n",
    "\n",
    "    index += 1\n",
    "\n",
    "print(max_eleman)\n",
    "\n"
   ]
  },
  {
   "cell_type": "code",
   "execution_count": 6,
   "metadata": {},
   "outputs": [
    {
     "data": {
      "text/plain": [
       "[0, 1, 2, 3, 4, 5, 6, 7, 8, 9, 10]"
      ]
     },
     "execution_count": 6,
     "metadata": {},
     "output_type": "execute_result"
    }
   ],
   "source": [
    "liste = list(range(11))\n",
    "liste"
   ]
  },
  {
   "cell_type": "code",
   "execution_count": 3,
   "metadata": {},
   "outputs": [
    {
     "name": "stdout",
     "output_type": "stream",
     "text": [
      "tek sayılar [1, 3, 5, 7, 9]\n",
      "çift sayılar [0, 2, 4, 6, 8, 10]\n"
     ]
    }
   ],
   "source": [
    "\n",
    "liste = list(range(11))\n",
    "\n",
    "index = 0\n",
    "\n",
    "evens = []\n",
    "\n",
    "odds = []\n",
    "\n",
    "while index < len(liste):\n",
    "\n",
    "    if liste[index] % 2 == 0:\n",
    "        evens.append(liste[index])\n",
    "        index += 1\n",
    "    else:\n",
    "        odds.append(liste[index])\n",
    "        index += 1\n",
    "\n",
    "print(f\"tek sayılar {odds}\")\n",
    "\n",
    "print(f\"çift sayılar {evens}\")"
   ]
  },
  {
   "cell_type": "code",
   "execution_count": 4,
   "metadata": {},
   "outputs": [
    {
     "name": "stdout",
     "output_type": "stream",
     "text": [
      "Tekler: 3\n",
      "Çiftler: 5\n"
     ]
    }
   ],
   "source": [
    "liste = [14, 75, 35, 20, 17, 98, 66, 74]\n",
    "\n",
    "index = 0\n",
    "\n",
    "evens_counter = 0\n",
    "\n",
    "odds_counter = 0\n",
    "\n",
    "while index < len(liste):\n",
    "\n",
    "    if liste[index] % 2 == 0:\n",
    "        evens_counter += 1\n",
    "    else:\n",
    "        odds_counter += 1\n",
    "    \n",
    "    index += 1\n",
    "print(f\"Tekler: {odds_counter}\")\n",
    "print(f\"Çiftler: {evens_counter}\")"
   ]
  },
  {
   "cell_type": "code",
   "execution_count": 8,
   "metadata": {},
   "outputs": [
    {
     "name": "stdout",
     "output_type": "stream",
     "text": [
      "[10, 9, 8, 7, 6, 5, 4, 3, 2, 1]\n"
     ]
    }
   ],
   "source": [
    "i = 0\n",
    "\n",
    "numbers = []\n",
    "\n",
    "while i < 10:\n",
    "    sayı = int(input(\"Döngü durana kadar sayı girin :\"))\n",
    "    numbers.append(sayı)\n",
    "    i += 1\n",
    "numbers.sort(reverse=True)\n",
    "print(numbers)"
   ]
  },
  {
   "cell_type": "markdown",
   "metadata": {},
   "source": [
    "# break, continue"
   ]
  },
  {
   "cell_type": "code",
   "execution_count": 9,
   "metadata": {},
   "outputs": [
    {
     "name": "stdout",
     "output_type": "stream",
     "text": [
      "i: 0\n",
      "i: 1\n",
      "i: 2\n",
      "i: 3\n",
      "i: 4\n",
      "i: 5\n",
      "i: 6\n",
      "i: 7\n",
      "i: 8\n",
      "i: 9\n"
     ]
    }
   ],
   "source": [
    "i = 0\n",
    "while i < 10:\n",
    "    print(\"i:\",i)\n",
    "    i += 1"
   ]
  },
  {
   "cell_type": "code",
   "execution_count": 10,
   "metadata": {},
   "outputs": [
    {
     "name": "stdout",
     "output_type": "stream",
     "text": [
      "i: 0\n",
      "i: 1\n",
      "i: 2\n",
      "i: 3\n",
      "i: 4\n"
     ]
    }
   ],
   "source": [
    "i = 0\n",
    "while i < 10:\n",
    "    if i == 5:\n",
    "        break\n",
    "    print(\"i:\", i)\n",
    "    i += 1"
   ]
  },
  {
   "cell_type": "markdown",
   "metadata": {},
   "source": [
    "# .zip()\n",
    "### birden fazla listeyi birleştirerek yeni bir liste oluşturur."
   ]
  },
  {
   "cell_type": "code",
   "execution_count": 13,
   "metadata": {},
   "outputs": [],
   "source": [
    "a = [\"apple\",\"orange\",\"banana\"]\n",
    "b = [1,2,3]\n",
    "c = [\"abcdefg\",True,123,54.67]"
   ]
  },
  {
   "cell_type": "code",
   "execution_count": 12,
   "metadata": {},
   "outputs": [
    {
     "data": {
      "text/plain": [
       "[('apple', 1), ('orange', 2), ('banana', 3)]"
      ]
     },
     "execution_count": 12,
     "metadata": {},
     "output_type": "execute_result"
    }
   ],
   "source": [
    "list(zip(a,b))"
   ]
  },
  {
   "cell_type": "code",
   "execution_count": 14,
   "metadata": {},
   "outputs": [
    {
     "data": {
      "text/plain": [
       "[('apple', 1, 'abcdefg'), ('orange', 2, True), ('banana', 3, 123)]"
      ]
     },
     "execution_count": 14,
     "metadata": {},
     "output_type": "execute_result"
    }
   ],
   "source": [
    "list(zip(a,b,c))"
   ]
  },
  {
   "cell_type": "markdown",
   "metadata": {},
   "source": [
    "# enumerate"
   ]
  },
  {
   "cell_type": "code",
   "execution_count": 15,
   "metadata": {},
   "outputs": [
    {
     "data": {
      "text/plain": [
       "[(0, 14), (1, 75), (2, 35), (3, 20), (4, 17), (5, 98), (6, 66), (7, 74)]"
      ]
     },
     "execution_count": 15,
     "metadata": {},
     "output_type": "execute_result"
    }
   ],
   "source": [
    "list(enumerate(liste))"
   ]
  },
  {
   "cell_type": "code",
   "execution_count": 17,
   "metadata": {},
   "outputs": [
    {
     "name": "stdout",
     "output_type": "stream",
     "text": [
      "Sisteme başarıyla girdiniz\n"
     ]
    }
   ],
   "source": []
  },
  {
   "cell_type": "code",
   "execution_count": 18,
   "metadata": {},
   "outputs": [
    {
     "name": "stdout",
     "output_type": "stream",
     "text": [
      "Kullanıcı adınızı yanlış girdiniz\n",
      "Sisteme başarıyla giriş yaptınız\n"
     ]
    }
   ],
   "source": [
    "kullanıcı_adı = \"kendi_kullanıcı_adınız\"\n",
    "şifre = \"12345\"\n",
    "giriş_hakkı = 3\n",
    "\n",
    "while True:\n",
    "    kull_adı = input(\"Kullanıcı adınızı girin\")\n",
    "    parola = input(\"Şifrenizi girin\")\n",
    "\n",
    "    if (kullanıcı_adı != kull_adı) and (şifre == parola):\n",
    "        print(\"Kullanıcı adınızı yanlış girdiniz\")\n",
    "        giriş_hakkı -= 1\n",
    "    elif (kullanıcı_adı == kull_adı) and (şifre != parola):\n",
    "        print(\"Şifrenizi yanlış girdiniz\")\n",
    "        giriş_hakkı -= 1\n",
    "    elif (kullanıcı_adı != kull_adı) and (şifre != parola):\n",
    "        print(\"Kullanıcı adı ve Şifrenizi yanlış girdiniz\")\n",
    "        giriş_hakkı -= 1\n",
    "    else:\n",
    "        print(\"Sisteme başarıyla giriş yaptınız\")\n",
    "        break\n",
    "\n",
    "    if giriş_hakkı == 0:\n",
    "        print(\"Hesabınız bloke oldu\")\n",
    "        break"
   ]
  },
  {
   "cell_type": "markdown",
   "metadata": {},
   "source": [
    "# for loops"
   ]
  },
  {
   "cell_type": "code",
   "execution_count": null,
   "metadata": {},
   "outputs": [],
   "source": [
    "for değişken in iterable:\n",
    "    işlem satırı"
   ]
  },
  {
   "cell_type": "code",
   "execution_count": 5,
   "metadata": {},
   "outputs": [
    {
     "name": "stdout",
     "output_type": "stream",
     "text": [
      "t\n",
      "e\n",
      "c\n",
      "h\n",
      "p\n",
      "r\n",
      "o\n"
     ]
    }
   ],
   "source": [
    "for i in \"techpro\":\n",
    "    print(i)"
   ]
  },
  {
   "cell_type": "code",
   "execution_count": 6,
   "metadata": {},
   "outputs": [
    {
     "name": "stdout",
     "output_type": "stream",
     "text": [
      "techpro"
     ]
    }
   ],
   "source": [
    "for i in \"techpro\":\n",
    "    print(i,end=\"\")"
   ]
  },
  {
   "cell_type": "code",
   "execution_count": 7,
   "metadata": {},
   "outputs": [
    {
     "name": "stdout",
     "output_type": "stream",
     "text": [
      "t-e-c-h-p-r-o-"
     ]
    }
   ],
   "source": [
    "for i in \"techpro\":\n",
    "    print(i,end=\"-\")"
   ]
  },
  {
   "cell_type": "code",
   "execution_count": 8,
   "metadata": {},
   "outputs": [],
   "source": [
    "x = [1, 2, 3, 4, 5]"
   ]
  },
  {
   "cell_type": "code",
   "execution_count": 9,
   "metadata": {},
   "outputs": [
    {
     "name": "stdout",
     "output_type": "stream",
     "text": [
      "1\n",
      "2\n",
      "3\n",
      "4\n",
      "5\n"
     ]
    }
   ],
   "source": [
    "for index in x:\n",
    "    print(index)"
   ]
  },
  {
   "cell_type": "code",
   "execution_count": 10,
   "metadata": {},
   "outputs": [
    {
     "name": "stdout",
     "output_type": "stream",
     "text": [
      "1\n",
      "4\n",
      "9\n",
      "16\n",
      "25\n"
     ]
    }
   ],
   "source": [
    "for index in x:\n",
    "    print(index ** 2)"
   ]
  },
  {
   "cell_type": "code",
   "execution_count": 11,
   "metadata": {},
   "outputs": [],
   "source": [
    "names = [\"burçak\",\"şeyma\",\"yusuf\",\"hacer\",\"furkan\"]"
   ]
  },
  {
   "cell_type": "code",
   "execution_count": 18,
   "metadata": {},
   "outputs": [
    {
     "name": "stdout",
     "output_type": "stream",
     "text": [
      "Merhaba burçak\n",
      "Merhaba şeyma\n",
      "Merhaba yusuf\n",
      "Merhaba hacer\n",
      "Merhaba furkan\n"
     ]
    }
   ],
   "source": [
    "for name in names:\n",
    "    print(f\"Merhaba {name}\")"
   ]
  },
  {
   "cell_type": "code",
   "execution_count": 19,
   "metadata": {},
   "outputs": [
    {
     "name": "stdout",
     "output_type": "stream",
     "text": [
      "Merhaba Burçak\n",
      "Merhaba Şeyma\n",
      "Merhaba Yusuf\n",
      "Merhaba Hacer\n",
      "Merhaba Furkan\n"
     ]
    }
   ],
   "source": [
    "for name in names:\n",
    "    print(f\"Merhaba {name.title()}\")"
   ]
  },
  {
   "cell_type": "code",
   "execution_count": 3,
   "metadata": {},
   "outputs": [
    {
     "name": "stdout",
     "output_type": "stream",
     "text": [
      "t-e-c-h-p-r-o-"
     ]
    }
   ],
   "source": [
    "for i in \"techpro\":\n",
    "    print(i,end=\"-\")"
   ]
  },
  {
   "cell_type": "code",
   "execution_count": 5,
   "metadata": {},
   "outputs": [
    {
     "name": "stdout",
     "output_type": "stream",
     "text": [
      "t-e-c-h-p-r-o"
     ]
    }
   ],
   "source": [
    "count = 0\n",
    "for i in \"techpro\":\n",
    "    count += 1\n",
    "    if count < len(\"techpro\"):\n",
    "        i = i + \"-\"\n",
    "    print(i, end=\"\")"
   ]
  },
  {
   "cell_type": "code",
   "execution_count": 6,
   "metadata": {},
   "outputs": [
    {
     "data": {
      "text/plain": [
       "{'a', 'b', 'h', 'i', 'm', 'r'}"
      ]
     },
     "execution_count": 6,
     "metadata": {},
     "output_type": "execute_result"
    }
   ],
   "source": [
    "b = set(\"ibrahim\")\n",
    "b"
   ]
  },
  {
   "cell_type": "code",
   "execution_count": 12,
   "metadata": {},
   "outputs": [
    {
     "name": "stdout",
     "output_type": "stream",
     "text": [
      "İsmail Selçuk\n",
      "İsmail Selçuk\n",
      "İsmail Selçuk\n",
      "İsmail Selçuk\n",
      "İsmail Selçuk\n",
      "İsmail Selçuk\n",
      "İsmail Selçuk\n",
      "İsmail Selçuk\n",
      "İsmail Selçuk\n",
      "İsmail Selçuk\n",
      "İsmail Selçuk\n",
      "İsmail Selçuk\n",
      "İsmail Selçuk\n",
      "İsmail Selçuk\n",
      "İsmail Selçuk\n",
      "İsmail Selçuk\n",
      "İsmail Selçuk\n",
      "İsmail Selçuk\n",
      "İsmail Selçuk\n",
      "İsmail Selçuk\n",
      "İsmail Selçuk\n",
      "İsmail Selçuk\n",
      "İsmail Selçuk\n",
      "İsmail Selçuk\n",
      "İsmail Selçuk\n",
      "İsmail Selçuk\n",
      "İsmail Selçuk\n",
      "İsmail Selçuk\n",
      "İsmail Selçuk\n",
      "İsmail Selçuk\n",
      "İsmail Selçuk\n",
      "İsmail Selçuk\n",
      "İsmail Selçuk\n",
      "İsmail Selçuk\n",
      "İsmail Selçuk\n",
      "İsmail Selçuk\n",
      "İsmail Selçuk\n",
      "İsmail Selçuk\n",
      "İsmail Selçuk\n",
      "İsmail Selçuk\n",
      "İsmail Selçuk\n",
      "İsmail Selçuk\n",
      "İsmail Selçuk\n",
      "İsmail Selçuk\n",
      "İsmail Selçuk\n",
      "İsmail Selçuk\n",
      "İsmail Selçuk\n",
      "İsmail Selçuk\n",
      "İsmail Selçuk\n",
      "İsmail Selçuk\n"
     ]
    }
   ],
   "source": [
    "x = input(\"herhangi birşey yazınız :\")\n",
    "\n",
    "for i in range(50):\n",
    "    print(x)"
   ]
  },
  {
   "cell_type": "code",
   "execution_count": 16,
   "metadata": {},
   "outputs": [
    {
     "name": "stdout",
     "output_type": "stream",
     "text": [
      "naber nasılsın burnun kapıya kısılsın...\n",
      "naber nasılsın burnun kapıya kısılsın...\n",
      "naber nasılsın burnun kapıya kısılsın...\n",
      "naber nasılsın burnun kapıya kısılsın...\n",
      "naber nasılsın burnun kapıya kısılsın...\n",
      "naber nasılsın burnun kapıya kısılsın...\n",
      "naber nasılsın burnun kapıya kısılsın...\n",
      "naber nasılsın burnun kapıya kısılsın...\n",
      "naber nasılsın burnun kapıya kısılsın...\n",
      "naber nasılsın burnun kapıya kısılsın...\n"
     ]
    }
   ],
   "source": [
    "x = input(\"Herhangi birşey giriniz :\")\n",
    "y = int(input(\"Yazdığınız şeyi kaçkez dösürülecek :\"))\n",
    "\n",
    "for i in range(y):\n",
    "    print(x)"
   ]
  },
  {
   "cell_type": "code",
   "execution_count": 19,
   "metadata": {},
   "outputs": [
    {
     "name": "stdout",
     "output_type": "stream",
     "text": [
      "5 x 0 = 0\n",
      "5 x 1 = 5\n",
      "5 x 2 = 10\n",
      "5 x 3 = 15\n",
      "5 x 4 = 20\n",
      "5 x 5 = 25\n",
      "5 x 6 = 30\n",
      "5 x 7 = 35\n",
      "5 x 8 = 40\n",
      "5 x 9 = 45\n",
      "5 x 10 = 50\n"
     ]
    }
   ],
   "source": [
    "number = int(input(\"1'den 10'a kadar bir sayı girin :\"))\n",
    "\n",
    "if number in [1,2,3,4,5,6,7,8,9,10]:\n",
    "    for i in range(0,11):\n",
    "        print(f\"{number} x {i} = {number * i}\")\n",
    "\n",
    "else:\n",
    "    print(\"1 ile 10 arası bir sayı girmeni istemiştik...\")"
   ]
  },
  {
   "cell_type": "code",
   "execution_count": 20,
   "metadata": {},
   "outputs": [
    {
     "name": "stdout",
     "output_type": "stream",
     "text": [
      "5 x 0 = 0\n",
      "5 x 1 = 5\n",
      "5 x 2 = 10\n",
      "5 x 3 = 15\n",
      "5 x 4 = 20\n",
      "5 x 5 = 25\n",
      "5 x 6 = 30\n",
      "5 x 7 = 35\n",
      "5 x 8 = 40\n",
      "5 x 9 = 45\n",
      "5 x 10 = 50\n"
     ]
    }
   ],
   "source": [
    "while True:    \n",
    "    number = int(input(\"1 den 10 a kadar bir sayı girin\"))\n",
    "\n",
    "    if number in [1,2,3,4,5,6,7,8,9,10]:\n",
    "        for i in range(0,11):\n",
    "            print(f\"{number} x {i} = {number * i}\")\n",
    "        break\n",
    "    else:\n",
    "        print(\"1 ile 10 arasında bir sayı girmeni istemiştik. Lütfen doğru sayı gir\")\n",
    "        number = int(input(\"1 den 10 a kadar bir sayı girin\"))"
   ]
  },
  {
   "cell_type": "code",
   "execution_count": 22,
   "metadata": {},
   "outputs": [
    {
     "name": "stdout",
     "output_type": "stream",
     "text": [
      "Çift sayılar : [0, 2, 4, 6, 8, 10]\n",
      "Tek saıylar : [1, 3, 5, 7, 9]\n"
     ]
    }
   ],
   "source": [
    "çift = []\n",
    "tek = []\n",
    "\n",
    "for i in range(0,11):\n",
    "\n",
    "    if i % 2 == 0:\n",
    "        çift.append(i)\n",
    "    else:\n",
    "        tek.append(i)\n",
    "\n",
    "print(f\"Çift sayılar : {çift}\")\n",
    "print(f\"Tek saıylar : {tek}\")"
   ]
  },
  {
   "cell_type": "code",
   "execution_count": 24,
   "metadata": {},
   "outputs": [
    {
     "name": "stdout",
     "output_type": "stream",
     "text": [
      "1275\n"
     ]
    }
   ],
   "source": [
    "toplam = 0\n",
    "\n",
    "for i in range(51):\n",
    "    toplam += i\n",
    "print(toplam)"
   ]
  },
  {
   "cell_type": "code",
   "execution_count": 25,
   "metadata": {},
   "outputs": [
    {
     "data": {
      "text/plain": [
       "1275"
      ]
     },
     "execution_count": 25,
     "metadata": {},
     "output_type": "execute_result"
    }
   ],
   "source": [
    "sum(list(range(51)))"
   ]
  },
  {
   "cell_type": "code",
   "execution_count": 26,
   "metadata": {},
   "outputs": [
    {
     "name": "stdout",
     "output_type": "stream",
     "text": [
      "h e l l o\n"
     ]
    }
   ],
   "source": [
    "print(*\"hello\")"
   ]
  },
  {
   "cell_type": "markdown",
   "metadata": {},
   "source": [
    "armstrong numbers"
   ]
  },
  {
   "cell_type": "code",
   "execution_count": 29,
   "metadata": {},
   "outputs": [
    {
     "name": "stdout",
     "output_type": "stream",
     "text": [
      "153 sayısı armstrong bir sayıdır...\n"
     ]
    }
   ],
   "source": [
    "number = input(\"Bir sayı giriniz :\")\n",
    "\n",
    "x = len(number)\n",
    "\n",
    "toplam = 0\n",
    "\n",
    "for i in number:\n",
    "    toplam += int(i) ** x\n",
    "\n",
    "if int(number) == toplam:\n",
    "    print(f\"{number} sayısı armstrong bir sayıdır...\")\n",
    "else:\n",
    "    print(f\"{number} sayısı armstrong bir sayı değildir...\")"
   ]
  },
  {
   "cell_type": "code",
   "execution_count": 1,
   "metadata": {},
   "outputs": [
    {
     "name": "stdout",
     "output_type": "stream",
     "text": [
      "Bu ekiple ders yapmayı seviyorum\n",
      "Bu ekiple ders yapmayı seviyorum\n",
      "Bu ekiple ders yapmayı seviyorum\n",
      "Bu ekiple ders yapmayı seviyorum\n",
      "Bu ekiple ders yapmayı seviyorum\n",
      "Bu ekiple ders yapmayı seviyorum\n",
      "Bu ekiple ders yapmayı seviyorum\n",
      "Bu ekiple ders yapmayı seviyorum\n",
      "Bu ekiple ders yapmayı seviyorum\n",
      "Bu ekiple ders yapmayı seviyorum\n",
      "Bu ekiple ders yapmayı seviyorum\n",
      "Bu ekiple ders yapmayı seviyorum\n",
      "Bu ekiple ders yapmayı seviyorum\n",
      "Bu ekiple ders yapmayı seviyorum\n",
      "Bu ekiple ders yapmayı seviyorum\n",
      "Bu ekiple ders yapmayı seviyorum\n",
      "Bu ekiple ders yapmayı seviyorum\n",
      "Bu ekiple ders yapmayı seviyorum\n",
      "Bu ekiple ders yapmayı seviyorum\n",
      "Bu ekiple ders yapmayı seviyorum\n",
      "Bu ekiple ders yapmayı seviyorum\n",
      "Bu ekiple ders yapmayı seviyorum\n",
      "Bu ekiple ders yapmayı seviyorum\n",
      "Bu ekiple ders yapmayı seviyorum\n",
      "Bu ekiple ders yapmayı seviyorum\n",
      "Bu ekiple ders yapmayı seviyorum\n",
      "Bu ekiple ders yapmayı seviyorum\n",
      "Bu ekiple ders yapmayı seviyorum\n",
      "Bu ekiple ders yapmayı seviyorum\n",
      "Bu ekiple ders yapmayı seviyorum\n",
      "Bu ekiple ders yapmayı seviyorum\n",
      "Bu ekiple ders yapmayı seviyorum\n",
      "Bu ekiple ders yapmayı seviyorum\n",
      "Bu ekiple ders yapmayı seviyorum\n",
      "Bu ekiple ders yapmayı seviyorum\n",
      "Bu ekiple ders yapmayı seviyorum\n",
      "Bu ekiple ders yapmayı seviyorum\n",
      "Bu ekiple ders yapmayı seviyorum\n",
      "Bu ekiple ders yapmayı seviyorum\n",
      "Bu ekiple ders yapmayı seviyorum\n",
      "Bu ekiple ders yapmayı seviyorum\n",
      "Bu ekiple ders yapmayı seviyorum\n",
      "Bu ekiple ders yapmayı seviyorum\n",
      "Bu ekiple ders yapmayı seviyorum\n",
      "Bu ekiple ders yapmayı seviyorum\n",
      "Bu ekiple ders yapmayı seviyorum\n",
      "Bu ekiple ders yapmayı seviyorum\n",
      "Bu ekiple ders yapmayı seviyorum\n",
      "Bu ekiple ders yapmayı seviyorum\n",
      "Bu ekiple ders yapmayı seviyorum\n",
      "Bu ekiple ders yapmayı seviyorum\n",
      "Bu ekiple ders yapmayı seviyorum\n",
      "Bu ekiple ders yapmayı seviyorum\n",
      "Bu ekiple ders yapmayı seviyorum\n",
      "Bu ekiple ders yapmayı seviyorum\n",
      "Bu ekiple ders yapmayı seviyorum\n",
      "Bu ekiple ders yapmayı seviyorum\n",
      "Bu ekiple ders yapmayı seviyorum\n",
      "Bu ekiple ders yapmayı seviyorum\n",
      "Bu ekiple ders yapmayı seviyorum\n",
      "Bu ekiple ders yapmayı seviyorum\n",
      "Bu ekiple ders yapmayı seviyorum\n",
      "Bu ekiple ders yapmayı seviyorum\n",
      "Bu ekiple ders yapmayı seviyorum\n",
      "Bu ekiple ders yapmayı seviyorum\n",
      "Bu ekiple ders yapmayı seviyorum\n",
      "Bu ekiple ders yapmayı seviyorum\n",
      "Bu ekiple ders yapmayı seviyorum\n",
      "Bu ekiple ders yapmayı seviyorum\n",
      "Bu ekiple ders yapmayı seviyorum\n",
      "Bu ekiple ders yapmayı seviyorum\n",
      "Bu ekiple ders yapmayı seviyorum\n",
      "Bu ekiple ders yapmayı seviyorum\n",
      "Bu ekiple ders yapmayı seviyorum\n",
      "Bu ekiple ders yapmayı seviyorum\n",
      "Bu ekiple ders yapmayı seviyorum\n",
      "Bu ekiple ders yapmayı seviyorum\n",
      "Bu ekiple ders yapmayı seviyorum\n",
      "Bu ekiple ders yapmayı seviyorum\n",
      "Bu ekiple ders yapmayı seviyorum\n",
      "Bu ekiple ders yapmayı seviyorum\n",
      "Bu ekiple ders yapmayı seviyorum\n",
      "Bu ekiple ders yapmayı seviyorum\n",
      "Bu ekiple ders yapmayı seviyorum\n",
      "Bu ekiple ders yapmayı seviyorum\n",
      "Bu ekiple ders yapmayı seviyorum\n",
      "Bu ekiple ders yapmayı seviyorum\n",
      "Bu ekiple ders yapmayı seviyorum\n",
      "Bu ekiple ders yapmayı seviyorum\n",
      "Bu ekiple ders yapmayı seviyorum\n",
      "Bu ekiple ders yapmayı seviyorum\n",
      "Bu ekiple ders yapmayı seviyorum\n",
      "Bu ekiple ders yapmayı seviyorum\n",
      "Bu ekiple ders yapmayı seviyorum\n",
      "Bu ekiple ders yapmayı seviyorum\n",
      "Bu ekiple ders yapmayı seviyorum\n",
      "Bu ekiple ders yapmayı seviyorum\n",
      "Bu ekiple ders yapmayı seviyorum\n",
      "Bu ekiple ders yapmayı seviyorum\n",
      "Bu ekiple ders yapmayı seviyorum\n",
      "Bu ekiple ders yapmayı seviyorum\n",
      "Bu ekiple ders yapmayı seviyorum\n",
      "Bu ekiple ders yapmayı seviyorum\n",
      "Bu ekiple ders yapmayı seviyorum\n",
      "Bu ekiple ders yapmayı seviyorum\n",
      "Bu ekiple ders yapmayı seviyorum\n",
      "Bu ekiple ders yapmayı seviyorum\n",
      "Bu ekiple ders yapmayı seviyorum\n",
      "Bu ekiple ders yapmayı seviyorum\n",
      "Bu ekiple ders yapmayı seviyorum\n",
      "Bu ekiple ders yapmayı seviyorum\n",
      "Bu ekiple ders yapmayı seviyorum\n",
      "Bu ekiple ders yapmayı seviyorum\n",
      "Bu ekiple ders yapmayı seviyorum\n",
      "Bu ekiple ders yapmayı seviyorum\n",
      "Bu ekiple ders yapmayı seviyorum\n",
      "Bu ekiple ders yapmayı seviyorum\n",
      "Bu ekiple ders yapmayı seviyorum\n",
      "Bu ekiple ders yapmayı seviyorum\n",
      "Bu ekiple ders yapmayı seviyorum\n",
      "Bu ekiple ders yapmayı seviyorum\n",
      "Bu ekiple ders yapmayı seviyorum\n",
      "Bu ekiple ders yapmayı seviyorum\n",
      "Bu ekiple ders yapmayı seviyorum\n",
      "Bu ekiple ders yapmayı seviyorum\n",
      "Bu ekiple ders yapmayı seviyorum\n",
      "Bu ekiple ders yapmayı seviyorum\n",
      "Bu ekiple ders yapmayı seviyorum\n",
      "Bu ekiple ders yapmayı seviyorum\n",
      "Bu ekiple ders yapmayı seviyorum\n",
      "Bu ekiple ders yapmayı seviyorum\n",
      "Bu ekiple ders yapmayı seviyorum\n",
      "Bu ekiple ders yapmayı seviyorum\n",
      "Bu ekiple ders yapmayı seviyorum\n",
      "Bu ekiple ders yapmayı seviyorum\n",
      "Bu ekiple ders yapmayı seviyorum\n",
      "Bu ekiple ders yapmayı seviyorum\n",
      "Bu ekiple ders yapmayı seviyorum\n",
      "Bu ekiple ders yapmayı seviyorum\n",
      "Bu ekiple ders yapmayı seviyorum\n",
      "Bu ekiple ders yapmayı seviyorum\n",
      "Bu ekiple ders yapmayı seviyorum\n",
      "Bu ekiple ders yapmayı seviyorum\n",
      "Bu ekiple ders yapmayı seviyorum\n",
      "Bu ekiple ders yapmayı seviyorum\n",
      "Bu ekiple ders yapmayı seviyorum\n",
      "Bu ekiple ders yapmayı seviyorum\n",
      "Bu ekiple ders yapmayı seviyorum\n",
      "Bu ekiple ders yapmayı seviyorum\n",
      "Bu ekiple ders yapmayı seviyorum\n",
      "Bu ekiple ders yapmayı seviyorum\n",
      "Bu ekiple ders yapmayı seviyorum\n",
      "Bu ekiple ders yapmayı seviyorum\n",
      "Bu ekiple ders yapmayı seviyorum\n",
      "Bu ekiple ders yapmayı seviyorum\n",
      "Bu ekiple ders yapmayı seviyorum\n",
      "Bu ekiple ders yapmayı seviyorum\n",
      "Bu ekiple ders yapmayı seviyorum\n",
      "Bu ekiple ders yapmayı seviyorum\n",
      "Bu ekiple ders yapmayı seviyorum\n",
      "Bu ekiple ders yapmayı seviyorum\n",
      "Bu ekiple ders yapmayı seviyorum\n",
      "Bu ekiple ders yapmayı seviyorum\n",
      "Bu ekiple ders yapmayı seviyorum\n",
      "Bu ekiple ders yapmayı seviyorum\n",
      "Bu ekiple ders yapmayı seviyorum\n",
      "Bu ekiple ders yapmayı seviyorum\n",
      "Bu ekiple ders yapmayı seviyorum\n",
      "Bu ekiple ders yapmayı seviyorum\n",
      "Bu ekiple ders yapmayı seviyorum\n",
      "Bu ekiple ders yapmayı seviyorum\n",
      "Bu ekiple ders yapmayı seviyorum\n",
      "Bu ekiple ders yapmayı seviyorum\n",
      "Bu ekiple ders yapmayı seviyorum\n",
      "Bu ekiple ders yapmayı seviyorum\n",
      "Bu ekiple ders yapmayı seviyorum\n",
      "Bu ekiple ders yapmayı seviyorum\n",
      "Bu ekiple ders yapmayı seviyorum\n",
      "Bu ekiple ders yapmayı seviyorum\n",
      "Bu ekiple ders yapmayı seviyorum\n",
      "Bu ekiple ders yapmayı seviyorum\n",
      "Bu ekiple ders yapmayı seviyorum\n",
      "Bu ekiple ders yapmayı seviyorum\n",
      "Bu ekiple ders yapmayı seviyorum\n",
      "Bu ekiple ders yapmayı seviyorum\n",
      "Bu ekiple ders yapmayı seviyorum\n",
      "Bu ekiple ders yapmayı seviyorum\n",
      "Bu ekiple ders yapmayı seviyorum\n",
      "Bu ekiple ders yapmayı seviyorum\n",
      "Bu ekiple ders yapmayı seviyorum\n",
      "Bu ekiple ders yapmayı seviyorum\n",
      "Bu ekiple ders yapmayı seviyorum\n",
      "Bu ekiple ders yapmayı seviyorum\n",
      "Bu ekiple ders yapmayı seviyorum\n",
      "Bu ekiple ders yapmayı seviyorum\n",
      "Bu ekiple ders yapmayı seviyorum\n",
      "Bu ekiple ders yapmayı seviyorum\n",
      "Bu ekiple ders yapmayı seviyorum\n",
      "Bu ekiple ders yapmayı seviyorum\n",
      "Bu ekiple ders yapmayı seviyorum\n",
      "Bu ekiple ders yapmayı seviyorum\n",
      "Bu ekiple ders yapmayı seviyorum\n",
      "Bu ekiple ders yapmayı seviyorum\n",
      "Bu ekiple ders yapmayı seviyorum\n",
      "Bu ekiple ders yapmayı seviyorum\n",
      "Bu ekiple ders yapmayı seviyorum\n",
      "Bu ekiple ders yapmayı seviyorum\n",
      "Bu ekiple ders yapmayı seviyorum\n",
      "Bu ekiple ders yapmayı seviyorum\n",
      "Bu ekiple ders yapmayı seviyorum\n",
      "Bu ekiple ders yapmayı seviyorum\n",
      "Bu ekiple ders yapmayı seviyorum\n",
      "Bu ekiple ders yapmayı seviyorum\n",
      "Bu ekiple ders yapmayı seviyorum\n",
      "Bu ekiple ders yapmayı seviyorum\n",
      "Bu ekiple ders yapmayı seviyorum\n",
      "Bu ekiple ders yapmayı seviyorum\n",
      "Bu ekiple ders yapmayı seviyorum\n",
      "Bu ekiple ders yapmayı seviyorum\n",
      "Bu ekiple ders yapmayı seviyorum\n",
      "Bu ekiple ders yapmayı seviyorum\n",
      "Bu ekiple ders yapmayı seviyorum\n",
      "Bu ekiple ders yapmayı seviyorum\n",
      "Bu ekiple ders yapmayı seviyorum\n",
      "Bu ekiple ders yapmayı seviyorum\n",
      "Bu ekiple ders yapmayı seviyorum\n",
      "Bu ekiple ders yapmayı seviyorum\n",
      "Bu ekiple ders yapmayı seviyorum\n",
      "Bu ekiple ders yapmayı seviyorum\n",
      "Bu ekiple ders yapmayı seviyorum\n",
      "Bu ekiple ders yapmayı seviyorum\n",
      "Bu ekiple ders yapmayı seviyorum\n",
      "Bu ekiple ders yapmayı seviyorum\n",
      "Bu ekiple ders yapmayı seviyorum\n",
      "Bu ekiple ders yapmayı seviyorum\n",
      "Bu ekiple ders yapmayı seviyorum\n",
      "Bu ekiple ders yapmayı seviyorum\n",
      "Bu ekiple ders yapmayı seviyorum\n",
      "Bu ekiple ders yapmayı seviyorum\n",
      "Bu ekiple ders yapmayı seviyorum\n",
      "Bu ekiple ders yapmayı seviyorum\n",
      "Bu ekiple ders yapmayı seviyorum\n",
      "Bu ekiple ders yapmayı seviyorum\n",
      "Bu ekiple ders yapmayı seviyorum\n",
      "Bu ekiple ders yapmayı seviyorum\n",
      "Bu ekiple ders yapmayı seviyorum\n",
      "Bu ekiple ders yapmayı seviyorum\n",
      "Bu ekiple ders yapmayı seviyorum\n",
      "Bu ekiple ders yapmayı seviyorum\n",
      "Bu ekiple ders yapmayı seviyorum\n",
      "Bu ekiple ders yapmayı seviyorum\n",
      "Bu ekiple ders yapmayı seviyorum\n",
      "Bu ekiple ders yapmayı seviyorum\n",
      "Bu ekiple ders yapmayı seviyorum\n",
      "Bu ekiple ders yapmayı seviyorum\n",
      "Bu ekiple ders yapmayı seviyorum\n",
      "Bu ekiple ders yapmayı seviyorum\n",
      "Bu ekiple ders yapmayı seviyorum\n",
      "Bu ekiple ders yapmayı seviyorum\n",
      "Bu ekiple ders yapmayı seviyorum\n",
      "Bu ekiple ders yapmayı seviyorum\n",
      "Bu ekiple ders yapmayı seviyorum\n",
      "Bu ekiple ders yapmayı seviyorum\n",
      "Bu ekiple ders yapmayı seviyorum\n",
      "Bu ekiple ders yapmayı seviyorum\n",
      "Bu ekiple ders yapmayı seviyorum\n",
      "Bu ekiple ders yapmayı seviyorum\n",
      "Bu ekiple ders yapmayı seviyorum\n",
      "Bu ekiple ders yapmayı seviyorum\n",
      "Bu ekiple ders yapmayı seviyorum\n",
      "Bu ekiple ders yapmayı seviyorum\n",
      "Bu ekiple ders yapmayı seviyorum\n",
      "Bu ekiple ders yapmayı seviyorum\n",
      "Bu ekiple ders yapmayı seviyorum\n",
      "Bu ekiple ders yapmayı seviyorum\n",
      "Bu ekiple ders yapmayı seviyorum\n",
      "Bu ekiple ders yapmayı seviyorum\n",
      "Bu ekiple ders yapmayı seviyorum\n",
      "Bu ekiple ders yapmayı seviyorum\n",
      "Bu ekiple ders yapmayı seviyorum\n",
      "Bu ekiple ders yapmayı seviyorum\n",
      "Bu ekiple ders yapmayı seviyorum\n",
      "Bu ekiple ders yapmayı seviyorum\n",
      "Bu ekiple ders yapmayı seviyorum\n",
      "Bu ekiple ders yapmayı seviyorum\n",
      "Bu ekiple ders yapmayı seviyorum\n",
      "Bu ekiple ders yapmayı seviyorum\n",
      "Bu ekiple ders yapmayı seviyorum\n",
      "Bu ekiple ders yapmayı seviyorum\n",
      "Bu ekiple ders yapmayı seviyorum\n",
      "Bu ekiple ders yapmayı seviyorum\n",
      "Bu ekiple ders yapmayı seviyorum\n",
      "Bu ekiple ders yapmayı seviyorum\n",
      "Bu ekiple ders yapmayı seviyorum\n",
      "Bu ekiple ders yapmayı seviyorum\n",
      "Bu ekiple ders yapmayı seviyorum\n",
      "Bu ekiple ders yapmayı seviyorum\n",
      "Bu ekiple ders yapmayı seviyorum\n",
      "Bu ekiple ders yapmayı seviyorum\n",
      "Bu ekiple ders yapmayı seviyorum\n",
      "Bu ekiple ders yapmayı seviyorum\n",
      "Bu ekiple ders yapmayı seviyorum\n",
      "Bu ekiple ders yapmayı seviyorum\n",
      "Bu ekiple ders yapmayı seviyorum\n",
      "Bu ekiple ders yapmayı seviyorum\n",
      "Bu ekiple ders yapmayı seviyorum\n",
      "Bu ekiple ders yapmayı seviyorum\n",
      "Bu ekiple ders yapmayı seviyorum\n",
      "Bu ekiple ders yapmayı seviyorum\n",
      "Bu ekiple ders yapmayı seviyorum\n",
      "Bu ekiple ders yapmayı seviyorum\n",
      "Bu ekiple ders yapmayı seviyorum\n",
      "Bu ekiple ders yapmayı seviyorum\n",
      "Bu ekiple ders yapmayı seviyorum\n",
      "Bu ekiple ders yapmayı seviyorum\n",
      "Bu ekiple ders yapmayı seviyorum\n",
      "Bu ekiple ders yapmayı seviyorum\n",
      "Bu ekiple ders yapmayı seviyorum\n",
      "Bu ekiple ders yapmayı seviyorum\n",
      "Bu ekiple ders yapmayı seviyorum\n",
      "Bu ekiple ders yapmayı seviyorum\n",
      "Bu ekiple ders yapmayı seviyorum\n",
      "Bu ekiple ders yapmayı seviyorum\n",
      "Bu ekiple ders yapmayı seviyorum\n",
      "Bu ekiple ders yapmayı seviyorum\n",
      "Bu ekiple ders yapmayı seviyorum\n",
      "Bu ekiple ders yapmayı seviyorum\n",
      "Bu ekiple ders yapmayı seviyorum\n",
      "Bu ekiple ders yapmayı seviyorum\n",
      "Bu ekiple ders yapmayı seviyorum\n",
      "Bu ekiple ders yapmayı seviyorum\n",
      "Bu ekiple ders yapmayı seviyorum\n",
      "Bu ekiple ders yapmayı seviyorum\n",
      "Bu ekiple ders yapmayı seviyorum\n",
      "Bu ekiple ders yapmayı seviyorum\n",
      "Bu ekiple ders yapmayı seviyorum\n",
      "Bu ekiple ders yapmayı seviyorum\n",
      "Bu ekiple ders yapmayı seviyorum\n",
      "Bu ekiple ders yapmayı seviyorum\n",
      "Bu ekiple ders yapmayı seviyorum\n",
      "Bu ekiple ders yapmayı seviyorum\n",
      "Bu ekiple ders yapmayı seviyorum\n",
      "Bu ekiple ders yapmayı seviyorum\n",
      "Bu ekiple ders yapmayı seviyorum\n",
      "Bu ekiple ders yapmayı seviyorum\n",
      "Bu ekiple ders yapmayı seviyorum\n",
      "Bu ekiple ders yapmayı seviyorum\n",
      "Bu ekiple ders yapmayı seviyorum\n",
      "Bu ekiple ders yapmayı seviyorum\n",
      "Bu ekiple ders yapmayı seviyorum\n",
      "Bu ekiple ders yapmayı seviyorum\n",
      "Bu ekiple ders yapmayı seviyorum\n",
      "Bu ekiple ders yapmayı seviyorum\n",
      "Bu ekiple ders yapmayı seviyorum\n",
      "Bu ekiple ders yapmayı seviyorum\n",
      "Bu ekiple ders yapmayı seviyorum\n",
      "Bu ekiple ders yapmayı seviyorum\n",
      "Bu ekiple ders yapmayı seviyorum\n",
      "Bu ekiple ders yapmayı seviyorum\n",
      "Bu ekiple ders yapmayı seviyorum\n",
      "Bu ekiple ders yapmayı seviyorum\n",
      "Bu ekiple ders yapmayı seviyorum\n",
      "Bu ekiple ders yapmayı seviyorum\n",
      "Bu ekiple ders yapmayı seviyorum\n",
      "Bu ekiple ders yapmayı seviyorum\n",
      "Bu ekiple ders yapmayı seviyorum\n",
      "Bu ekiple ders yapmayı seviyorum\n",
      "Bu ekiple ders yapmayı seviyorum\n",
      "Bu ekiple ders yapmayı seviyorum\n",
      "Bu ekiple ders yapmayı seviyorum\n",
      "Bu ekiple ders yapmayı seviyorum\n",
      "Bu ekiple ders yapmayı seviyorum\n",
      "Bu ekiple ders yapmayı seviyorum\n",
      "Bu ekiple ders yapmayı seviyorum\n",
      "Bu ekiple ders yapmayı seviyorum\n",
      "Bu ekiple ders yapmayı seviyorum\n",
      "Bu ekiple ders yapmayı seviyorum\n",
      "Bu ekiple ders yapmayı seviyorum\n",
      "Bu ekiple ders yapmayı seviyorum\n",
      "Bu ekiple ders yapmayı seviyorum\n",
      "Bu ekiple ders yapmayı seviyorum\n",
      "Bu ekiple ders yapmayı seviyorum\n",
      "Bu ekiple ders yapmayı seviyorum\n",
      "Bu ekiple ders yapmayı seviyorum\n",
      "Bu ekiple ders yapmayı seviyorum\n",
      "Bu ekiple ders yapmayı seviyorum\n",
      "Bu ekiple ders yapmayı seviyorum\n",
      "Bu ekiple ders yapmayı seviyorum\n",
      "Bu ekiple ders yapmayı seviyorum\n",
      "Bu ekiple ders yapmayı seviyorum\n",
      "Bu ekiple ders yapmayı seviyorum\n",
      "Bu ekiple ders yapmayı seviyorum\n",
      "Bu ekiple ders yapmayı seviyorum\n",
      "Bu ekiple ders yapmayı seviyorum\n",
      "Bu ekiple ders yapmayı seviyorum\n",
      "Bu ekiple ders yapmayı seviyorum\n",
      "Bu ekiple ders yapmayı seviyorum\n",
      "Bu ekiple ders yapmayı seviyorum\n",
      "Bu ekiple ders yapmayı seviyorum\n",
      "Bu ekiple ders yapmayı seviyorum\n",
      "Bu ekiple ders yapmayı seviyorum\n",
      "Bu ekiple ders yapmayı seviyorum\n",
      "Bu ekiple ders yapmayı seviyorum\n",
      "Bu ekiple ders yapmayı seviyorum\n",
      "Bu ekiple ders yapmayı seviyorum\n",
      "Bu ekiple ders yapmayı seviyorum\n",
      "Bu ekiple ders yapmayı seviyorum\n",
      "Bu ekiple ders yapmayı seviyorum\n",
      "Bu ekiple ders yapmayı seviyorum\n",
      "Bu ekiple ders yapmayı seviyorum\n",
      "Bu ekiple ders yapmayı seviyorum\n",
      "Bu ekiple ders yapmayı seviyorum\n",
      "Bu ekiple ders yapmayı seviyorum\n",
      "Bu ekiple ders yapmayı seviyorum\n",
      "Bu ekiple ders yapmayı seviyorum\n",
      "Bu ekiple ders yapmayı seviyorum\n",
      "Bu ekiple ders yapmayı seviyorum\n",
      "Bu ekiple ders yapmayı seviyorum\n",
      "Bu ekiple ders yapmayı seviyorum\n",
      "Bu ekiple ders yapmayı seviyorum\n",
      "Bu ekiple ders yapmayı seviyorum\n",
      "Bu ekiple ders yapmayı seviyorum\n",
      "Bu ekiple ders yapmayı seviyorum\n",
      "Bu ekiple ders yapmayı seviyorum\n",
      "Bu ekiple ders yapmayı seviyorum\n",
      "Bu ekiple ders yapmayı seviyorum\n",
      "Bu ekiple ders yapmayı seviyorum\n",
      "Bu ekiple ders yapmayı seviyorum\n",
      "Bu ekiple ders yapmayı seviyorum\n",
      "Bu ekiple ders yapmayı seviyorum\n",
      "Bu ekiple ders yapmayı seviyorum\n",
      "Bu ekiple ders yapmayı seviyorum\n",
      "Bu ekiple ders yapmayı seviyorum\n",
      "Bu ekiple ders yapmayı seviyorum\n",
      "Bu ekiple ders yapmayı seviyorum\n",
      "Bu ekiple ders yapmayı seviyorum\n",
      "Bu ekiple ders yapmayı seviyorum\n",
      "Bu ekiple ders yapmayı seviyorum\n",
      "Bu ekiple ders yapmayı seviyorum\n",
      "Bu ekiple ders yapmayı seviyorum\n",
      "Bu ekiple ders yapmayı seviyorum\n",
      "Bu ekiple ders yapmayı seviyorum\n",
      "Bu ekiple ders yapmayı seviyorum\n",
      "Bu ekiple ders yapmayı seviyorum\n",
      "Bu ekiple ders yapmayı seviyorum\n",
      "Bu ekiple ders yapmayı seviyorum\n",
      "Bu ekiple ders yapmayı seviyorum\n",
      "Bu ekiple ders yapmayı seviyorum\n",
      "Bu ekiple ders yapmayı seviyorum\n",
      "Bu ekiple ders yapmayı seviyorum\n",
      "Bu ekiple ders yapmayı seviyorum\n",
      "Bu ekiple ders yapmayı seviyorum\n",
      "Bu ekiple ders yapmayı seviyorum\n",
      "Bu ekiple ders yapmayı seviyorum\n",
      "Bu ekiple ders yapmayı seviyorum\n",
      "Bu ekiple ders yapmayı seviyorum\n",
      "Bu ekiple ders yapmayı seviyorum\n",
      "Bu ekiple ders yapmayı seviyorum\n",
      "Bu ekiple ders yapmayı seviyorum\n",
      "Bu ekiple ders yapmayı seviyorum\n",
      "Bu ekiple ders yapmayı seviyorum\n",
      "Bu ekiple ders yapmayı seviyorum\n",
      "Bu ekiple ders yapmayı seviyorum\n",
      "Bu ekiple ders yapmayı seviyorum\n",
      "Bu ekiple ders yapmayı seviyorum\n",
      "Bu ekiple ders yapmayı seviyorum\n",
      "Bu ekiple ders yapmayı seviyorum\n",
      "Bu ekiple ders yapmayı seviyorum\n",
      "Bu ekiple ders yapmayı seviyorum\n",
      "Bu ekiple ders yapmayı seviyorum\n",
      "Bu ekiple ders yapmayı seviyorum\n",
      "Bu ekiple ders yapmayı seviyorum\n",
      "Bu ekiple ders yapmayı seviyorum\n",
      "Bu ekiple ders yapmayı seviyorum\n",
      "Bu ekiple ders yapmayı seviyorum\n",
      "Bu ekiple ders yapmayı seviyorum\n",
      "Bu ekiple ders yapmayı seviyorum\n",
      "Bu ekiple ders yapmayı seviyorum\n",
      "Bu ekiple ders yapmayı seviyorum\n",
      "Bu ekiple ders yapmayı seviyorum\n",
      "Bu ekiple ders yapmayı seviyorum\n",
      "Bu ekiple ders yapmayı seviyorum\n",
      "Bu ekiple ders yapmayı seviyorum\n",
      "Bu ekiple ders yapmayı seviyorum\n",
      "Bu ekiple ders yapmayı seviyorum\n",
      "Bu ekiple ders yapmayı seviyorum\n",
      "Bu ekiple ders yapmayı seviyorum\n",
      "Bu ekiple ders yapmayı seviyorum\n",
      "Bu ekiple ders yapmayı seviyorum\n",
      "Bu ekiple ders yapmayı seviyorum\n",
      "Bu ekiple ders yapmayı seviyorum\n",
      "Bu ekiple ders yapmayı seviyorum\n",
      "Bu ekiple ders yapmayı seviyorum\n",
      "Bu ekiple ders yapmayı seviyorum\n",
      "Bu ekiple ders yapmayı seviyorum\n",
      "Bu ekiple ders yapmayı seviyorum\n",
      "Bu ekiple ders yapmayı seviyorum\n",
      "Bu ekiple ders yapmayı seviyorum\n",
      "Bu ekiple ders yapmayı seviyorum\n",
      "Bu ekiple ders yapmayı seviyorum\n",
      "Bu ekiple ders yapmayı seviyorum\n",
      "Bu ekiple ders yapmayı seviyorum\n",
      "Bu ekiple ders yapmayı seviyorum\n",
      "Bu ekiple ders yapmayı seviyorum\n",
      "Bu ekiple ders yapmayı seviyorum\n",
      "Bu ekiple ders yapmayı seviyorum\n",
      "Bu ekiple ders yapmayı seviyorum\n",
      "Bu ekiple ders yapmayı seviyorum\n",
      "Bu ekiple ders yapmayı seviyorum\n",
      "Bu ekiple ders yapmayı seviyorum\n",
      "Bu ekiple ders yapmayı seviyorum\n",
      "Bu ekiple ders yapmayı seviyorum\n",
      "Bu ekiple ders yapmayı seviyorum\n",
      "Bu ekiple ders yapmayı seviyorum\n",
      "Bu ekiple ders yapmayı seviyorum\n",
      "Bu ekiple ders yapmayı seviyorum\n",
      "Bu ekiple ders yapmayı seviyorum\n",
      "Bu ekiple ders yapmayı seviyorum\n",
      "Bu ekiple ders yapmayı seviyorum\n",
      "Bu ekiple ders yapmayı seviyorum\n",
      "Bu ekiple ders yapmayı seviyorum\n",
      "Bu ekiple ders yapmayı seviyorum\n",
      "Bu ekiple ders yapmayı seviyorum\n",
      "Bu ekiple ders yapmayı seviyorum\n",
      "Bu ekiple ders yapmayı seviyorum\n",
      "Bu ekiple ders yapmayı seviyorum\n",
      "Bu ekiple ders yapmayı seviyorum\n",
      "Bu ekiple ders yapmayı seviyorum\n",
      "Bu ekiple ders yapmayı seviyorum\n",
      "Bu ekiple ders yapmayı seviyorum\n",
      "Bu ekiple ders yapmayı seviyorum\n",
      "Bu ekiple ders yapmayı seviyorum\n",
      "Bu ekiple ders yapmayı seviyorum\n",
      "Bu ekiple ders yapmayı seviyorum\n",
      "Bu ekiple ders yapmayı seviyorum\n",
      "Bu ekiple ders yapmayı seviyorum\n",
      "Bu ekiple ders yapmayı seviyorum\n",
      "Bu ekiple ders yapmayı seviyorum\n",
      "Bu ekiple ders yapmayı seviyorum\n",
      "Bu ekiple ders yapmayı seviyorum\n",
      "Bu ekiple ders yapmayı seviyorum\n",
      "Bu ekiple ders yapmayı seviyorum\n",
      "Bu ekiple ders yapmayı seviyorum\n",
      "Bu ekiple ders yapmayı seviyorum\n",
      "Bu ekiple ders yapmayı seviyorum\n",
      "Bu ekiple ders yapmayı seviyorum\n",
      "Bu ekiple ders yapmayı seviyorum\n",
      "Bu ekiple ders yapmayı seviyorum\n",
      "Bu ekiple ders yapmayı seviyorum\n",
      "Bu ekiple ders yapmayı seviyorum\n",
      "Bu ekiple ders yapmayı seviyorum\n",
      "Bu ekiple ders yapmayı seviyorum\n",
      "Bu ekiple ders yapmayı seviyorum\n",
      "Bu ekiple ders yapmayı seviyorum\n",
      "Bu ekiple ders yapmayı seviyorum\n",
      "Bu ekiple ders yapmayı seviyorum\n",
      "Bu ekiple ders yapmayı seviyorum\n",
      "Bu ekiple ders yapmayı seviyorum\n",
      "Bu ekiple ders yapmayı seviyorum\n",
      "Bu ekiple ders yapmayı seviyorum\n",
      "Bu ekiple ders yapmayı seviyorum\n",
      "Bu ekiple ders yapmayı seviyorum\n",
      "Bu ekiple ders yapmayı seviyorum\n",
      "Bu ekiple ders yapmayı seviyorum\n",
      "Bu ekiple ders yapmayı seviyorum\n",
      "Bu ekiple ders yapmayı seviyorum\n",
      "Bu ekiple ders yapmayı seviyorum\n",
      "Bu ekiple ders yapmayı seviyorum\n",
      "Bu ekiple ders yapmayı seviyorum\n",
      "Bu ekiple ders yapmayı seviyorum\n",
      "Bu ekiple ders yapmayı seviyorum\n",
      "Bu ekiple ders yapmayı seviyorum\n",
      "Bu ekiple ders yapmayı seviyorum\n",
      "Bu ekiple ders yapmayı seviyorum\n",
      "Bu ekiple ders yapmayı seviyorum\n",
      "Bu ekiple ders yapmayı seviyorum\n",
      "Bu ekiple ders yapmayı seviyorum\n",
      "Bu ekiple ders yapmayı seviyorum\n",
      "Bu ekiple ders yapmayı seviyorum\n",
      "Bu ekiple ders yapmayı seviyorum\n",
      "Bu ekiple ders yapmayı seviyorum\n",
      "Bu ekiple ders yapmayı seviyorum\n",
      "Bu ekiple ders yapmayı seviyorum\n",
      "Bu ekiple ders yapmayı seviyorum\n",
      "Bu ekiple ders yapmayı seviyorum\n",
      "Bu ekiple ders yapmayı seviyorum\n",
      "Bu ekiple ders yapmayı seviyorum\n",
      "Bu ekiple ders yapmayı seviyorum\n",
      "Bu ekiple ders yapmayı seviyorum\n",
      "Bu ekiple ders yapmayı seviyorum\n",
      "Bu ekiple ders yapmayı seviyorum\n",
      "Bu ekiple ders yapmayı seviyorum\n",
      "Bu ekiple ders yapmayı seviyorum\n",
      "Bu ekiple ders yapmayı seviyorum\n",
      "Bu ekiple ders yapmayı seviyorum\n",
      "Bu ekiple ders yapmayı seviyorum\n",
      "Bu ekiple ders yapmayı seviyorum\n",
      "Bu ekiple ders yapmayı seviyorum\n",
      "Bu ekiple ders yapmayı seviyorum\n",
      "Bu ekiple ders yapmayı seviyorum\n",
      "Bu ekiple ders yapmayı seviyorum\n",
      "Bu ekiple ders yapmayı seviyorum\n",
      "Bu ekiple ders yapmayı seviyorum\n",
      "Bu ekiple ders yapmayı seviyorum\n",
      "Bu ekiple ders yapmayı seviyorum\n",
      "Bu ekiple ders yapmayı seviyorum\n",
      "Bu ekiple ders yapmayı seviyorum\n",
      "Bu ekiple ders yapmayı seviyorum\n",
      "Bu ekiple ders yapmayı seviyorum\n",
      "Bu ekiple ders yapmayı seviyorum\n",
      "Bu ekiple ders yapmayı seviyorum\n",
      "Bu ekiple ders yapmayı seviyorum\n",
      "Bu ekiple ders yapmayı seviyorum\n",
      "Bu ekiple ders yapmayı seviyorum\n",
      "Bu ekiple ders yapmayı seviyorum\n",
      "Bu ekiple ders yapmayı seviyorum\n",
      "Bu ekiple ders yapmayı seviyorum\n",
      "Bu ekiple ders yapmayı seviyorum\n",
      "Bu ekiple ders yapmayı seviyorum\n",
      "Bu ekiple ders yapmayı seviyorum\n",
      "Bu ekiple ders yapmayı seviyorum\n",
      "Bu ekiple ders yapmayı seviyorum\n",
      "Bu ekiple ders yapmayı seviyorum\n",
      "Bu ekiple ders yapmayı seviyorum\n",
      "Bu ekiple ders yapmayı seviyorum\n",
      "Bu ekiple ders yapmayı seviyorum\n",
      "Bu ekiple ders yapmayı seviyorum\n",
      "Bu ekiple ders yapmayı seviyorum\n",
      "Bu ekiple ders yapmayı seviyorum\n",
      "Bu ekiple ders yapmayı seviyorum\n",
      "Bu ekiple ders yapmayı seviyorum\n",
      "Bu ekiple ders yapmayı seviyorum\n",
      "Bu ekiple ders yapmayı seviyorum\n",
      "Bu ekiple ders yapmayı seviyorum\n",
      "Bu ekiple ders yapmayı seviyorum\n",
      "Bu ekiple ders yapmayı seviyorum\n",
      "Bu ekiple ders yapmayı seviyorum\n",
      "Bu ekiple ders yapmayı seviyorum\n",
      "Bu ekiple ders yapmayı seviyorum\n",
      "Bu ekiple ders yapmayı seviyorum\n",
      "Bu ekiple ders yapmayı seviyorum\n",
      "Bu ekiple ders yapmayı seviyorum\n",
      "Bu ekiple ders yapmayı seviyorum\n",
      "Bu ekiple ders yapmayı seviyorum\n",
      "Bu ekiple ders yapmayı seviyorum\n",
      "Bu ekiple ders yapmayı seviyorum\n",
      "Bu ekiple ders yapmayı seviyorum\n",
      "Bu ekiple ders yapmayı seviyorum\n",
      "Bu ekiple ders yapmayı seviyorum\n",
      "Bu ekiple ders yapmayı seviyorum\n",
      "Bu ekiple ders yapmayı seviyorum\n",
      "Bu ekiple ders yapmayı seviyorum\n",
      "Bu ekiple ders yapmayı seviyorum\n",
      "Bu ekiple ders yapmayı seviyorum\n",
      "Bu ekiple ders yapmayı seviyorum\n",
      "Bu ekiple ders yapmayı seviyorum\n",
      "Bu ekiple ders yapmayı seviyorum\n",
      "Bu ekiple ders yapmayı seviyorum\n",
      "Bu ekiple ders yapmayı seviyorum\n",
      "Bu ekiple ders yapmayı seviyorum\n",
      "Bu ekiple ders yapmayı seviyorum\n",
      "Bu ekiple ders yapmayı seviyorum\n",
      "Bu ekiple ders yapmayı seviyorum\n",
      "Bu ekiple ders yapmayı seviyorum\n",
      "Bu ekiple ders yapmayı seviyorum\n",
      "Bu ekiple ders yapmayı seviyorum\n",
      "Bu ekiple ders yapmayı seviyorum\n",
      "Bu ekiple ders yapmayı seviyorum\n",
      "Bu ekiple ders yapmayı seviyorum\n",
      "Bu ekiple ders yapmayı seviyorum\n",
      "Bu ekiple ders yapmayı seviyorum\n",
      "Bu ekiple ders yapmayı seviyorum\n",
      "Bu ekiple ders yapmayı seviyorum\n",
      "Bu ekiple ders yapmayı seviyorum\n",
      "Bu ekiple ders yapmayı seviyorum\n",
      "Bu ekiple ders yapmayı seviyorum\n",
      "Bu ekiple ders yapmayı seviyorum\n",
      "Bu ekiple ders yapmayı seviyorum\n",
      "Bu ekiple ders yapmayı seviyorum\n",
      "Bu ekiple ders yapmayı seviyorum\n",
      "Bu ekiple ders yapmayı seviyorum\n",
      "Bu ekiple ders yapmayı seviyorum\n",
      "Bu ekiple ders yapmayı seviyorum\n",
      "Bu ekiple ders yapmayı seviyorum\n",
      "Bu ekiple ders yapmayı seviyorum\n",
      "Bu ekiple ders yapmayı seviyorum\n",
      "Bu ekiple ders yapmayı seviyorum\n",
      "Bu ekiple ders yapmayı seviyorum\n",
      "Bu ekiple ders yapmayı seviyorum\n",
      "Bu ekiple ders yapmayı seviyorum\n",
      "Bu ekiple ders yapmayı seviyorum\n",
      "Bu ekiple ders yapmayı seviyorum\n",
      "Bu ekiple ders yapmayı seviyorum\n",
      "Bu ekiple ders yapmayı seviyorum\n",
      "Bu ekiple ders yapmayı seviyorum\n",
      "Bu ekiple ders yapmayı seviyorum\n",
      "Bu ekiple ders yapmayı seviyorum\n",
      "Bu ekiple ders yapmayı seviyorum\n",
      "Bu ekiple ders yapmayı seviyorum\n",
      "Bu ekiple ders yapmayı seviyorum\n",
      "Bu ekiple ders yapmayı seviyorum\n",
      "Bu ekiple ders yapmayı seviyorum\n",
      "Bu ekiple ders yapmayı seviyorum\n",
      "Bu ekiple ders yapmayı seviyorum\n",
      "Bu ekiple ders yapmayı seviyorum\n",
      "Bu ekiple ders yapmayı seviyorum\n",
      "Bu ekiple ders yapmayı seviyorum\n",
      "Bu ekiple ders yapmayı seviyorum\n",
      "Bu ekiple ders yapmayı seviyorum\n",
      "Bu ekiple ders yapmayı seviyorum\n",
      "Bu ekiple ders yapmayı seviyorum\n",
      "Bu ekiple ders yapmayı seviyorum\n",
      "Bu ekiple ders yapmayı seviyorum\n",
      "Bu ekiple ders yapmayı seviyorum\n",
      "Bu ekiple ders yapmayı seviyorum\n",
      "Bu ekiple ders yapmayı seviyorum\n",
      "Bu ekiple ders yapmayı seviyorum\n",
      "Bu ekiple ders yapmayı seviyorum\n",
      "Bu ekiple ders yapmayı seviyorum\n",
      "Bu ekiple ders yapmayı seviyorum\n",
      "Bu ekiple ders yapmayı seviyorum\n",
      "Bu ekiple ders yapmayı seviyorum\n",
      "Bu ekiple ders yapmayı seviyorum\n",
      "Bu ekiple ders yapmayı seviyorum\n",
      "Bu ekiple ders yapmayı seviyorum\n",
      "Bu ekiple ders yapmayı seviyorum\n",
      "Bu ekiple ders yapmayı seviyorum\n",
      "Bu ekiple ders yapmayı seviyorum\n",
      "Bu ekiple ders yapmayı seviyorum\n",
      "Bu ekiple ders yapmayı seviyorum\n",
      "Bu ekiple ders yapmayı seviyorum\n",
      "Bu ekiple ders yapmayı seviyorum\n",
      "Bu ekiple ders yapmayı seviyorum\n",
      "Bu ekiple ders yapmayı seviyorum\n",
      "Bu ekiple ders yapmayı seviyorum\n",
      "Bu ekiple ders yapmayı seviyorum\n",
      "Bu ekiple ders yapmayı seviyorum\n",
      "Bu ekiple ders yapmayı seviyorum\n",
      "Bu ekiple ders yapmayı seviyorum\n",
      "Bu ekiple ders yapmayı seviyorum\n",
      "Bu ekiple ders yapmayı seviyorum\n",
      "Bu ekiple ders yapmayı seviyorum\n",
      "Bu ekiple ders yapmayı seviyorum\n",
      "Bu ekiple ders yapmayı seviyorum\n",
      "Bu ekiple ders yapmayı seviyorum\n",
      "Bu ekiple ders yapmayı seviyorum\n",
      "Bu ekiple ders yapmayı seviyorum\n",
      "Bu ekiple ders yapmayı seviyorum\n",
      "Bu ekiple ders yapmayı seviyorum\n",
      "Bu ekiple ders yapmayı seviyorum\n",
      "Bu ekiple ders yapmayı seviyorum\n",
      "Bu ekiple ders yapmayı seviyorum\n",
      "Bu ekiple ders yapmayı seviyorum\n",
      "Bu ekiple ders yapmayı seviyorum\n",
      "Bu ekiple ders yapmayı seviyorum\n",
      "Bu ekiple ders yapmayı seviyorum\n",
      "Bu ekiple ders yapmayı seviyorum\n",
      "Bu ekiple ders yapmayı seviyorum\n",
      "Bu ekiple ders yapmayı seviyorum\n",
      "Bu ekiple ders yapmayı seviyorum\n",
      "Bu ekiple ders yapmayı seviyorum\n",
      "Bu ekiple ders yapmayı seviyorum\n",
      "Bu ekiple ders yapmayı seviyorum\n",
      "Bu ekiple ders yapmayı seviyorum\n",
      "Bu ekiple ders yapmayı seviyorum\n",
      "Bu ekiple ders yapmayı seviyorum\n",
      "Bu ekiple ders yapmayı seviyorum\n",
      "Bu ekiple ders yapmayı seviyorum\n",
      "Bu ekiple ders yapmayı seviyorum\n",
      "Bu ekiple ders yapmayı seviyorum\n",
      "Bu ekiple ders yapmayı seviyorum\n",
      "Bu ekiple ders yapmayı seviyorum\n",
      "Bu ekiple ders yapmayı seviyorum\n",
      "Bu ekiple ders yapmayı seviyorum\n",
      "Bu ekiple ders yapmayı seviyorum\n",
      "Bu ekiple ders yapmayı seviyorum\n",
      "Bu ekiple ders yapmayı seviyorum\n",
      "Bu ekiple ders yapmayı seviyorum\n",
      "Bu ekiple ders yapmayı seviyorum\n",
      "Bu ekiple ders yapmayı seviyorum\n",
      "Bu ekiple ders yapmayı seviyorum\n",
      "Bu ekiple ders yapmayı seviyorum\n",
      "Bu ekiple ders yapmayı seviyorum\n",
      "Bu ekiple ders yapmayı seviyorum\n",
      "Bu ekiple ders yapmayı seviyorum\n",
      "Bu ekiple ders yapmayı seviyorum\n",
      "Bu ekiple ders yapmayı seviyorum\n",
      "Bu ekiple ders yapmayı seviyorum\n",
      "Bu ekiple ders yapmayı seviyorum\n",
      "Bu ekiple ders yapmayı seviyorum\n",
      "Bu ekiple ders yapmayı seviyorum\n",
      "Bu ekiple ders yapmayı seviyorum\n",
      "Bu ekiple ders yapmayı seviyorum\n",
      "Bu ekiple ders yapmayı seviyorum\n",
      "Bu ekiple ders yapmayı seviyorum\n",
      "Bu ekiple ders yapmayı seviyorum\n",
      "Bu ekiple ders yapmayı seviyorum\n",
      "Bu ekiple ders yapmayı seviyorum\n",
      "Bu ekiple ders yapmayı seviyorum\n",
      "Bu ekiple ders yapmayı seviyorum\n",
      "Bu ekiple ders yapmayı seviyorum\n",
      "Bu ekiple ders yapmayı seviyorum\n",
      "Bu ekiple ders yapmayı seviyorum\n",
      "Bu ekiple ders yapmayı seviyorum\n",
      "Bu ekiple ders yapmayı seviyorum\n",
      "Bu ekiple ders yapmayı seviyorum\n",
      "Bu ekiple ders yapmayı seviyorum\n",
      "Bu ekiple ders yapmayı seviyorum\n",
      "Bu ekiple ders yapmayı seviyorum\n",
      "Bu ekiple ders yapmayı seviyorum\n",
      "Bu ekiple ders yapmayı seviyorum\n",
      "Bu ekiple ders yapmayı seviyorum\n",
      "Bu ekiple ders yapmayı seviyorum\n",
      "Bu ekiple ders yapmayı seviyorum\n",
      "Bu ekiple ders yapmayı seviyorum\n",
      "Bu ekiple ders yapmayı seviyorum\n",
      "Bu ekiple ders yapmayı seviyorum\n",
      "Bu ekiple ders yapmayı seviyorum\n",
      "Bu ekiple ders yapmayı seviyorum\n",
      "Bu ekiple ders yapmayı seviyorum\n",
      "Bu ekiple ders yapmayı seviyorum\n",
      "Bu ekiple ders yapmayı seviyorum\n",
      "Bu ekiple ders yapmayı seviyorum\n",
      "Bu ekiple ders yapmayı seviyorum\n",
      "Bu ekiple ders yapmayı seviyorum\n",
      "Bu ekiple ders yapmayı seviyorum\n",
      "Bu ekiple ders yapmayı seviyorum\n",
      "Bu ekiple ders yapmayı seviyorum\n",
      "Bu ekiple ders yapmayı seviyorum\n",
      "Bu ekiple ders yapmayı seviyorum\n",
      "Bu ekiple ders yapmayı seviyorum\n",
      "Bu ekiple ders yapmayı seviyorum\n",
      "Bu ekiple ders yapmayı seviyorum\n",
      "Bu ekiple ders yapmayı seviyorum\n",
      "Bu ekiple ders yapmayı seviyorum\n",
      "Bu ekiple ders yapmayı seviyorum\n",
      "Bu ekiple ders yapmayı seviyorum\n",
      "Bu ekiple ders yapmayı seviyorum\n",
      "Bu ekiple ders yapmayı seviyorum\n",
      "Bu ekiple ders yapmayı seviyorum\n",
      "Bu ekiple ders yapmayı seviyorum\n",
      "Bu ekiple ders yapmayı seviyorum\n",
      "Bu ekiple ders yapmayı seviyorum\n",
      "Bu ekiple ders yapmayı seviyorum\n",
      "Bu ekiple ders yapmayı seviyorum\n",
      "Bu ekiple ders yapmayı seviyorum\n",
      "Bu ekiple ders yapmayı seviyorum\n",
      "Bu ekiple ders yapmayı seviyorum\n",
      "Bu ekiple ders yapmayı seviyorum\n",
      "Bu ekiple ders yapmayı seviyorum\n",
      "Bu ekiple ders yapmayı seviyorum\n",
      "Bu ekiple ders yapmayı seviyorum\n",
      "Bu ekiple ders yapmayı seviyorum\n",
      "Bu ekiple ders yapmayı seviyorum\n",
      "Bu ekiple ders yapmayı seviyorum\n",
      "Bu ekiple ders yapmayı seviyorum\n",
      "Bu ekiple ders yapmayı seviyorum\n",
      "Bu ekiple ders yapmayı seviyorum\n",
      "Bu ekiple ders yapmayı seviyorum\n",
      "Bu ekiple ders yapmayı seviyorum\n",
      "Bu ekiple ders yapmayı seviyorum\n",
      "Bu ekiple ders yapmayı seviyorum\n",
      "Bu ekiple ders yapmayı seviyorum\n",
      "Bu ekiple ders yapmayı seviyorum\n",
      "Bu ekiple ders yapmayı seviyorum\n",
      "Bu ekiple ders yapmayı seviyorum\n",
      "Bu ekiple ders yapmayı seviyorum\n",
      "Bu ekiple ders yapmayı seviyorum\n",
      "Bu ekiple ders yapmayı seviyorum\n",
      "Bu ekiple ders yapmayı seviyorum\n",
      "Bu ekiple ders yapmayı seviyorum\n",
      "Bu ekiple ders yapmayı seviyorum\n",
      "Bu ekiple ders yapmayı seviyorum\n",
      "Bu ekiple ders yapmayı seviyorum\n",
      "Bu ekiple ders yapmayı seviyorum\n",
      "Bu ekiple ders yapmayı seviyorum\n",
      "Bu ekiple ders yapmayı seviyorum\n",
      "Bu ekiple ders yapmayı seviyorum\n",
      "Bu ekiple ders yapmayı seviyorum\n",
      "Bu ekiple ders yapmayı seviyorum\n",
      "Bu ekiple ders yapmayı seviyorum\n",
      "Bu ekiple ders yapmayı seviyorum\n",
      "Bu ekiple ders yapmayı seviyorum\n",
      "Bu ekiple ders yapmayı seviyorum\n",
      "Bu ekiple ders yapmayı seviyorum\n",
      "Bu ekiple ders yapmayı seviyorum\n",
      "Bu ekiple ders yapmayı seviyorum\n",
      "Bu ekiple ders yapmayı seviyorum\n",
      "Bu ekiple ders yapmayı seviyorum\n",
      "Bu ekiple ders yapmayı seviyorum\n",
      "Bu ekiple ders yapmayı seviyorum\n",
      "Bu ekiple ders yapmayı seviyorum\n",
      "Bu ekiple ders yapmayı seviyorum\n",
      "Bu ekiple ders yapmayı seviyorum\n",
      "Bu ekiple ders yapmayı seviyorum\n",
      "Bu ekiple ders yapmayı seviyorum\n",
      "Bu ekiple ders yapmayı seviyorum\n",
      "Bu ekiple ders yapmayı seviyorum\n",
      "Bu ekiple ders yapmayı seviyorum\n",
      "Bu ekiple ders yapmayı seviyorum\n",
      "Bu ekiple ders yapmayı seviyorum\n",
      "Bu ekiple ders yapmayı seviyorum\n",
      "Bu ekiple ders yapmayı seviyorum\n",
      "Bu ekiple ders yapmayı seviyorum\n",
      "Bu ekiple ders yapmayı seviyorum\n",
      "Bu ekiple ders yapmayı seviyorum\n",
      "Bu ekiple ders yapmayı seviyorum\n",
      "Bu ekiple ders yapmayı seviyorum\n",
      "Bu ekiple ders yapmayı seviyorum\n",
      "Bu ekiple ders yapmayı seviyorum\n",
      "Bu ekiple ders yapmayı seviyorum\n",
      "Bu ekiple ders yapmayı seviyorum\n",
      "Bu ekiple ders yapmayı seviyorum\n",
      "Bu ekiple ders yapmayı seviyorum\n",
      "Bu ekiple ders yapmayı seviyorum\n",
      "Bu ekiple ders yapmayı seviyorum\n",
      "Bu ekiple ders yapmayı seviyorum\n",
      "Bu ekiple ders yapmayı seviyorum\n",
      "Bu ekiple ders yapmayı seviyorum\n",
      "Bu ekiple ders yapmayı seviyorum\n",
      "Bu ekiple ders yapmayı seviyorum\n",
      "Bu ekiple ders yapmayı seviyorum\n",
      "Bu ekiple ders yapmayı seviyorum\n",
      "Bu ekiple ders yapmayı seviyorum\n",
      "Bu ekiple ders yapmayı seviyorum\n",
      "Bu ekiple ders yapmayı seviyorum\n",
      "Bu ekiple ders yapmayı seviyorum\n",
      "Bu ekiple ders yapmayı seviyorum\n",
      "Bu ekiple ders yapmayı seviyorum\n",
      "Bu ekiple ders yapmayı seviyorum\n",
      "Bu ekiple ders yapmayı seviyorum\n",
      "Bu ekiple ders yapmayı seviyorum\n",
      "Bu ekiple ders yapmayı seviyorum\n",
      "Bu ekiple ders yapmayı seviyorum\n",
      "Bu ekiple ders yapmayı seviyorum\n",
      "Bu ekiple ders yapmayı seviyorum\n",
      "Bu ekiple ders yapmayı seviyorum\n",
      "Bu ekiple ders yapmayı seviyorum\n",
      "Bu ekiple ders yapmayı seviyorum\n",
      "Bu ekiple ders yapmayı seviyorum\n",
      "Bu ekiple ders yapmayı seviyorum\n",
      "Bu ekiple ders yapmayı seviyorum\n",
      "Bu ekiple ders yapmayı seviyorum\n",
      "Bu ekiple ders yapmayı seviyorum\n",
      "Bu ekiple ders yapmayı seviyorum\n",
      "Bu ekiple ders yapmayı seviyorum\n",
      "Bu ekiple ders yapmayı seviyorum\n",
      "Bu ekiple ders yapmayı seviyorum\n",
      "Bu ekiple ders yapmayı seviyorum\n",
      "Bu ekiple ders yapmayı seviyorum\n",
      "Bu ekiple ders yapmayı seviyorum\n",
      "Bu ekiple ders yapmayı seviyorum\n",
      "Bu ekiple ders yapmayı seviyorum\n",
      "Bu ekiple ders yapmayı seviyorum\n",
      "Bu ekiple ders yapmayı seviyorum\n",
      "Bu ekiple ders yapmayı seviyorum\n",
      "Bu ekiple ders yapmayı seviyorum\n",
      "Bu ekiple ders yapmayı seviyorum\n",
      "Bu ekiple ders yapmayı seviyorum\n",
      "Bu ekiple ders yapmayı seviyorum\n",
      "Bu ekiple ders yapmayı seviyorum\n",
      "Bu ekiple ders yapmayı seviyorum\n",
      "Bu ekiple ders yapmayı seviyorum\n",
      "Bu ekiple ders yapmayı seviyorum\n",
      "Bu ekiple ders yapmayı seviyorum\n",
      "Bu ekiple ders yapmayı seviyorum\n",
      "Bu ekiple ders yapmayı seviyorum\n",
      "Bu ekiple ders yapmayı seviyorum\n",
      "Bu ekiple ders yapmayı seviyorum\n",
      "Bu ekiple ders yapmayı seviyorum\n",
      "Bu ekiple ders yapmayı seviyorum\n",
      "Bu ekiple ders yapmayı seviyorum\n",
      "Bu ekiple ders yapmayı seviyorum\n",
      "Bu ekiple ders yapmayı seviyorum\n",
      "Bu ekiple ders yapmayı seviyorum\n",
      "Bu ekiple ders yapmayı seviyorum\n",
      "Bu ekiple ders yapmayı seviyorum\n",
      "Bu ekiple ders yapmayı seviyorum\n",
      "Bu ekiple ders yapmayı seviyorum\n",
      "Bu ekiple ders yapmayı seviyorum\n",
      "Bu ekiple ders yapmayı seviyorum\n",
      "Bu ekiple ders yapmayı seviyorum\n",
      "Bu ekiple ders yapmayı seviyorum\n",
      "Bu ekiple ders yapmayı seviyorum\n",
      "Bu ekiple ders yapmayı seviyorum\n",
      "Bu ekiple ders yapmayı seviyorum\n",
      "Bu ekiple ders yapmayı seviyorum\n",
      "Bu ekiple ders yapmayı seviyorum\n",
      "Bu ekiple ders yapmayı seviyorum\n",
      "Bu ekiple ders yapmayı seviyorum\n",
      "Bu ekiple ders yapmayı seviyorum\n",
      "Bu ekiple ders yapmayı seviyorum\n",
      "Bu ekiple ders yapmayı seviyorum\n",
      "Bu ekiple ders yapmayı seviyorum\n",
      "Bu ekiple ders yapmayı seviyorum\n",
      "Bu ekiple ders yapmayı seviyorum\n",
      "Bu ekiple ders yapmayı seviyorum\n",
      "Bu ekiple ders yapmayı seviyorum\n",
      "Bu ekiple ders yapmayı seviyorum\n",
      "Bu ekiple ders yapmayı seviyorum\n"
     ]
    }
   ],
   "source": [
    "for i in range(1000):\n",
    "    print(\"Bu ekiple ders yapmayı seviyorum\")"
   ]
  },
  {
   "cell_type": "code",
   "execution_count": 2,
   "metadata": {},
   "outputs": [
    {
     "name": "stdout",
     "output_type": "stream",
     "text": [
      "153 sayısı armstrong bir sayıdır...\n",
      "370 sayısı armstrong bir sayıdır...\n",
      "371 sayısı armstrong bir sayıdır...\n",
      "407 sayısı armstrong bir sayıdır...\n",
      "1634 sayısı armstrong bir sayıdır...\n"
     ]
    }
   ],
   "source": [
    "for i in range(10,5000):\n",
    "    \n",
    "    toplam = 0\n",
    "    \n",
    "    for x in str(i):\n",
    "        toplam += int(x) ** (len(str(i)))\n",
    "    \n",
    "    if i == toplam:\n",
    "        print(f\"{i} sayısı armstrong bir sayıdır...\")"
   ]
  },
  {
   "cell_type": "code",
   "execution_count": 3,
   "metadata": {},
   "outputs": [
    {
     "name": "stdout",
     "output_type": "stream",
     "text": [
      "ts\n",
      "te\n",
      "es\n",
      "ee\n",
      "cs\n",
      "ce\n",
      "hs\n",
      "he\n",
      "ps\n",
      "pe\n",
      "rs\n",
      "re\n",
      "os\n",
      "oe\n"
     ]
    }
   ],
   "source": [
    "for i in \"techpro\":\n",
    "    for j in \"sedat\":\n",
    "        if j == \"d\":\n",
    "            break\n",
    "        print(i + j)"
   ]
  },
  {
   "cell_type": "markdown",
   "metadata": {},
   "source": [
    "## list comprehension"
   ]
  },
  {
   "cell_type": "code",
   "execution_count": 4,
   "metadata": {},
   "outputs": [
    {
     "data": {
      "text/plain": [
       "['s', 't', 'e', 'c', 'h', 'p', 'r', 'o']"
      ]
     },
     "execution_count": 4,
     "metadata": {},
     "output_type": "execute_result"
    }
   ],
   "source": [
    "empty_list1 = []\n",
    "for i in \"stechpro\":\n",
    "    empty_list1.append(i)\n",
    "empty_list1"
   ]
  },
  {
   "cell_type": "code",
   "execution_count": 5,
   "metadata": {},
   "outputs": [
    {
     "data": {
      "text/plain": [
       "['t', 'e', 'c', 'h', 'p', 'r', 'o']"
      ]
     },
     "execution_count": 5,
     "metadata": {},
     "output_type": "execute_result"
    }
   ],
   "source": [
    "[   i   for i in \"techpro\"]"
   ]
  },
  {
   "cell_type": "code",
   "execution_count": 10,
   "metadata": {},
   "outputs": [
    {
     "name": "stdout",
     "output_type": "stream",
     "text": [
      "[1, 4, 9, 16, 25]\n"
     ]
    }
   ],
   "source": [
    "boş_liste = []\n",
    "\n",
    "for i in liste3:\n",
    "    boş_liste.append(i ** 2)\n",
    "\n",
    "print(boş_liste)"
   ]
  },
  {
   "cell_type": "code",
   "execution_count": 6,
   "metadata": {},
   "outputs": [
    {
     "data": {
      "text/plain": [
       "[1, 4, 9, 16, 25]"
      ]
     },
     "execution_count": 6,
     "metadata": {},
     "output_type": "execute_result"
    }
   ],
   "source": [
    "liste3 = [1,2,3,4,5]\n",
    "[ i ** 2  for i in liste3]"
   ]
  },
  {
   "cell_type": "code",
   "execution_count": 9,
   "metadata": {},
   "outputs": [
    {
     "data": {
      "text/plain": [
       "[1, 3, 5, 7, 9]"
      ]
     },
     "execution_count": 9,
     "metadata": {},
     "output_type": "execute_result"
    }
   ],
   "source": [
    "[  i for i in range(11) if i % 2]"
   ]
  },
  {
   "cell_type": "markdown",
   "metadata": {},
   "source": [
    "# büyük ünlü uyumu\n",
    "## Bir kelimenin birinci hecesinde kalın bir ünlü (a, ı, o, u) bulunuyorsa diğer hecelerdeki ünlüler de kalın, ince bir ünlü (e, i, ö, ü) bulunuyorsa diğer hecelerdeki ünlüler de ince olur:\n"
   ]
  },
  {
   "cell_type": "code",
   "execution_count": 14,
   "metadata": {},
   "outputs": [
    {
     "name": "stdout",
     "output_type": "stream",
     "text": [
      "İsmail Selçuk\n",
      "kalın ünlü sayısı = 2\n",
      "ince ünlü sayısı = 3\n",
      "İsmail Selçuk büyük ünlü uyumu aranmaz...\n"
     ]
    }
   ],
   "source": [
    "isim = input(\"Lütfen isminizi giriniz :\")\n",
    "\n",
    "kalın_ünlü = 0\n",
    "ince_ünlü = 0\n",
    "\n",
    "for i in isim.lower():\n",
    "    \n",
    "    if i in \"aıou\":\n",
    "        kalın_ünlü += 1\n",
    "    elif i in \"eiöü\":\n",
    "        ince_ünlü += 1\n",
    "\n",
    "print(isim)\n",
    "print(f\"kalın ünlü sayısı = {kalın_ünlü}\")\n",
    "print(f\"ince ünlü sayısı = {ince_ünlü}\")\n",
    "\n",
    "if kalın_ünlü > 0 or ince_ünlü > 0:\n",
    "    \n",
    "    if kalın_ünlü + ince_ünlü == 1:\n",
    "        print(f\"{isim} büyük ünlü uyumu aranmaz...\")\n",
    "    elif kalın_ünlü * ince_ünlü == 0:\n",
    "        print(f\"{isim} büyük ünlü uyumu aranır...\")\n",
    "    else:\n",
    "        print(f\"{isim} büyük ünlü uyumu aranmaz...\")\n",
    "else:\n",
    "    print(f\"{isim}: Hiç sesli harf yok...\")"
   ]
  },
  {
   "cell_type": "markdown",
   "metadata": {},
   "source": [
    "TASK\n",
    "Kullanıcıdan aldığınız bir cümlenin karakterlerini kaç kere geçtiğini\n",
    "döndüren bir algoritma oluşturalım.\n",
    "\n",
    "sentence = \"Bir dersin daha sonuna geldik.\""
   ]
  },
  {
   "cell_type": "code",
   "execution_count": 1,
   "metadata": {},
   "outputs": [
    {
     "data": {
      "text/plain": [
       "200.0"
      ]
     },
     "execution_count": 1,
     "metadata": {},
     "output_type": "execute_result"
    }
   ],
   "source": [
    "2e2 # "
   ]
  },
  {
   "cell_type": "code",
   "execution_count": 3,
   "metadata": {},
   "outputs": [
    {
     "data": {
      "text/plain": [
       "[(100, 'techpro'), (101, 'sedat')]"
      ]
     },
     "execution_count": 3,
     "metadata": {},
     "output_type": "execute_result"
    }
   ],
   "source": [
    "liste = [\"techpro\",\"sedat\"]\n",
    "list(enumerate(liste,100))"
   ]
  },
  {
   "cell_type": "code",
   "execution_count": 1,
   "metadata": {},
   "outputs": [],
   "source": [
    "#TASK\n",
    "#Bir ATM algoritması oluşturun.\n",
    "#- Kullanıcıya Hoşgeldiniz mesajı versin\n",
    "#- Kullanıcıya yapmak istediğiişlemi sorsun(1-Bakiye görüntüleme\n",
    "#                                           2-Para Yatırma\n",
    "#                                           3-Para Çekme- Bakiyeden fazla para isterse yetersiz bakiye çıktısı versin.)\n",
    "#- Kullanıcı cancel tuşuna bastığı zaman işlemi bitirsin ve \"Yeniden görüşmek üzere\" mesajı versin.\n",
    "#- Kullanıcı yanlış giriş yaparsa tekrar giriş yapması için fırsat versin."
   ]
  },
  {
   "cell_type": "code",
   "execution_count": null,
   "metadata": {},
   "outputs": [],
   "source": [
    "def my_function(parameters):\n",
    "    body"
   ]
  },
  {
   "cell_type": "code",
   "execution_count": 6,
   "metadata": {},
   "outputs": [],
   "source": [
    "def kareler_toplamı(x,y):\n",
    "    print(x ** 2 + y ** 2)"
   ]
  },
  {
   "cell_type": "code",
   "execution_count": 7,
   "metadata": {},
   "outputs": [
    {
     "name": "stdout",
     "output_type": "stream",
     "text": [
      "29\n"
     ]
    }
   ],
   "source": [
    "kareler_toplamı(2,5)"
   ]
  },
  {
   "cell_type": "code",
   "execution_count": 10,
   "metadata": {},
   "outputs": [],
   "source": [
    "def altın_gram_fiyatı(dolar,ons):\n",
    "    print(dolar * ons / 31.10)"
   ]
  },
  {
   "cell_type": "code",
   "execution_count": 11,
   "metadata": {},
   "outputs": [
    {
     "name": "stdout",
     "output_type": "stream",
     "text": [
      "981.5112540192926\n"
     ]
    }
   ],
   "source": [
    "altın_gram_fiyatı(18.50,1650)"
   ]
  },
  {
   "cell_type": "code",
   "execution_count": 12,
   "metadata": {},
   "outputs": [],
   "source": [
    "def çarpma(x,y):\n",
    "    print(x * y)"
   ]
  },
  {
   "cell_type": "code",
   "execution_count": 13,
   "metadata": {},
   "outputs": [
    {
     "name": "stdout",
     "output_type": "stream",
     "text": [
      "100\n"
     ]
    }
   ],
   "source": [
    "çarpma(10,10)"
   ]
  },
  {
   "cell_type": "code",
   "execution_count": 14,
   "metadata": {},
   "outputs": [],
   "source": [
    "def multiply(a,b):\n",
    "    return a * b"
   ]
  },
  {
   "cell_type": "code",
   "execution_count": 16,
   "metadata": {},
   "outputs": [
    {
     "name": "stdout",
     "output_type": "stream",
     "text": [
      "100\n"
     ]
    }
   ],
   "source": [
    "print(multiply(10,10))"
   ]
  },
  {
   "cell_type": "code",
   "execution_count": 17,
   "metadata": {},
   "outputs": [],
   "source": [
    "def my_name(first_name,last_name):\n",
    "    print(f\"My name is {first_name} {last_name}\")"
   ]
  },
  {
   "cell_type": "code",
   "execution_count": 18,
   "metadata": {},
   "outputs": [
    {
     "name": "stdout",
     "output_type": "stream",
     "text": [
      "My name is İsmail Selçuk\n"
     ]
    }
   ],
   "source": [
    "my_name(\"İsmail\",\"Selçuk\")"
   ]
  },
  {
   "cell_type": "code",
   "execution_count": 20,
   "metadata": {},
   "outputs": [],
   "source": [
    "def my_name2(first_name, last_name= \"Techpro\"):\n",
    "    print(f\"My name is {first_name} {last_name}\")"
   ]
  },
  {
   "cell_type": "code",
   "execution_count": 21,
   "metadata": {},
   "outputs": [
    {
     "name": "stdout",
     "output_type": "stream",
     "text": [
      "My name is İsmail Techpro\n"
     ]
    }
   ],
   "source": [
    "my_name2(\"İsmail\")"
   ]
  },
  {
   "cell_type": "code",
   "execution_count": 24,
   "metadata": {},
   "outputs": [],
   "source": [
    "a = \"Adana\"\n",
    "b = \"I\"\n",
    "c = \"\\U00002764\""
   ]
  },
  {
   "cell_type": "code",
   "execution_count": 25,
   "metadata": {},
   "outputs": [
    {
     "data": {
      "text/plain": [
       "'❤'"
      ]
     },
     "execution_count": 25,
     "metadata": {},
     "output_type": "execute_result"
    }
   ],
   "source": [
    "c"
   ]
  },
  {
   "cell_type": "code",
   "execution_count": 32,
   "metadata": {},
   "outputs": [],
   "source": [
    "def tek_sayılar(a,b,c,d,e):\n",
    "    empty_list = []\n",
    "    for i in liste:\n",
    "        if i % 2:\n",
    "            empty_list.append()\n",
    "    return empty_list"
   ]
  },
  {
   "cell_type": "code",
   "execution_count": null,
   "metadata": {},
   "outputs": [],
   "source": [
    "tek_sayılar(6,7,8,9,10)"
   ]
  },
  {
   "cell_type": "markdown",
   "metadata": {},
   "source": [
    "# eval() ve exec()"
   ]
  },
  {
   "cell_type": "code",
   "execution_count": 1,
   "metadata": {},
   "outputs": [],
   "source": [
    "ocak=mart=mayis=temmuz=31\n",
    "bisan=haziran=30\n",
    "subat=28"
   ]
  },
  {
   "cell_type": "code",
   "execution_count": 2,
   "metadata": {},
   "outputs": [],
   "source": [
    "dönem=input(\"\"\"Hangi aya aitü fatuürayı hesaplamak istersiniz ? (Lütfen ay adının tamamı küçük harf..\\n)\"\"\")"
   ]
  },
  {
   "cell_type": "code",
   "execution_count": 3,
   "metadata": {},
   "outputs": [
    {
     "name": "stdout",
     "output_type": "stream",
     "text": [
      "subat 28\n"
     ]
    }
   ],
   "source": [
    "ay = eval(dönem)\n",
    "print(dönem,ay)"
   ]
  },
  {
   "cell_type": "code",
   "execution_count": 4,
   "metadata": {},
   "outputs": [
    {
     "data": {
      "text/plain": [
       "'5+6'"
      ]
     },
     "execution_count": 4,
     "metadata": {},
     "output_type": "execute_result"
    }
   ],
   "source": [
    "\"5+6\""
   ]
  },
  {
   "cell_type": "code",
   "execution_count": 5,
   "metadata": {},
   "outputs": [
    {
     "data": {
      "text/plain": [
       "11"
      ]
     },
     "execution_count": 5,
     "metadata": {},
     "output_type": "execute_result"
    }
   ],
   "source": [
    "eval(\"5+6\")"
   ]
  },
  {
   "cell_type": "code",
   "execution_count": 1,
   "metadata": {},
   "outputs": [
    {
     "name": "stdout",
     "output_type": "stream",
     "text": [
      "\n",
      "Basit bir hesap makinesi uygulaması.\n",
      "İşleçler:\n",
      "    +   toplama\n",
      "    -   çıkarma\n",
      "    *   çarpma\n",
      "    /   bölme\n",
      "Yapmak istediğiniz işlemi yazıp ENTER\n",
      "tuşuna basın. (Örneğin 23 ve 46 sayılarını\n",
      "çarpmak için 23 * 46 yazdıktan sonra\n",
      "ENTER tuşuna basın.)\n",
      "\n",
      "555\n"
     ]
    }
   ],
   "source": [
    "print(\"\"\"\n",
    "Basit bir hesap makinesi uygulaması.\n",
    "İşleçler:\n",
    "    +   toplama\n",
    "    -   çıkarma\n",
    "    *   çarpma\n",
    "    /   bölme\n",
    "Yapmak istediğiniz işlemi yazıp ENTER\n",
    "tuşuna basın. (Örneğin 23 ve 46 sayılarını\n",
    "çarpmak için 23 * 46 yazdıktan sonra\n",
    "ENTER tuşuna basın.)\n",
    "\"\"\")\n",
    "veri = input(\"İşleminiz: \")\n",
    "hesap = eval(veri)\n",
    "print(hesap)"
   ]
  },
  {
   "cell_type": "code",
   "execution_count": 3,
   "metadata": {},
   "outputs": [
    {
     "name": "stdout",
     "output_type": "stream",
     "text": [
      "\n",
      "Sayın Ayşe Hanımefendi\n",
      "April,2021 tarihinde yapmıs oldugunuz,\n",
      "\n",
      "iş ile ilgili basvurunuz onaylanmıştır. İşe alındınız\n",
      "\n"
     ]
    }
   ],
   "source": [
    "from  string import Template\n",
    "text=Template(\"\"\"\n",
    "Sayın $name Hanımefendi\\n$date tarihinde yapmıs oldugunuz,\n",
    "\\n$konu ile ilgili basvurunuz onaylanmıştır. İşe alındınız\n",
    "\"\"\")\n",
    "sonuc=text.substitute(name=\"Ayşe\",date=\"April,2021\",konu=\"iş\")\n",
    "print(sonuc)"
   ]
  },
  {
   "cell_type": "code",
   "execution_count": 4,
   "metadata": {},
   "outputs": [
    {
     "name": "stdout",
     "output_type": "stream",
     "text": [
      "\n",
      "tarih: 2022\n",
      "T.C.\n",
      "ODTÜ ÜNİVERSİTESİ\n",
      "Bilgisayar Fakültesi Dekanlığına\n",
      "Fakülteniz B.Mühendisliği Bölümü 1234 numaralı öğrencisiyim. Ekte sunduğum belgede\n",
      "belirtilen mazeretim gereğince 2022 Eğitim-Öğretim Yılı 23.\n",
      "yarıyılında öğrenime ara izni (kayıt dondurma) istiyorum.\n",
      "Bilgilerinizi ve gereğini arz ederim.\n",
      "        İmza\n",
      "Ad : İsmail Selçuk\n",
      "Soyad : Selçuk\n",
      "T.C. Kimlik No. : 37759830978\n",
      "Adres : rfsgrdghdggfdhfdhshethegf\n",
      "Tel. : 05377407376\n",
      "Ekler : Lütfen onaylayın\n",
      "\n"
     ]
    }
   ],
   "source": [
    "#Python: Dilekçe Oluşturmak. Bir Metinin İçerisine Kendi Bilgilerimizi Nasıl Gireriz?\n",
    "dilekçe = \"\"\"\n",
    "tarih: {}\n",
    "T.C.\n",
    "{} ÜNİVERSİTESİ\n",
    "{} Fakültesi Dekanlığına\n",
    "Fakülteniz {} Bölümü {} numaralı öğrencisiyim. Ekte sunduğum belgede\n",
    "belirtilen mazeretim gereğince {} Eğitim-Öğretim Yılı {}.\n",
    "yarıyılında öğrenime ara izni (kayıt dondurma) istiyorum.\n",
    "Bilgilerinizi ve gereğini arz ederim.\n",
    "        İmza\n",
    "Ad : {}\n",
    "Soyad : {}\n",
    "T.C. Kimlik No. : {}\n",
    "Adres : {}\n",
    "Tel. : {}\n",
    "Ekler : {}\n",
    "\"\"\"\n",
    "tarih = input(\"tarih: \")\n",
    "üniversite = input(\"üniversite adı: \")\n",
    "fakülte = input(\"fakülte adı: \")\n",
    "bölüm = input(\"bölüm adı: \")\n",
    "öğrenci_no = input(\"öğrenci no. :\")\n",
    "öğretim_yılı = input(\"öğretim yılı: \")\n",
    "yarıyıl = input(\"yarıyıl: \")\n",
    "ad = input(\"öğrencinin adı: \")\n",
    "soyad = input(\"öğrencinin soyadı: \")\n",
    "tc_kimlik_no = input(\"TC Kimlik no. :\")\n",
    "adres = input(\"adres: \")\n",
    "tel = input(\"telefon: \")\n",
    "ekler = input(\"ekler: \")\n",
    "print(dilekçe.format(tarih, üniversite, fakülte, bölüm,\n",
    "öğrenci_no, öğretim_yılı, yarıyıl,\n",
    "ad, soyad, tc_kimlik_no,\n",
    "adres, tel, ekler))"
   ]
  },
  {
   "cell_type": "code",
   "execution_count": 5,
   "metadata": {},
   "outputs": [
    {
     "name": "stdout",
     "output_type": "stream",
     "text": [
      "\n",
      "Sayın Ayşe Hanımefendi\n",
      "April,2021 tarihinde yapmıs oldugunuz,\n",
      "\n",
      "iş ile ilgili basvurunuz onaylanmıştır. İşe alındınız\n",
      "\n"
     ]
    }
   ],
   "source": [
    "from  string import Template\n",
    "text=Template(\"\"\"\n",
    "Sayın $name Hanımefendi\\n$date tarihinde yapmıs oldugunuz,\n",
    "\\n$konu ile ilgili basvurunuz onaylanmıştır. İşe alındınız\n",
    "\"\"\")\n",
    "sonuc=text.substitute(name=\"Ayşe\",date=\"April,2021\",konu=\"iş\")\n",
    "print(sonuc)"
   ]
  },
  {
   "cell_type": "code",
   "execution_count": null,
   "metadata": {},
   "outputs": [],
   "source": []
  },
  {
   "cell_type": "markdown",
   "metadata": {},
   "source": [
    "# lambda fonk"
   ]
  },
  {
   "cell_type": "code",
   "execution_count": 7,
   "metadata": {},
   "outputs": [],
   "source": [
    "kare = lambda x : x ** 2"
   ]
  },
  {
   "cell_type": "code",
   "execution_count": 8,
   "metadata": {},
   "outputs": [
    {
     "data": {
      "text/plain": [
       "4"
      ]
     },
     "execution_count": 8,
     "metadata": {},
     "output_type": "execute_result"
    }
   ],
   "source": [
    "kare(2)"
   ]
  },
  {
   "cell_type": "code",
   "execution_count": 9,
   "metadata": {},
   "outputs": [],
   "source": [
    "def kare(x):\n",
    "    print(x ** 2)"
   ]
  },
  {
   "cell_type": "code",
   "execution_count": 11,
   "metadata": {},
   "outputs": [
    {
     "name": "stdout",
     "output_type": "stream",
     "text": [
      "4\n"
     ]
    }
   ],
   "source": [
    "kare(2)"
   ]
  },
  {
   "cell_type": "code",
   "execution_count": 12,
   "metadata": {},
   "outputs": [],
   "source": [
    "def myfunc(n):\n",
    "    return lambda a : a * n"
   ]
  },
  {
   "cell_type": "code",
   "execution_count": 15,
   "metadata": {},
   "outputs": [
    {
     "data": {
      "text/plain": [
       "84"
      ]
     },
     "execution_count": 15,
     "metadata": {},
     "output_type": "execute_result"
    }
   ],
   "source": [
    "k = myfunc(42)\n",
    "b = k(2)\n",
    "b"
   ]
  },
  {
   "cell_type": "code",
   "execution_count": 3,
   "metadata": {},
   "outputs": [
    {
     "name": "stdout",
     "output_type": "stream",
     "text": [
      "ahmet\n",
      "can\n",
      "cigdem\n",
      "çiğdem\n",
      "ışık\n",
      "iskender\n",
      "ismail\n",
      "ismet\n",
      "ismıt\n",
      "ismit\n",
      "şule\n",
      "ahmet\n",
      "can\n",
      "cigdem\n",
      "çiğdem\n",
      "ışık\n",
      "iskender\n",
      "ismet\n",
      "ismail\n",
      "ismit\n",
      "ismıt\n",
      "şule\n"
     ]
    }
   ],
   "source": [
    "harfler = 'abcçdefgğhıijklmnoöprsştuüvyz'\n",
    "çevrim = {i: harfler.index(i) for i in harfler}\n",
    "def sırala(kelime):\n",
    "    return ([çevrim.get(kelime[i]) for i in range(len(kelime))])\n",
    "isimler = ['ahmet', 'can', 'iskender', 'cigdem',\n",
    "           'ismet', 'ismail', 'ismit', 'çiğdem',\n",
    "           'ismıt', 'ışık', 'şule']\n",
    "print(*sorted(isimler, key=sırala), sep='\\n')\n",
    "harfler = \"abcçdefgğhıijklmnoöprsştuüvyz\"\n",
    "çevrim = {i: harfler.index(i) for i in harfler}\n",
    "isimler = ['ahmet', 'can', 'iskender', 'cigdem',\n",
    "           'ismet', 'ismail', 'ismit', 'çiğdem',\n",
    "           'ismıt', 'ışık', 'şule']\n",
    "print(*sorted(isimler, key=lambda x: çevrim.get(x[0])),sep='\\n')"
   ]
  },
  {
   "cell_type": "code",
   "execution_count": 4,
   "metadata": {},
   "outputs": [
    {
     "name": "stdout",
     "output_type": "stream",
     "text": [
      "recursive giriş Selahattin\n",
      "recursive giriş elahattin\n",
      "recursive giriş lahattin\n",
      "recursive giriş ahattin\n",
      "recursive giriş hattin\n",
      "recursive giriş attin\n",
      "recursive giriş ttin\n",
      "recursive giriş tin\n",
      "recursive giriş in\n",
      "recursive giriş n\n",
      "recursive çıkış n\n",
      "recursive çıkış in\n",
      "recursive çıkış tin\n",
      "recursive çıkış ttin\n",
      "recursive çıkış attin\n",
      "recursive çıkış hattin\n",
      "recursive çıkış ahattin\n",
      "recursive çıkış lahattin\n",
      "recursive çıkış elahattin\n",
      "recursive çıkış Selahattin\n",
      "None\n"
     ]
    }
   ],
   "source": [
    "def azalt(s):\n",
    "    if len(s) <1:\n",
    "        return s\n",
    "    else:\n",
    "        print('recursive giriş',s)\n",
    "        azalt(s[1:])\n",
    "        #raise SystemExit()\n",
    "        print('recursive çıkış',s)\n",
    "print(azalt('Selahattin'))"
   ]
  },
  {
   "cell_type": "code",
   "execution_count": 5,
   "metadata": {},
   "outputs": [
    {
     "name": "stdout",
     "output_type": "stream",
     "text": [
      "List time test :  7.933538899999803\n",
      "List time test :  1.3732739999995829\n"
     ]
    }
   ],
   "source": [
    "import timeit\n",
    "print(\"List time test : \",timeit.timeit(stmt=\"numbers=[1,2,3,4,5,6,7,8,9,10,11,12,13,14,15]\",number=100000000))\n",
    "print(\"List time test : \",timeit.timeit(stmt=\"numbers=(1,2,3,4,5,6,7,8,9,10,11,12,13,14,15)\",number=100000000))\n",
    "#10000000 kez çalıştırıyor. Default değeri 1 milyyondr. Tuple ile list hız farkı"
   ]
  },
  {
   "cell_type": "code",
   "execution_count": 9,
   "metadata": {},
   "outputs": [],
   "source": [
    "import timeit"
   ]
  },
  {
   "cell_type": "code",
   "execution_count": 10,
   "metadata": {},
   "outputs": [
    {
     "name": "stdout",
     "output_type": "stream",
     "text": [
      "Başlangıç zamanı : 1666452497.093687\n"
     ]
    },
    {
     "ename": "NameError",
     "evalue": "name 'math' is not defined",
     "output_type": "error",
     "traceback": [
      "\u001b[1;31m---------------------------------------------------------------------------\u001b[0m",
      "\u001b[1;31mNameError\u001b[0m                                 Traceback (most recent call last)",
      "\u001b[1;32mc:\\Users\\FATİH\\Desktop\\VSC\\python dersleri.ipynb Hücre 514\u001b[0m in \u001b[0;36m<cell line: 3>\u001b[1;34m()\u001b[0m\n\u001b[0;32m      <a href='vscode-notebook-cell:/c%3A/Users/FAT%C4%B0H/Desktop/VSC/python%20dersleri.ipynb#Z1331sZmlsZQ%3D%3D?line=0'>1</a>\u001b[0m basl\u001b[39m=\u001b[39mtime\u001b[39m.\u001b[39mtime()\n\u001b[0;32m      <a href='vscode-notebook-cell:/c%3A/Users/FAT%C4%B0H/Desktop/VSC/python%20dersleri.ipynb#Z1331sZmlsZQ%3D%3D?line=1'>2</a>\u001b[0m \u001b[39mprint\u001b[39m(\u001b[39m\"\u001b[39m\u001b[39mBaşlangıç zamanı : \u001b[39m\u001b[39m{}\u001b[39;00m\u001b[39m\"\u001b[39m\u001b[39m.\u001b[39mformat(basl))\n\u001b[1;32m----> <a href='vscode-notebook-cell:/c%3A/Users/FAT%C4%B0H/Desktop/VSC/python%20dersleri.ipynb#Z1331sZmlsZQ%3D%3D?line=2'>3</a>\u001b[0m math\u001b[39m.\u001b[39mfactorial(\u001b[39m1000000\u001b[39m)\n\u001b[0;32m      <a href='vscode-notebook-cell:/c%3A/Users/FAT%C4%B0H/Desktop/VSC/python%20dersleri.ipynb#Z1331sZmlsZQ%3D%3D?line=3'>4</a>\u001b[0m bitis\u001b[39m=\u001b[39mtime\u001b[39m.\u001b[39mtime()\n\u001b[0;32m      <a href='vscode-notebook-cell:/c%3A/Users/FAT%C4%B0H/Desktop/VSC/python%20dersleri.ipynb#Z1331sZmlsZQ%3D%3D?line=4'>5</a>\u001b[0m \u001b[39mprint\u001b[39m(\u001b[39m\"\u001b[39m\u001b[39mBitiş zamanı : \u001b[39m\u001b[39m{}\u001b[39;00m\u001b[39m\"\u001b[39m\u001b[39m.\u001b[39mformat(bitis))\n",
      "\u001b[1;31mNameError\u001b[0m: name 'math' is not defined"
     ]
    }
   ],
   "source": [
    "basl=time.time()\n",
    "print(\"Başlangıç zamanı : {}\".format(basl))\n",
    "math.factorial(1000000)\n",
    "bitis=time.time()\n",
    "print(\"Bitiş zamanı : {}\".format(bitis))\n",
    "print(\"Fark :\", bitis-basl)"
   ]
  },
  {
   "cell_type": "code",
   "execution_count": 1,
   "metadata": {},
   "outputs": [],
   "source": [
    "def yazici():\n",
    "    def yaz(mesaj):\n",
    "        print(\"İç\")\n",
    "        print(mesaj)\n",
    "    return yaz"
   ]
  },
  {
   "cell_type": "code",
   "execution_count": 2,
   "metadata": {},
   "outputs": [
    {
     "data": {
      "text/plain": [
       "<function __main__.yazici.<locals>.yaz(mesaj)>"
      ]
     },
     "execution_count": 2,
     "metadata": {},
     "output_type": "execute_result"
    }
   ],
   "source": [
    "yazici()"
   ]
  },
  {
   "cell_type": "code",
   "execution_count": 3,
   "metadata": {},
   "outputs": [],
   "source": [
    "y=yazici()"
   ]
  },
  {
   "cell_type": "code",
   "execution_count": 4,
   "metadata": {},
   "outputs": [
    {
     "name": "stdout",
     "output_type": "stream",
     "text": [
      "İç\n",
      "Ali\n"
     ]
    }
   ],
   "source": [
    "y(\"Ali\")"
   ]
  },
  {
   "cell_type": "code",
   "execution_count": 5,
   "metadata": {},
   "outputs": [],
   "source": [
    "def file_chr_n(dosya,karakter):\n",
    "    sonuc = 0\n",
    "    if type(dosya) == str:\n",
    "        with open(dosya,\"r\") as f:\n",
    "            veri = f.read()\n",
    "            for i in veri:\n",
    "                if i == karakter:\n",
    "                    sonuc += 1\n",
    "    else:\n",
    "        veri = dosya.read()\n",
    "        for i in veri:\n",
    "                if i == karakter:\n",
    "                    sonuc += 1\n",
    "    return sonuc"
   ]
  },
  {
   "cell_type": "code",
   "execution_count": 7,
   "metadata": {},
   "outputs": [],
   "source": [
    "def chr_n(karakter_dizisi,karakter):\n",
    "    sayac = 0\n",
    "    for i in karakter_dizisi:\n",
    "        if i == karakter:\n",
    "             sayac += 1\n",
    "    return sayac\n",
    "def file_chr_n(dosya,karakter):\n",
    "    if type(dosya) == str:\n",
    "        with open(dosya,\"r\") as f:\n",
    "             return chr_n(f.read(),karakter)\n",
    "    else:\n",
    "            return chr_n(f.read(),karakter)"
   ]
  },
  {
   "cell_type": "code",
   "execution_count": 9,
   "metadata": {},
   "outputs": [],
   "source": [
    "# İç içe fonksyion (nested) şeklinde yazdık\n",
    "def file_chr_n(dosya, karakter):\n",
    "    def chr_n(karakter_dizisi):\n",
    "        sayac = 0\n",
    "        for i in karakter_dizisi:\n",
    "            if i == karakter:\n",
    "                sayac += 1\n",
    "        return sayac\n",
    "    if type(dosya) == str:\n",
    "        with open(dosya, \"r\") as f:\n",
    "            return chr_n(f.read())\n",
    "    else:\n",
    "        return chr_n(dosya.read())"
   ]
  },
  {
   "cell_type": "code",
   "execution_count": 11,
   "metadata": {},
   "outputs": [
    {
     "data": {
      "text/plain": [
       "[0, 1, 2, 3, 4, 5, 6, 7, 8, 9]"
      ]
     },
     "execution_count": 11,
     "metadata": {},
     "output_type": "execute_result"
    }
   ],
   "source": [
    "listem = [i for i in range(10)]\n",
    "listem"
   ]
  },
  {
   "cell_type": "code",
   "execution_count": 10,
   "metadata": {},
   "outputs": [],
   "source": [
    "def generator():\n",
    "    yield \"Python\"\n",
    "    yield \"Format\""
   ]
  },
  {
   "cell_type": "code",
   "execution_count": 12,
   "metadata": {},
   "outputs": [],
   "source": [
    "g = generator()"
   ]
  },
  {
   "cell_type": "code",
   "execution_count": 1,
   "metadata": {},
   "outputs": [
    {
     "name": "stdout",
     "output_type": "stream",
     "text": [
      "1\n",
      "2\n",
      "3\n",
      "5\n",
      "8\n",
      "13\n",
      "21\n",
      "34\n",
      "55\n",
      "89\n",
      "144\n"
     ]
    }
   ],
   "source": [
    "def fibo():\n",
    "    x = 1\n",
    "    y = 0\n",
    "    z = 0\n",
    "    while True:\n",
    "        z = y\n",
    "        y = x\n",
    "        x += z\n",
    "        yield x\n",
    "        if x > 100:\n",
    "            return\n",
    "\n",
    "for i in fibo():\n",
    "    print(i)"
   ]
  },
  {
   "cell_type": "code",
   "execution_count": 3,
   "metadata": {},
   "outputs": [
    {
     "data": {
      "text/plain": [
       "'c:\\\\ProgramData\\\\Anaconda3\\\\lib\\\\os.py'"
      ]
     },
     "execution_count": 3,
     "metadata": {},
     "output_type": "execute_result"
    }
   ],
   "source": [
    "os.__file__"
   ]
  },
  {
   "cell_type": "code",
   "execution_count": 1,
   "metadata": {},
   "outputs": [
    {
     "name": "stdout",
     "output_type": "stream",
     "text": [
      "1. Sözlükte kelime ara\n",
      "2. Sözlüğe kelime ekle\n",
      "3. Sözlükten kelime sil\n",
      "None\n"
     ]
    }
   ],
   "source": [
    "\"\"\" Bu program modul olşturmak üzere\n",
    "deneme  olarak yapılmıştır. \"\"\"\n",
    "def __dir__():\n",
    "\treturn ['ara','ekle','sil']\n",
    "def ara(sözcük):\n",
    "    hata = \"{} kelimesi sözlükte yok!\"\n",
    "    #return sözlük.get(sözcük, hata.format(sözcük))\n",
    "    print(sözlük.get(sözcük))\n",
    "\t\n",
    "\"\"\"Ara ile ilgili açıklama\"\"\"\n",
    "def ekle(sözcük, anlam):\n",
    "    mesaj = \"{} kelimesi sözlüğe eklendi!\"\n",
    "    sözlük[sözcük] = anlam\n",
    "    print(mesaj.format(sözcük))\n",
    "\t\n",
    "def sil(sözcük):\n",
    "    try:\n",
    "        sözlük.pop(sözcük)\n",
    "    except KeyError as err:\n",
    "        print(err, \"kelimesi bulunamadı!\")\n",
    "    else:\n",
    "        print(\"{} kelimesi sözlükten silindi!\".format(sözcük))\n",
    "\t\t\n",
    "\t\t\n",
    "sözlük = {\"kitap\"      : \"book\",\n",
    "          \"bilgisayar\" : \"computer\",\n",
    "          \"programlama\": \"programming\",\n",
    "\t\t  \"five\"       : \"five\"}\n",
    "if __name__ == '__main__':\n",
    "    no = input('Yapmak istediğiniz işlemin numarasını girin: ')\n",
    "    print('1. Sözlükte kelime ara')\n",
    "    print('2. Sözlüğe kelime ekle')\n",
    "    print('3. Sözlükten kelime sil')\n",
    "    if no == '1':\n",
    "        sözcük = input('Aradığınız sözcük: ')\n",
    "        ara(sözcük)\n",
    "    elif no == '2':\n",
    "        sözcük = input('Ekleyeceğiniz sözcük: ')\n",
    "        anlam = input('Eklediğiniz sözcüğün anlamı: ')\n",
    "        ekle(sözcük, anlam)\n",
    "    elif no == '3':\n",
    "        sözcük = input('Sileceğiniz sözcük: ')\n",
    "        sil(sözcük)\n",
    "    else:\n",
    "        print('Yanlış işlem')"
   ]
  },
  {
   "cell_type": "markdown",
   "metadata": {},
   "source": [
    "# <image (11).png>"
   ]
  },
  {
   "cell_type": "code",
   "execution_count": null,
   "metadata": {},
   "outputs": [],
   "source": [
    "image (11).png"
   ]
  },
  {
   "cell_type": "code",
   "execution_count": 18,
   "metadata": {},
   "outputs": [
    {
     "name": "stdout",
     "output_type": "stream",
     "text": [
      "Toplama: +\n",
      "Çıkarma: -\n",
      "Çarpma: *\n",
      "Bölme: /\n",
      "Üs Alma: **\n",
      "Tam Bölme: //\n",
      "Bölmenin Kalanı: %\n",
      " \n",
      "İşleminizi yazdıktan sonra \"Enter\" tuşuna basınız...\n",
      "\n",
      "İşleminiz: 15*15 = 225\n"
     ]
    }
   ],
   "source": [
    "print(f'''Toplama: +\\nÇıkarma: -\\nÇarpma: *\\nBölme: /\\nÜs Alma: **\\nTam Bölme: //\\nBölmenin Kalanı: %\\n \\nİşleminizi yazdıktan sonra \"Enter\" tuşuna basınız...''')\n",
    "\n",
    "y = input(\"Yapmak istediğiniz işlemi giriniz :\")\n",
    "x = eval(y)\n",
    "print(f\"\\nİşleminiz: {y} = {x}\")"
   ]
  },
  {
   "cell_type": "code",
   "execution_count": 7,
   "metadata": {},
   "outputs": [],
   "source": [
    "def üsalma(x,y):\n",
    "    print(x**y)"
   ]
  },
  {
   "cell_type": "code",
   "execution_count": 22,
   "metadata": {},
   "outputs": [
    {
     "name": "stdout",
     "output_type": "stream",
     "text": [
      "100\n"
     ]
    }
   ],
   "source": [
    "üsalma(10,2)"
   ]
  },
  {
   "cell_type": "code",
   "execution_count": 23,
   "metadata": {},
   "outputs": [
    {
     "name": "stdout",
     "output_type": "stream",
     "text": [
      "160000\n"
     ]
    }
   ],
   "source": [
    "üsalma(20,4)"
   ]
  },
  {
   "cell_type": "code",
   "execution_count": 12,
   "metadata": {},
   "outputs": [
    {
     "data": {
      "text/plain": [
       "'@'"
      ]
     },
     "execution_count": 12,
     "metadata": {},
     "output_type": "execute_result"
    }
   ],
   "source": [
    "chr(64)"
   ]
  },
  {
   "cell_type": "code",
   "execution_count": 15,
   "metadata": {},
   "outputs": [
    {
     "data": {
      "text/plain": [
       "64"
      ]
     },
     "execution_count": 15,
     "metadata": {},
     "output_type": "execute_result"
    }
   ],
   "source": [
    "ord(\"@\")"
   ]
  },
  {
   "cell_type": "code",
   "execution_count": null,
   "metadata": {},
   "outputs": [],
   "source": []
  },
  {
   "cell_type": "code",
   "execution_count": null,
   "metadata": {},
   "outputs": [],
   "source": []
  },
  {
   "cell_type": "code",
   "execution_count": null,
   "metadata": {},
   "outputs": [],
   "source": []
  },
  {
   "cell_type": "code",
   "execution_count": null,
   "metadata": {},
   "outputs": [],
   "source": []
  },
  {
   "cell_type": "code",
   "execution_count": null,
   "metadata": {},
   "outputs": [],
   "source": []
  },
  {
   "cell_type": "code",
   "execution_count": null,
   "metadata": {},
   "outputs": [],
   "source": []
  },
  {
   "cell_type": "code",
   "execution_count": null,
   "metadata": {},
   "outputs": [],
   "source": []
  },
  {
   "cell_type": "code",
   "execution_count": null,
   "metadata": {},
   "outputs": [],
   "source": []
  },
  {
   "cell_type": "code",
   "execution_count": null,
   "metadata": {},
   "outputs": [],
   "source": []
  },
  {
   "cell_type": "code",
   "execution_count": null,
   "metadata": {},
   "outputs": [],
   "source": []
  },
  {
   "cell_type": "code",
   "execution_count": null,
   "metadata": {},
   "outputs": [],
   "source": []
  },
  {
   "cell_type": "code",
   "execution_count": null,
   "metadata": {},
   "outputs": [],
   "source": []
  },
  {
   "cell_type": "code",
   "execution_count": null,
   "metadata": {},
   "outputs": [],
   "source": []
  },
  {
   "cell_type": "code",
   "execution_count": null,
   "metadata": {},
   "outputs": [],
   "source": []
  }
 ],
 "metadata": {
  "kernelspec": {
   "display_name": "Python 3.9.12 ('base')",
   "language": "python",
   "name": "python3"
  },
  "language_info": {
   "codemirror_mode": {
    "name": "ipython",
    "version": 3
   },
   "file_extension": ".py",
   "mimetype": "text/x-python",
   "name": "python",
   "nbconvert_exporter": "python",
   "pygments_lexer": "ipython3",
   "version": "3.9.12"
  },
  "orig_nbformat": 4,
  "vscode": {
   "interpreter": {
    "hash": "ad2bdc8ecc057115af97d19610ffacc2b4e99fae6737bb82f5d7fb13d2f2c186"
   }
  }
 },
 "nbformat": 4,
 "nbformat_minor": 2
}
