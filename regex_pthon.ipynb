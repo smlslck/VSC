{
 "cells": [
  {
   "cell_type": "markdown",
   "id": "b798b688",
   "metadata": {},
   "source": [
    "## RegEx Regular Expression   -DÜZENLİ İFADELER"
   ]
  },
  {
   "cell_type": "code",
   "execution_count": 73,
   "id": "01710edb",
   "metadata": {},
   "outputs": [],
   "source": [
    "import re"
   ]
  },
  {
   "attachments": {
    "image.png": {
     "image/png": "[encoded data removed]"
    }
   },
   "cell_type": "markdown",
   "id": "412f63b5",
   "metadata": {},
   "source": [
    "![image.png](attachment:image.png)"
   ]
  },
  {
   "cell_type": "code",
   "execution_count": 60,
   "id": "ef184b0a",
   "metadata": {},
   "outputs": [],
   "source": [
    "Text = \"\"\"Yar, gözüm çekinir yüzün basmaya,\n",
    "          Bir zahmet buyursan kulak asmaya,\n",
    "          Hazırdır Kelama elim basmaya,\n",
    "          Bir gülüş ikram et, götür asmaya.\"\"\""
   ]
  },
  {
   "cell_type": "code",
   "execution_count": 61,
   "id": "bc93685c",
   "metadata": {},
   "outputs": [],
   "source": [
    "patern = \"asma\"  # asma ilk nerede geçiyor. "
   ]
  },
  {
   "cell_type": "code",
   "execution_count": 5,
   "id": "a55a29b3",
   "metadata": {},
   "outputs": [
    {
     "data": {
      "text/plain": [
       "<re.Match object; span=(26, 30), match='asma'>"
      ]
     },
     "execution_count": 5,
     "metadata": {},
     "output_type": "execute_result"
    }
   ],
   "source": [
    "re.search(patern,Text)    # match : eşleşme ilk eşleşmeyi gösteriyor. \n",
    "                          # Yoksa sonuç döndürmez."
   ]
  },
  {
   "cell_type": "code",
   "execution_count": 6,
   "id": "81a8ea8d",
   "metadata": {},
   "outputs": [
    {
     "data": {
      "text/plain": [
       "26"
      ]
     },
     "execution_count": 6,
     "metadata": {},
     "output_type": "execute_result"
    }
   ],
   "source": [
    "Text.find(patern)"
   ]
  },
  {
   "cell_type": "code",
   "execution_count": 129,
   "id": "7bd120cc",
   "metadata": {},
   "outputs": [
    {
     "name": "stdout",
     "output_type": "stream",
     "text": [
      "Help on function search in module re:\n",
      "\n",
      "search(pattern, string, flags=0)\n",
      "    Scan through string looking for a match to the pattern, returning\n",
      "    a Match object, or None if no match was found.\n",
      "\n"
     ]
    }
   ],
   "source": [
    "help(re.search)"
   ]
  },
  {
   "cell_type": "code",
   "execution_count": 13,
   "id": "545ac74a",
   "metadata": {},
   "outputs": [
    {
     "name": "stdout",
     "output_type": "stream",
     "text": [
      "['asma', 'asma', 'asma', 'asma']\n"
     ]
    }
   ],
   "source": [
    "netice = re.findall(patern,Text)  #re.I yazarsan büyük küçük duyarlılık \n",
    "print(netice)"
   ]
  },
  {
   "cell_type": "code",
   "execution_count": null,
   "id": "c631f938",
   "metadata": {},
   "outputs": [],
   "source": [
    "dir(re)  # re e ait metodlar"
   ]
  },
  {
   "cell_type": "code",
   "execution_count": 14,
   "id": "d178ac36",
   "metadata": {},
   "outputs": [],
   "source": [
    "sonuc = re.search(patern,Text)"
   ]
  },
  {
   "cell_type": "code",
   "execution_count": null,
   "id": "4f638072",
   "metadata": {},
   "outputs": [],
   "source": [
    "dir(sonuc)"
   ]
  },
  {
   "cell_type": "code",
   "execution_count": 15,
   "id": "4fcfc4dd",
   "metadata": {},
   "outputs": [
    {
     "data": {
      "text/plain": [
       "'Yar, gözüm çekinir yüzün basmaya,\\n          Bir zahmet buyursan kulak asmaya,\\n          Hazırdır Kelama elim basmaya,\\n          Bir gülüş ikram et, götür asmaya.'"
      ]
     },
     "execution_count": 15,
     "metadata": {},
     "output_type": "execute_result"
    }
   ],
   "source": [
    "sonuc.string    #print ile yaz"
   ]
  },
  {
   "cell_type": "code",
   "execution_count": 16,
   "id": "330a24d2",
   "metadata": {},
   "outputs": [
    {
     "data": {
      "text/plain": [
       "((26, 30),)"
      ]
     },
     "execution_count": 16,
     "metadata": {},
     "output_type": "execute_result"
    }
   ],
   "source": [
    "sonuc.regs"
   ]
  },
  {
   "cell_type": "code",
   "execution_count": 18,
   "id": "ab042314",
   "metadata": {},
   "outputs": [
    {
     "data": {
      "text/plain": [
       "30"
      ]
     },
     "execution_count": 18,
     "metadata": {},
     "output_type": "execute_result"
    }
   ],
   "source": [
    "sonuc.end()"
   ]
  },
  {
   "cell_type": "code",
   "execution_count": 19,
   "id": "c6069806",
   "metadata": {},
   "outputs": [
    {
     "data": {
      "text/plain": [
       "'asma'"
      ]
     },
     "execution_count": 19,
     "metadata": {},
     "output_type": "execute_result"
    }
   ],
   "source": [
    "sonuc.group()"
   ]
  },
  {
   "cell_type": "markdown",
   "id": "0e2fb2ec-0916-409c-b919-96398102e3f6",
   "metadata": {},
   "source": [
    "#### Match fonksiyonu()"
   ]
  },
  {
   "cell_type": "code",
   "execution_count": 20,
   "id": "da8f41d8",
   "metadata": {},
   "outputs": [
    {
     "name": "stdout",
     "output_type": "stream",
     "text": [
      "<re.Match object; span=(0, 3), match='Yar'>\n"
     ]
    }
   ],
   "source": [
    "# Search arar. match sadece ilk ifadeyi eşleştirir.\n",
    "print(re.match(\"Yar\",Text))   # İfadeyi baştaki kelimele eşleştirir. \n",
    "                              # Text.split()[0]==\"Bugün\"\n",
    "                              # Yoksa None dööndürür\n",
    "                              # Text.startswith(\"Bugün\")"
   ]
  },
  {
   "cell_type": "code",
   "execution_count": null,
   "id": "1523e94d",
   "metadata": {},
   "outputs": [],
   "source": [
    "## Regex listelerde değil metin üzerinde çalışır"
   ]
  },
  {
   "cell_type": "code",
   "execution_count": 21,
   "id": "d6f562ef",
   "metadata": {},
   "outputs": [
    {
     "ename": "TypeError",
     "evalue": "expected string or bytes-like object",
     "output_type": "error",
     "traceback": [
      "\u001b[1;31m---------------------------------------------------------------------------\u001b[0m",
      "\u001b[1;31mTypeError\u001b[0m                                 Traceback (most recent call last)",
      "Input \u001b[1;32mIn [21]\u001b[0m, in \u001b[0;36m<cell line: 2>\u001b[1;34m()\u001b[0m\n\u001b[0;32m      1\u001b[0m liste\u001b[38;5;241m=\u001b[39m[\u001b[38;5;124m\"\u001b[39m\u001b[38;5;124mAyşe\u001b[39m\u001b[38;5;124m\"\u001b[39m,\u001b[38;5;124m\"\u001b[39m\u001b[38;5;124mFatma\u001b[39m\u001b[38;5;124m\"\u001b[39m,\u001b[38;5;124m\"\u001b[39m\u001b[38;5;124mHavva\u001b[39m\u001b[38;5;124m\"\u001b[39m]  \u001b[38;5;66;03m# Re listelerde çalışmaz\u001b[39;00m\n\u001b[1;32m----> 2\u001b[0m \u001b[43mre\u001b[49m\u001b[38;5;241;43m.\u001b[39;49m\u001b[43msearch\u001b[49m\u001b[43m(\u001b[49m\u001b[38;5;124;43m\"\u001b[39;49m\u001b[38;5;124;43mAyşe\u001b[39;49m\u001b[38;5;124;43m\"\u001b[39;49m\u001b[43m,\u001b[49m\u001b[43mliste\u001b[49m\u001b[43m)\u001b[49m\n",
      "File \u001b[1;32m~\\anaconda3\\lib\\re.py:201\u001b[0m, in \u001b[0;36msearch\u001b[1;34m(pattern, string, flags)\u001b[0m\n\u001b[0;32m    198\u001b[0m \u001b[38;5;28;01mdef\u001b[39;00m \u001b[38;5;21msearch\u001b[39m(pattern, string, flags\u001b[38;5;241m=\u001b[39m\u001b[38;5;241m0\u001b[39m):\n\u001b[0;32m    199\u001b[0m     \u001b[38;5;124;03m\"\"\"Scan through string looking for a match to the pattern, returning\u001b[39;00m\n\u001b[0;32m    200\u001b[0m \u001b[38;5;124;03m    a Match object, or None if no match was found.\"\"\"\u001b[39;00m\n\u001b[1;32m--> 201\u001b[0m     \u001b[38;5;28;01mreturn\u001b[39;00m \u001b[43m_compile\u001b[49m\u001b[43m(\u001b[49m\u001b[43mpattern\u001b[49m\u001b[43m,\u001b[49m\u001b[43m \u001b[49m\u001b[43mflags\u001b[49m\u001b[43m)\u001b[49m\u001b[38;5;241;43m.\u001b[39;49m\u001b[43msearch\u001b[49m\u001b[43m(\u001b[49m\u001b[43mstring\u001b[49m\u001b[43m)\u001b[49m\n",
      "\u001b[1;31mTypeError\u001b[0m: expected string or bytes-like object"
     ]
    }
   ],
   "source": [
    "liste=[\"Ayşe\",\"Fatma\",\"Havva\"]  # Re listelerde çalışmaz\n",
    "re.search(\"Ayşe\",liste)"
   ]
  },
  {
   "cell_type": "code",
   "execution_count": 22,
   "id": "946441af",
   "metadata": {},
   "outputs": [
    {
     "data": {
      "text/plain": [
       "True"
      ]
     },
     "execution_count": 22,
     "metadata": {},
     "output_type": "execute_result"
    }
   ],
   "source": [
    "liste=[\"Ayşe\",\"Fatma\",\"Havva\"]  # Re listelerde çalışmaz\n",
    "\"Ayşe\" in liste"
   ]
  },
  {
   "cell_type": "code",
   "execution_count": 23,
   "id": "83d0d390",
   "metadata": {},
   "outputs": [
    {
     "data": {
      "text/plain": [
       "1"
      ]
     },
     "execution_count": 23,
     "metadata": {},
     "output_type": "execute_result"
    }
   ],
   "source": [
    "liste.count(\"Ayşe\")"
   ]
  },
  {
   "cell_type": "code",
   "execution_count": 24,
   "id": "71b45af8",
   "metadata": {},
   "outputs": [
    {
     "name": "stdout",
     "output_type": "stream",
     "text": [
      "Havva\n"
     ]
    }
   ],
   "source": [
    "# Ancak listenin elemanlarına ulaşılırsa\n",
    "for ifade in liste:\n",
    "    if re.search(\"Havva\",ifade):\n",
    "        print(ifade)"
   ]
  },
  {
   "cell_type": "markdown",
   "id": "481be7f3",
   "metadata": {},
   "source": [
    "####  Metinde bulunan ifadeleri bulmak için findall metodu kullanılır."
   ]
  },
  {
   "cell_type": "code",
   "execution_count": 25,
   "id": "3ed45cb3",
   "metadata": {},
   "outputs": [
    {
     "name": "stdout",
     "output_type": "stream",
     "text": [
      "asma\n",
      "asma\n",
      "asma\n",
      "asma\n"
     ]
    }
   ],
   "source": [
    "for eslesme in re.findall(patern,Text):\n",
    "    print(eslesme)"
   ]
  },
  {
   "cell_type": "markdown",
   "id": "391d776a",
   "metadata": {},
   "source": [
    "#### Metinde bulunan ifadeleri ve span bulmak için finditer metodu kullanılır."
   ]
  },
  {
   "cell_type": "code",
   "execution_count": 62,
   "id": "66a4711e",
   "metadata": {},
   "outputs": [
    {
     "name": "stdout",
     "output_type": "stream",
     "text": [
      "asma (26, 30)\n",
      "asma (70, 74)\n",
      "asma (110, 114)\n",
      "asma (154, 158)\n"
     ]
    }
   ],
   "source": [
    "for eslesme in re.finditer(patern,Text):    # Böyle deneme re.finditer(patern,Text)\n",
    "    print(eslesme.group(),eslesme.span())"
   ]
  },
  {
   "cell_type": "code",
   "execution_count": 63,
   "id": "b98360b9-40ac-49de-ada8-46185971254c",
   "metadata": {},
   "outputs": [
    {
     "data": {
      "text/plain": [
       "<callable_iterator at 0x1894efa8df0>"
      ]
     },
     "execution_count": 63,
     "metadata": {},
     "output_type": "execute_result"
    }
   ],
   "source": [
    "re.finditer(patern,Text)"
   ]
  },
  {
   "cell_type": "code",
   "execution_count": 67,
   "id": "f6ec2623",
   "metadata": {},
   "outputs": [
    {
     "data": {
      "text/plain": [
       "['1', '2', '89', '34', '252']"
      ]
     },
     "execution_count": 67,
     "metadata": {},
     "output_type": "execute_result"
    }
   ],
   "source": [
    "string = 'hello 1 2 hi 89. Howdy 34 fun 252'\n",
    "patern=r\"\\d+\"\n",
    "re.findall(patern,string)"
   ]
  },
  {
   "cell_type": "code",
   "execution_count": 31,
   "id": "47966b88",
   "metadata": {},
   "outputs": [
    {
     "data": {
      "text/plain": [
       "['0555-656235', '0555-656335', '0555-656245']"
      ]
     },
     "execution_count": 31,
     "metadata": {},
     "output_type": "execute_result"
    }
   ],
   "source": [
    "string1=\"telefon 65651 65 1595 numaralar 0555-656235 diğer 0555-656335 mehmet 0555-656245   \"\n",
    "patern=r\"\\s(\\d\\d\\d\\d-\\d{6})\"\n",
    "re.findall(patern,string1)"
   ]
  },
  {
   "cell_type": "markdown",
   "id": "24fa1ea1",
   "metadata": {},
   "source": [
    "#### Aşağıdaki ifadelere meta karekterler (özel anlamı olan karekterler) denir."
   ]
  },
  {
   "attachments": {
    "image.png": {
     "image/png": "[encoded data removed]"
    }
   },
   "cell_type": "markdown",
   "id": "c208245e",
   "metadata": {},
   "source": [
    "![image.png](attachment:image.png)"
   ]
  },
  {
   "cell_type": "code",
   "execution_count": null,
   "id": "6208d236",
   "metadata": {},
   "outputs": [],
   "source": [
    "# ^  ingilizce caret"
   ]
  },
  {
   "cell_type": "code",
   "execution_count": 35,
   "id": "022e6592",
   "metadata": {},
   "outputs": [
    {
     "name": "stdout",
     "output_type": "stream",
     "text": [
      "23BH56\n",
      "4Y7UZ\n",
      "34534\n"
     ]
    }
   ],
   "source": [
    "# Rakam ile başlayanları bulalım\n",
    "a = [\"23BH56\",\"TY76Z\",\"4Y7UZ\",\"TYUDZ\",\"34534\"]\n",
    "for i in a:\n",
    "    if re.match(\"[0-9]\",i):\n",
    "        print(i)"
   ]
  },
  {
   "cell_type": "code",
   "execution_count": 36,
   "id": "5088099c",
   "metadata": {},
   "outputs": [
    {
     "name": "stdout",
     "output_type": "stream",
     "text": [
      "TY76Z\n"
     ]
    }
   ],
   "source": [
    "# TY76Z yi buulalım\n",
    "for i in a:\n",
    "    if re.match(\"[A-Z][A-Z][0-9]\",i):\n",
    "        print(i)"
   ]
  },
  {
   "cell_type": "code",
   "execution_count": 70,
   "id": "182122e9",
   "metadata": {},
   "outputs": [
    {
     "name": "stdout",
     "output_type": "stream",
     "text": [
      "23BH56\n",
      "34534\n",
      "Aa123\n"
     ]
    }
   ],
   "source": [
    "# İlk karakter herhangi bir değer, ikinci rakam ve küçük harf\n",
    "a = [\"23BH56\",\"TY76Z\",\"4Y7UZ\",\"TYUDZ\",\"34534\",\"Aa123\"]\n",
    "for i in a:\n",
    "    if re.match(\".[0-9a-z]\", i):\n",
    "        print(i)"
   ]
  },
  {
   "cell_type": "code",
   "execution_count": 140,
   "id": "542c0219",
   "metadata": {},
   "outputs": [
    {
     "name": "stdout",
     "output_type": "stream",
     "text": [
      "['B', 'g', 'E', 'G', 'E', 'k', 'i', 'e', 'i']\n"
     ]
    }
   ],
   "source": [
    "Text=\"Bugün REGEX konusu işleniyor.\"  # Türkçe karakterlere dikkat\n",
    "patern = \"[a-k,A-K]\"\n",
    "netice = re.findall(patern,Text)\n",
    "print(netice)"
   ]
  },
  {
   "cell_type": "code",
   "execution_count": 72,
   "id": "9373ac79",
   "metadata": {},
   "outputs": [
    {
     "name": "stdout",
     "output_type": "stream",
     "text": [
      "['Sevin', 'Selin']\n"
     ]
    }
   ],
   "source": [
    "Text=\"Bugün Sevin Selin Serin geldi\"\n",
    "patern = \"Se[vl]in\"                   # [a-z]\n",
    "netice = re.findall(patern,Text)\n",
    "print(netice)"
   ]
  },
  {
   "cell_type": "code",
   "execution_count": 142,
   "id": "c9e44b3e",
   "metadata": {},
   "outputs": [
    {
     "name": "stdout",
     "output_type": "stream",
     "text": [
      "['ü', 'ş']\n"
     ]
    }
   ],
   "source": [
    "Text=\"Bugün REGEX konusu işleniyor.\"\n",
    "patern = \"[ü,ş]\"\n",
    "netice = re.findall(patern,Text)\n",
    "print(netice)"
   ]
  },
  {
   "cell_type": "code",
   "execution_count": 145,
   "id": "40fdcb5b",
   "metadata": {},
   "outputs": [
    {
     "name": "stdout",
     "output_type": "stream",
     "text": [
      "['Bug']\n"
     ]
    }
   ],
   "source": [
    "Text=\"Bugün REGEX konusu işleniyor.\"\n",
    "patern = \"B.g\"     # iki nokta koyarsan boş küme\n",
    "netice = re.findall(patern,Text)\n",
    "print(netice)"
   ]
  },
  {
   "cell_type": "code",
   "execution_count": 148,
   "id": "0d7b8c5d",
   "metadata": {},
   "outputs": [
    {
     "name": "stdout",
     "output_type": "stream",
     "text": [
      "['REGEX']\n"
     ]
    }
   ],
   "source": [
    "Text=\"Bugün REGEX konusu işleniyor.\"\n",
    "patern = \"R....\"          # iki nokta koarsan REG\n",
    "netice = re.findall(patern,Text)\n",
    "print(netice)"
   ]
  },
  {
   "cell_type": "code",
   "execution_count": 149,
   "id": "9a125636",
   "metadata": {},
   "outputs": [
    {
     "name": "stdout",
     "output_type": "stream",
     "text": [
      "<re.Match object; span=(6, 11), match='REGEX'>\n"
     ]
    }
   ],
   "source": [
    "# Şimdide search fonk kullanalım.\n",
    "Text=\"Bugün REGEX konusu işleniyor.\"\n",
    "patern = \"R....\"    \n",
    "netice = re.search(patern,Text)\n",
    "print(netice)"
   ]
  },
  {
   "cell_type": "code",
   "execution_count": 150,
   "id": "a72c70c6",
   "metadata": {},
   "outputs": [
    {
     "data": {
      "text/plain": [
       "(6, 11)"
      ]
     },
     "execution_count": 150,
     "metadata": {},
     "output_type": "execute_result"
    }
   ],
   "source": [
    "netice.span()"
   ]
  },
  {
   "cell_type": "code",
   "execution_count": 152,
   "id": "109e3393",
   "metadata": {},
   "outputs": [
    {
     "data": {
      "text/plain": [
       "'REGEX'"
      ]
     },
     "execution_count": 152,
     "metadata": {},
     "output_type": "execute_result"
    }
   ],
   "source": [
    "netice.group()"
   ]
  },
  {
   "cell_type": "code",
   "execution_count": 155,
   "id": "e9ed2874",
   "metadata": {},
   "outputs": [
    {
     "name": "stdout",
     "output_type": "stream",
     "text": [
      "[]\n"
     ]
    }
   ],
   "source": [
    "# ^ caret metinin başındaki ilk karekterle karşılaştırıyor.\n",
    "Text=\"Bugün REGEX konusu işleniyor.\"\n",
    "patern = \"^R....\"     \n",
    "netice = re.findall(patern,Text)\n",
    "print(netice)"
   ]
  },
  {
   "cell_type": "code",
   "execution_count": 156,
   "id": "af5d6bff",
   "metadata": {},
   "outputs": [
    {
     "name": "stdout",
     "output_type": "stream",
     "text": [
      "['Bugün']\n"
     ]
    }
   ],
   "source": [
    "Text=\"Bugün REGEX konusu işleniyor.\"\n",
    "patern = \"^Bu...\"    \n",
    "netice = re.findall(patern,Text)\n",
    "print(netice)"
   ]
  },
  {
   "cell_type": "code",
   "execution_count": 157,
   "id": "8947fa78",
   "metadata": {},
   "outputs": [],
   "source": [
    "# $ işareti son karekterin eşleştiriyor."
   ]
  },
  {
   "cell_type": "code",
   "execution_count": 159,
   "id": "afbf7c00",
   "metadata": {},
   "outputs": [
    {
     "name": "stdout",
     "output_type": "stream",
     "text": [
      "[]\n"
     ]
    }
   ],
   "source": [
    "Text=\"Bugün REGEX konusu işleniyor.\"    \n",
    "patern = \"işleniyor$\"         # Noktayı koy\n",
    "netice = re.findall(patern,Text)\n",
    "print(netice)"
   ]
  },
  {
   "cell_type": "code",
   "execution_count": 163,
   "id": "053244ad",
   "metadata": {},
   "outputs": [
    {
     "name": "stdout",
     "output_type": "stream",
     "text": [
      "['en', 'eni', 'eni']\n"
     ]
    }
   ],
   "source": [
    "# aix* herhangi bir eşleşme,   Burada en ile başlayan, ancak i olan veya olmayan\n",
    "Text=\"Bugün REGEXen yeni konusu işleniyor.\"  # buraya en ekle\n",
    "patern = \"eni*\"    \n",
    "netice = re.findall(patern,Text)\n",
    "print(netice)"
   ]
  },
  {
   "cell_type": "code",
   "execution_count": 166,
   "id": "d090cc7d",
   "metadata": {},
   "outputs": [
    {
     "name": "stdout",
     "output_type": "stream",
     "text": [
      "st\n",
      "sat\n",
      "saat\n",
      "saaat\n"
     ]
    }
   ],
   "source": [
    "yeniliste = [\"st\", \"sat\", \"saat\", \"saaat\", \"falanca\"]\n",
    "for i in yeniliste:\n",
    "    if re.match(\"sa*t\",i):    # + koyarsan st yazmaz.\n",
    "        print(i)"
   ]
  },
  {
   "cell_type": "code",
   "execution_count": 34,
   "id": "cca6821b",
   "metadata": {},
   "outputs": [
    {
     "name": "stdout",
     "output_type": "stream",
     "text": [
      "a.txt\n",
      "deni.txt\n",
      "deniyorum.txt\n",
      "hatirlatmalar.txt\n",
      "keni.txt\n",
      "with_open_ile_ac.txt\n",
      "yeni.txt\n",
      "yeni_dosya.txt\n"
     ]
    }
   ],
   "source": [
    "import os\n",
    "dizin = os.listdir(os.getcwd())\n",
    "for i in dizin:\n",
    "    if re.match(\".*xt\",i):\n",
    "        print(i)"
   ]
  },
  {
   "cell_type": "code",
   "execution_count": 36,
   "id": "77c2b8d3",
   "metadata": {},
   "outputs": [
    {
     "name": "stdout",
     "output_type": "stream",
     "text": [
      "['yeni', 'yenii']\n"
     ]
    }
   ],
   "source": [
    "# aix+ bir veya daha fala eşleşme  yen ,le başlayan, ancak i bir veya birden fazla tekrar edebilir. \n",
    "Text=\"Bugün REGEX konusu yen yeni işlyeniiyor.\"\n",
    "patern = \"yeni+\"         # üstteki yen yeni yapalım\n",
    "netice = re.findall(patern,Text)\n",
    "print(netice)"
   ]
  },
  {
   "cell_type": "code",
   "execution_count": 170,
   "id": "880297d6",
   "metadata": {},
   "outputs": [
    {
     "name": "stdout",
     "output_type": "stream",
     "text": [
      "sat\n",
      "saat\n",
      "saaat\n"
     ]
    }
   ],
   "source": [
    "yeniliste = [\"st\", \"sat\", \"saat\", \"saaat\", \"falanca\"]\n",
    "for i in yeniliste:\n",
    "    if re.match(\"sa+t\",i):\n",
    "        print(i)"
   ]
  },
  {
   "cell_type": "code",
   "execution_count": 48,
   "id": "c5c4125c",
   "metadata": {},
   "outputs": [
    {
     "name": "stdout",
     "output_type": "stream",
     "text": [
      "<re.Match object; span=(19, 23), match='ekin'>\n"
     ]
    }
   ],
   "source": [
    "# .+in in ile biten  in ile biten \n",
    "Text=\"Sevin Selin Serin Tekin geldin\"\n",
    "#patern = \".+in\" \n",
    "patern = \".[k]+in\"\n",
    "netice = re.search(patern,Text)\n",
    "print(netice)"
   ]
  },
  {
   "cell_type": "code",
   "execution_count": null,
   "id": "fa34b1a6",
   "metadata": {},
   "outputs": [],
   "source": [
    " # ? işareti karekterin sıfır yada bir kez olmasını araştırır. \n",
    " #   aix* son karekterin hiç veya daha fazla"
   ]
  },
  {
   "cell_type": "code",
   "execution_count": 49,
   "id": "9634b40b",
   "metadata": {},
   "outputs": [
    {
     "name": "stdout",
     "output_type": "stream",
     "text": [
      "['Se', 'Sel', 'Se']\n"
     ]
    }
   ],
   "source": [
    "# ?\n",
    "Text=\"Sevin Selllin Serin geldi\"  # İsterseniz * kullanın farkı görün\n",
    "patern = \"Sel?\"     \n",
    "netice = re.findall(patern,Text)\n",
    "print(netice)"
   ]
  },
  {
   "cell_type": "code",
   "execution_count": null,
   "id": "81b1cb84",
   "metadata": {},
   "outputs": [],
   "source": [
    "# {} içerisine yazılan kadar son karekteri döndüürür"
   ]
  },
  {
   "cell_type": "code",
   "execution_count": 111,
   "id": "28468252",
   "metadata": {},
   "outputs": [
    {
     "name": "stdout",
     "output_type": "stream",
     "text": [
      "['Selll']\n"
     ]
    }
   ],
   "source": [
    "# \n",
    "Text=\"Sevin Selllin Selin Sellin geldi\"  # l üç kez tekrar eden\n",
    "patern = \"Sel{3}\"     \n",
    "netice = re.findall(patern,Text)\n",
    "print(netice)"
   ]
  },
  {
   "cell_type": "code",
   "execution_count": 112,
   "id": "1277751d",
   "metadata": {},
   "outputs": [
    {
     "name": "stdout",
     "output_type": "stream",
     "text": [
      "[]\n"
     ]
    }
   ],
   "source": [
    "# \n",
    "Text=\"Sevin Selllin Serin geldi\"  # e iki kez tekrar eden\n",
    "patern = \"Se{2}\"     \n",
    "netice = re.findall(patern,Text)\n",
    "print(netice)"
   ]
  },
  {
   "cell_type": "code",
   "execution_count": null,
   "id": "353d9a94",
   "metadata": {},
   "outputs": [],
   "source": [
    "# \\ kaçış karekteri deniyor. "
   ]
  },
  {
   "cell_type": "code",
   "execution_count": 52,
   "id": "fa60cfd4",
   "metadata": {},
   "outputs": [
    {
     "name": "stdout",
     "output_type": "stream",
     "text": [
      "[]\n"
     ]
    }
   ],
   "source": [
    "# Dikkat burada kaçış karekteri yazılmadı.\n",
    "Text=\"Dayım bana 80000$ harçlık verdi.\"  \n",
    "patern = \"[0-9]+$\"     \n",
    "netice = re.findall(patern,Text)\n",
    "print(netice)"
   ]
  },
  {
   "cell_type": "code",
   "execution_count": 54,
   "id": "673b6434",
   "metadata": {},
   "outputs": [
    {
     "name": "stdout",
     "output_type": "stream",
     "text": [
      "['80.000$']\n"
     ]
    }
   ],
   "source": [
    "# \\ özel karekter kullanınca kullanılır.\n",
    "Text=\"Dayım bana 80.000$ harçlık verdi.\"  \n",
    "patern = \"[0-9].+\\$\"         # isresen 80.000 kullan. [0-9,.] vea [0-9.]\n",
    "netice = re.findall(patern,Text)\n",
    "print(netice)"
   ]
  },
  {
   "cell_type": "code",
   "execution_count": 176,
   "id": "1a84a63d",
   "metadata": {},
   "outputs": [],
   "source": [
    "# | pipe veya or "
   ]
  },
  {
   "cell_type": "code",
   "execution_count": 57,
   "id": "1965711c",
   "metadata": {},
   "outputs": [
    {
     "name": "stdout",
     "output_type": "stream",
     "text": [
      "['Se', 'geldi']\n"
     ]
    }
   ],
   "source": [
    "import re\n",
    "Text=\"Sevin Serra Hemra geldi\"  # l üç kez tekrar eden\n",
    "patern = \"^Se|...di$\"     \n",
    "netice = re.findall(patern,Text)\n",
    "print(netice)"
   ]
  },
  {
   "cell_type": "code",
   "execution_count": null,
   "id": "408474c4",
   "metadata": {},
   "outputs": [],
   "source": [
    "# Elemanları gruplandırmak için () kullanılır."
   ]
  },
  {
   "cell_type": "code",
   "execution_count": 179,
   "id": "ecf250ea",
   "metadata": {},
   "outputs": [
    {
     "name": "stdout",
     "output_type": "stream",
     "text": [
      "[('Sevin', 'v'), ('Sein', '')]\n"
     ]
    }
   ],
   "source": [
    "# \n",
    "Text=\"Sevin Serra Sein geldi\"  # l üç kez tekrar eden\n",
    "patern = \"(Se(v)*in)\"     \n",
    "netice = re.findall(patern,Text)\n",
    "print(netice)"
   ]
  },
  {
   "attachments": {
    "image.png": {
     "image/png": "[encoded data removed]"
    }
   },
   "cell_type": "markdown",
   "id": "51b84276",
   "metadata": {},
   "source": [
    "![image.png](attachment:image.png)"
   ]
  },
  {
   "cell_type": "code",
   "execution_count": null,
   "id": "42d9461b",
   "metadata": {},
   "outputs": [
    {
     "name": "stdout",
     "output_type": "stream",
     "text": [
      "['Bugün', 'REGEX', 'konusu', 'yeni', 'işlyeniyor.']\n"
     ]
    }
   ],
   "source": [
    "# split kullanımı  \\s\n",
    "Text=\"Bugün REGEX konusu yeni işlyeniyor.\"\n",
    "patern = \"\\s\"     # Normal split gibi patern=\" \"   \n",
    "netice = re.split(patern,Text)\n",
    "print(netice)"
   ]
  },
  {
   "cell_type": "code",
   "execution_count": 127,
   "id": "51a6aa02",
   "metadata": {},
   "outputs": [
    {
     "name": "stdout",
     "output_type": "stream",
     "text": [
      "['B', 'gün REGEX kon', 's', ' yeni işlyeniyor.']\n"
     ]
    }
   ],
   "source": [
    "# split kullanımı harf u olan yer\n",
    "Text=\"Bugün REGEX konusu yeni işlyeniyor.\"\n",
    "patern = \"u\"     \n",
    "netice = re.split(patern,Text)\n",
    "print(netice)"
   ]
  },
  {
   "cell_type": "code",
   "execution_count": 128,
   "id": "201c174b",
   "metadata": {},
   "outputs": [
    {
     "name": "stdout",
     "output_type": "stream",
     "text": [
      "['Bugün REGEX ', ' yeni işlyeniyor.']\n"
     ]
    }
   ],
   "source": [
    "# split kullanımı kelime\n",
    "Text=\"Bugün REGEX konusu yeni işlyeniyor.\"\n",
    "patern = \"konusu\"     \n",
    "netice = re.split(patern,Text)\n",
    "print(netice)"
   ]
  },
  {
   "cell_type": "code",
   "execution_count": null,
   "id": "8817bd28",
   "metadata": {},
   "outputs": [],
   "source": [
    "## sub metodu replace e benzer. Daha güçlüdür, esnektir. Compile ile kullanılabilir"
   ]
  },
  {
   "cell_type": "code",
   "execution_count": 3,
   "id": "927152c8",
   "metadata": {},
   "outputs": [
    {
     "name": "stdout",
     "output_type": "stream",
     "text": [
      "Bugün-REGEX-konusu-yeni-işlyeniyor.\n"
     ]
    }
   ],
   "source": [
    "# sub fonksionunu kuullanalım\n",
    "Text=\"Bugün REGEX konusu yeni işlyeniyor.\"    \n",
    "netice = re.sub(\"\\s\",\"-\",Text)\n",
    "print(netice)"
   ]
  },
  {
   "cell_type": "code",
   "execution_count": 131,
   "id": "638f425f",
   "metadata": {},
   "outputs": [
    {
     "data": {
      "text/plain": [
       "'Bugün-REGEX-konusu-yeni-işlyeniyor.'"
      ]
     },
     "execution_count": 131,
     "metadata": {},
     "output_type": "execute_result"
    }
   ],
   "source": [
    "# Replace ile yapalım\n",
    "Text=\"Bugün REGEX konusu yeni işlyeniyor.\"    \n",
    "Text.replace(\" \",\"-\")"
   ]
  },
  {
   "cell_type": "code",
   "execution_count": 132,
   "id": "5197cf67",
   "metadata": {},
   "outputs": [
    {
     "name": "stdout",
     "output_type": "stream",
     "text": [
      "Bugün-REGEX-konusu-yeni-işlyeniyor.\n"
     ]
    }
   ],
   "source": [
    "# sub fonksionunu kuullanalım  patern = boşluk\n",
    "Text=\"Bugün REGEX konusu yeni işlyeniyor.\"    \n",
    "netice = re.sub(\" \",\"-\",Text)\n",
    "print(netice)"
   ]
  },
  {
   "cell_type": "code",
   "execution_count": 133,
   "id": "0b85ea57",
   "metadata": {},
   "outputs": [
    {
     "name": "stdout",
     "output_type": "stream",
     "text": [
      "Bugün RE konusu yeni işlyeniyor.\n"
     ]
    }
   ],
   "source": [
    "# sub fonksionunu kullanalım     kelime\n",
    "Text=\"Bugün REGEX konusu yeni işlyeniyor.\"    \n",
    "netice = re.sub(\"REGEX\",\"RE\",Text)\n",
    "print(netice)"
   ]
  },
  {
   "cell_type": "code",
   "execution_count": 5,
   "id": "6f84b515",
   "metadata": {},
   "outputs": [
    {
     "name": "stdout",
     "output_type": "stream",
     "text": [
      "Bugün RE konusu REişlyeniyor.\n"
     ]
    }
   ],
   "source": [
    "# sub fonksionunu kuullanalım    buradada üstteki özel karekterler geçerli\n",
    "Text=\"Bugün REGEX konusu Reni işlyeniyor.\"    \n",
    "netice = re.sub(\"R....\",\"RE\",Text)\n",
    "print(netice)"
   ]
  },
  {
   "cell_type": "code",
   "execution_count": 8,
   "id": "8f6b193a",
   "metadata": {},
   "outputs": [
    {
     "name": "stdout",
     "output_type": "stream",
     "text": [
      "<re.Match object; span=(18, 25), match='29 Ekim'>\n"
     ]
    }
   ],
   "source": [
    "# .+in in ile biten  in ile biten \n",
    "Text=\"Cumhriyet Bayramı 29 Ekim tarihinde kutlanacaktır.\"\n",
    "patern = \"[0-9]+\\s[a-z,A-Z]+\"  # + nın anlamı soldaki birden fazla olabilir.   \n",
    "tarih = re.search(patern,Text)\n",
    "print(tarih)"
   ]
  },
  {
   "cell_type": "code",
   "execution_count": 184,
   "id": "9a22f1fc",
   "metadata": {},
   "outputs": [
    {
     "data": {
      "text/plain": [
       "'29 Ekim'"
      ]
     },
     "execution_count": 184,
     "metadata": {},
     "output_type": "execute_result"
    }
   ],
   "source": [
    "tarih.group()"
   ]
  },
  {
   "cell_type": "code",
   "execution_count": 185,
   "id": "2ba87f24",
   "metadata": {},
   "outputs": [
    {
     "data": {
      "text/plain": [
       "(18, 25)"
      ]
     },
     "execution_count": 185,
     "metadata": {},
     "output_type": "execute_result"
    }
   ],
   "source": [
    "tarih.span()"
   ]
  },
  {
   "cell_type": "code",
   "execution_count": 9,
   "id": "597471b9",
   "metadata": {},
   "outputs": [
    {
     "name": "stdout",
     "output_type": "stream",
     "text": [
      "<re.Match object; span=(17, 25), match=' 29 Ekim'>\n"
     ]
    }
   ],
   "source": [
    "Text=\"Cumhriyet Bayramı 29 Ekim tarihinde kutlanacaktır.\"\n",
    "patern = \"\\s\\d\\d\\s\\w+\"   # s yi kaldırırsan 29 un önündeki boşluk kalkar    \n",
    "tarih = re.search(patern,Text)\n",
    "print(tarih)"
   ]
  },
  {
   "cell_type": "code",
   "execution_count": 10,
   "id": "b947fd2b",
   "metadata": {},
   "outputs": [
    {
     "name": "stdout",
     "output_type": "stream",
     "text": [
      "<re.Match object; span=(19, 25), match='29Ekim'>\n"
     ]
    }
   ],
   "source": [
    "Text=\"Cumhriyet Bayramı 29Ekim tarihinde kutlanacaktır.\"\n",
    "patern = \"\\d+\\w+\"     \n",
    "tarih = re.search(patern,Text)\n",
    "print(tarih)"
   ]
  },
  {
   "cell_type": "code",
   "execution_count": 11,
   "id": "509a84ed",
   "metadata": {},
   "outputs": [
    {
     "name": "stdout",
     "output_type": "stream",
     "text": [
      "23BH56\n",
      "TY76Z\n",
      "4Y7UZ\n",
      "34534\n"
     ]
    }
   ],
   "source": [
    "a = [\"23BH56\",\"TY76Z\",\"4Y7UZ\",\"TyUDZ\",\"34534\",\"Aa123\"]\n",
    "for i in a:\n",
    "    nesne = re.match(\"[0-9A-Z][^a-z]+\",i)    # Buradaki ^[a-z] küçük harf gelmeyecek\n",
    "    if nesne:\n",
    "        print(nesne.group())"
   ]
  },
  {
   "cell_type": "markdown",
   "id": "4bde2587",
   "metadata": {},
   "source": [
    "### Compile metodu "
   ]
  },
  {
   "cell_type": "code",
   "execution_count": 74,
   "id": "abea4e99",
   "metadata": {},
   "outputs": [
    {
     "name": "stdout",
     "output_type": "stream",
     "text": [
      "<re.Match object; span=(12, 17), match=' 1940'>\n"
     ]
    }
   ],
   "source": [
    "Text = \"Doğum tarihi 1940 vefat tarihi 2020Nisan\" \n",
    "patern = \"\\s\\d{4}\"     \n",
    "tarih = re.search(patern,Text)\n",
    "print(tarih)"
   ]
  },
  {
   "cell_type": "code",
   "execution_count": 75,
   "id": "7e679a04",
   "metadata": {},
   "outputs": [
    {
     "name": "stdout",
     "output_type": "stream",
     "text": [
      "<re.Match object; span=(30, 40), match=' 2020Nisan'>\n"
     ]
    }
   ],
   "source": [
    "Text = \"Doğum tarihi 1940 vefat tarihi 2020Nisan\" \n",
    "patern = \"\\s\\d{4}\\w+\"     \n",
    "tarih = re.search(patern,Text)\n",
    "print(tarih)"
   ]
  },
  {
   "cell_type": "code",
   "execution_count": 12,
   "id": "72e95936",
   "metadata": {},
   "outputs": [
    {
     "name": "stdout",
     "output_type": "stream",
     "text": [
      "<re.Match object; span=(12, 17), match=' 1940'>\n"
     ]
    }
   ],
   "source": [
    "Text = \"Doğum tarihi 1940 vefat tarihi 2020Nisan\" \n",
    "comp = re.compile(\"\\s\\d{4}\")    \n",
    "tarih = comp.search(Text)\n",
    "print(tarih)"
   ]
  },
  {
   "cell_type": "code",
   "execution_count": 13,
   "id": "5fb202b5",
   "metadata": {},
   "outputs": [
    {
     "name": "stdout",
     "output_type": "stream",
     "text": [
      "['1940 Mart', '2020 Nisan']\n"
     ]
    }
   ],
   "source": [
    "Text = \"Doğum tarihi 1940 Mart vefat tarihi 2020 Nisan\" \n",
    "comp = re.compile(\"\\d{4}\\s\\w+\")   # Eğer 2020Nisan olsa s* yap. \n",
    "tarih = comp.findall(Text)\n",
    "print(tarih)"
   ]
  },
  {
   "cell_type": "code",
   "execution_count": null,
   "id": "e4b30244",
   "metadata": {},
   "outputs": [],
   "source": [
    "# re.I re.IGNORCASE  büyük küçük duyarlılığı ihmal"
   ]
  },
  {
   "cell_type": "code",
   "execution_count": 76,
   "id": "7363bdb4",
   "metadata": {},
   "outputs": [
    {
     "name": "stdout",
     "output_type": "stream",
     "text": [
      "Bugün 1 Temmuz yarın 2 Temmuz\n"
     ]
    }
   ],
   "source": [
    "Text = \"Bugün 1 ekim yarın 2 Ekim\"\n",
    "comp = re.compile(\"ekim\",re.I)\n",
    "deg = comp.sub(\"Temmuz\",Text)\n",
    "print(deg)"
   ]
  },
  {
   "cell_type": "code",
   "execution_count": 77,
   "id": "c9df63c3",
   "metadata": {},
   "outputs": [
    {
     "name": "stdout",
     "output_type": "stream",
     "text": [
      "('Bugün 1 Temmuz yarın 2 Temmuz', 2)\n"
     ]
    }
   ],
   "source": [
    "# subn kaç değişiklik yapıldığını gösterir.\n",
    "Text = \"Bugün 1 ekim yarın 2 Ekim\"\n",
    "comp = re.compile(\"ekim\",re.I)\n",
    "deg = comp.subn(\"Temmuz\",Text)\n",
    "print(deg)"
   ]
  },
  {
   "cell_type": "code",
   "execution_count": 211,
   "id": "d78ecb2d",
   "metadata": {},
   "outputs": [
    {
     "name": "stdout",
     "output_type": "stream",
     "text": [
      "2\n"
     ]
    }
   ],
   "source": [
    "# Sadece değişim sayısını göster\n",
    "Text = \"Bugün 1 ekim yarın 2 Ekim\"\n",
    "comp = re.compile(\"ekim\",re.I)\n",
    "deg = comp.subn(\"Temmuz\",Text)\n",
    "print(deg[1])"
   ]
  },
  {
   "cell_type": "code",
   "execution_count": 78,
   "id": "b8971b16",
   "metadata": {},
   "outputs": [],
   "source": [
    "Text = \"Dağ Mahallesi. Şehrinaz Sok. No:2 360450 Kadıköy/İstanbul\""
   ]
  },
  {
   "cell_type": "code",
   "execution_count": 79,
   "id": "e9966595",
   "metadata": {},
   "outputs": [],
   "source": [
    "patern = \"\\d\\d\\d\\d\\d\\d\""
   ]
  },
  {
   "cell_type": "code",
   "execution_count": 80,
   "id": "ba8199ae",
   "metadata": {},
   "outputs": [],
   "source": [
    "patern = \"\\d{6}\""
   ]
  },
  {
   "cell_type": "code",
   "execution_count": null,
   "id": "5bb78b3f",
   "metadata": {},
   "outputs": [],
   "source": []
  },
  {
   "cell_type": "code",
   "execution_count": 81,
   "id": "d5966c6d",
   "metadata": {},
   "outputs": [],
   "source": [
    "sonu= re.search(patern,Text)"
   ]
  },
  {
   "cell_type": "code",
   "execution_count": 82,
   "id": "a732e22e",
   "metadata": {},
   "outputs": [
    {
     "data": {
      "text/plain": [
       "(34, 40)"
      ]
     },
     "execution_count": 82,
     "metadata": {},
     "output_type": "execute_result"
    }
   ],
   "source": [
    "sonu.span()"
   ]
  },
  {
   "cell_type": "code",
   "execution_count": 83,
   "id": "2e597e7c",
   "metadata": {},
   "outputs": [
    {
     "data": {
      "text/plain": [
       "'360450'"
      ]
     },
     "execution_count": 83,
     "metadata": {},
     "output_type": "execute_result"
    }
   ],
   "source": [
    "sonu.group()   # Eğer patern = \"\\d{5}\" olursa 36045"
   ]
  },
  {
   "cell_type": "code",
   "execution_count": 84,
   "id": "242510f3",
   "metadata": {},
   "outputs": [],
   "source": [
    "Text = \"Dağ Mahallesi. Şehrinaz Sok. No:2 360450 Kadıköy/İstanbul tlf : 0532-5327877\"\n",
    "patern =\"\\d{3,4}-\\d{7}\""
   ]
  },
  {
   "cell_type": "code",
   "execution_count": 85,
   "id": "af5cbe3e",
   "metadata": {},
   "outputs": [],
   "source": [
    "sonu= re.search(patern,Text)"
   ]
  },
  {
   "cell_type": "code",
   "execution_count": 86,
   "id": "0218a85c",
   "metadata": {},
   "outputs": [
    {
     "data": {
      "text/plain": [
       "(64, 76)"
      ]
     },
     "execution_count": 86,
     "metadata": {},
     "output_type": "execute_result"
    }
   ],
   "source": [
    "sonu.span()"
   ]
  },
  {
   "cell_type": "code",
   "execution_count": 87,
   "id": "f119552e",
   "metadata": {},
   "outputs": [
    {
     "data": {
      "text/plain": [
       "'0532-5327877'"
      ]
     },
     "execution_count": 87,
     "metadata": {},
     "output_type": "execute_result"
    }
   ],
   "source": [
    "sonu.group()"
   ]
  },
  {
   "cell_type": "code",
   "execution_count": null,
   "id": "ac033826",
   "metadata": {},
   "outputs": [],
   "source": [
    "# \\d{3}, \\d{3,}, d\\{3,5}, d\\* (Sıfır yada daha fazla), \\d+\\w+ (1 yada daha fazla), \\Al? (     ya 1 ada hiç)"
   ]
  },
  {
   "cell_type": "code",
   "execution_count": 91,
   "id": "97aadf87",
   "metadata": {},
   "outputs": [],
   "source": [
    "Text = \"kl 124 456 7891 abc defg hijklmn selm selami selak\"\n",
    "patern = \"selak+\"\n",
    "netice = re.search(patern, Text)"
   ]
  },
  {
   "cell_type": "code",
   "execution_count": 92,
   "id": "5204eef1-8e7a-42c5-8184-5367924126d1",
   "metadata": {},
   "outputs": [
    {
     "name": "stdout",
     "output_type": "stream",
     "text": [
      "(45, 50) selak\n"
     ]
    }
   ],
   "source": [
    "print(netice.span(),netice.group())"
   ]
  },
  {
   "cell_type": "code",
   "execution_count": 93,
   "id": "6ff530d1",
   "metadata": {},
   "outputs": [],
   "source": [
    "Text = \" Dağ Mahallesi. Şehrinaz Sok. No:2 360450 Kadıköy/İstanbul tlf : 0532-5774877\"\n",
    "patern = \"\\s\\w{3,8}\\s\""
   ]
  },
  {
   "cell_type": "code",
   "execution_count": 94,
   "id": "0ecdaad0",
   "metadata": {},
   "outputs": [
    {
     "name": "stdout",
     "output_type": "stream",
     "text": [
      "(0, 5)  Dağ \n",
      "(15, 25)  Şehrinaz \n",
      "(34, 42)  360450 \n",
      "(58, 63)  tlf \n"
     ]
    }
   ],
   "source": [
    "for netice in re.finditer(patern,Text):\n",
    "    print(netice.span(),netice.group())\n",
    "    "
   ]
  },
  {
   "cell_type": "code",
   "execution_count": 95,
   "id": "a27bc499",
   "metadata": {},
   "outputs": [],
   "source": [
    "# Şimdi de karekter saısın artıralım.\n",
    "Text = \" Dağ Mahallesi. Şehrinaz Sok. No:2 360450  Kadıköy / İstanbul tlf : 0532-5774877\"\n",
    "patern = \"\\s\\w{3,28}\\s\""
   ]
  },
  {
   "cell_type": "code",
   "execution_count": 251,
   "id": "d242ed51",
   "metadata": {},
   "outputs": [
    {
     "name": "stdout",
     "output_type": "stream",
     "text": [
      "(0, 5)  Dağ \n",
      "(15, 25)  Şehrinaz \n",
      "(34, 42)  360450 \n",
      "(42, 51)  Kadıköy \n",
      "(52, 62)  İstanbul \n"
     ]
    }
   ],
   "source": [
    "for netice in re.finditer(patern,Text):\n",
    "    print(netice.span(),netice.group())"
   ]
  },
  {
   "cell_type": "code",
   "execution_count": 31,
   "id": "ab7430de",
   "metadata": {},
   "outputs": [],
   "source": [
    "# W karekter olmayanlar\n",
    "Text = \" Dağ Mahallesi. Şehrinaz Sok. No:2 360450  Kadıköy / İstanbul tlf : 0532-5774877\"\n",
    "patern = \"\\s\\W{1,28}\\s\""
   ]
  },
  {
   "cell_type": "code",
   "execution_count": 32,
   "id": "6e48c96b",
   "metadata": {},
   "outputs": [
    {
     "name": "stdout",
     "output_type": "stream",
     "text": [
      "(50, 53)  / \n",
      "(65, 68)  : \n"
     ]
    }
   ],
   "source": [
    "for netice in re.finditer(patern,Text):\n",
    "    print(netice.span(),netice.group())"
   ]
  },
  {
   "cell_type": "code",
   "execution_count": 33,
   "id": "421d91e1",
   "metadata": {},
   "outputs": [
    {
     "name": "stdout",
     "output_type": "stream",
     "text": [
      "(34, 39)  No:2\n"
     ]
    }
   ],
   "source": [
    "#Sayısal olmayan 3 karekter sonra 1 sayı\n",
    "Text = \" Dağ Mahallesi. 2:No Şehrinaz Sok. No:2 360450  Kadıköy / İstanbul tlf : 0532-5774877\"\n",
    "patern = \"\\s\\D{3}\\d\"\n",
    "for netice in re.finditer(patern,Text):\n",
    "    print(netice.span(),netice.group())"
   ]
  },
  {
   "cell_type": "code",
   "execution_count": 34,
   "id": "dbd06fc8",
   "metadata": {},
   "outputs": [
    {
     "name": "stdout",
     "output_type": "stream",
     "text": [
      "yağmur\n"
     ]
    }
   ],
   "source": [
    "# b başında veya sonundaysa  ile başlayan kelime\n",
    "\n",
    "txt = \"Bu sabah yağmur var İstanbul'da...\"  # kesmeden sonrakiler için \\bİ\\w+\\'\\w+\n",
    "x = re.search(r\"\\by\\w+\", txt)\n",
    "print(x.group())"
   ]
  },
  {
   "cell_type": "markdown",
   "id": "a3274f5a",
   "metadata": {},
   "source": [
    "## WEB Patern olşturma"
   ]
  },
  {
   "cell_type": "markdown",
   "id": "76fdcddf",
   "metadata": {},
   "source": [
    "https://regex101.com/"
   ]
  },
  {
   "cell_type": "code",
   "execution_count": null,
   "id": "eabda6c3",
   "metadata": {},
   "outputs": [],
   "source": [
    "# Uygulamalar"
   ]
  },
  {
   "cell_type": "code",
   "execution_count": 51,
   "id": "11cbd034",
   "metadata": {},
   "outputs": [],
   "source": [
    "import pandas as pd"
   ]
  },
  {
   "cell_type": "code",
   "execution_count": 269,
   "id": "0118cda6",
   "metadata": {},
   "outputs": [],
   "source": [
    "oto=pd.read_excel(\"oto.xlsx\")"
   ]
  },
  {
   "cell_type": "code",
   "execution_count": 270,
   "id": "cc90997a",
   "metadata": {},
   "outputs": [
    {
     "data": {
      "text/html": [
       "<div>\n",
       "<style scoped>\n",
       "    .dataframe tbody tr th:only-of-type {\n",
       "        vertical-align: middle;\n",
       "    }\n",
       "\n",
       "    .dataframe tbody tr th {\n",
       "        vertical-align: top;\n",
       "    }\n",
       "\n",
       "    .dataframe thead th {\n",
       "        text-align: right;\n",
       "    }\n",
       "</style>\n",
       "<table border=\"1\" class=\"dataframe\">\n",
       "  <thead>\n",
       "    <tr style=\"text-align: right;\">\n",
       "      <th></th>\n",
       "      <th>Oto</th>\n",
       "    </tr>\n",
       "  </thead>\n",
       "  <tbody>\n",
       "    <tr>\n",
       "      <th>0</th>\n",
       "      <td>0      [\\n06/2021\\n, \\n99 g CO2/km (comb)\\n]</td>\n",
       "    </tr>\n",
       "    <tr>\n",
       "      <th>1</th>\n",
       "      <td>8      [\\n02/2020\\n, \\n97 g CO2/km (comb)\\n]</td>\n",
       "    </tr>\n",
       "    <tr>\n",
       "      <th>2</th>\n",
       "      <td>12    [\\n09/2019\\n, \\n112 g CO2/km (comb)\\n]</td>\n",
       "    </tr>\n",
       "    <tr>\n",
       "      <th>3</th>\n",
       "      <td>14     [\\n10/2019\\n, \\n99 g CO2/km (comb)\\n]</td>\n",
       "    </tr>\n",
       "    <tr>\n",
       "      <th>4</th>\n",
       "      <td>15     [\\n04/2020\\n, \\n97 g CO2/km (comb)\\n]</td>\n",
       "    </tr>\n",
       "    <tr>\n",
       "      <th>5</th>\n",
       "      <td>18                               \\n07/2020\\n</td>\n",
       "    </tr>\n",
       "    <tr>\n",
       "      <th>6</th>\n",
       "      <td>22    [\\n12/2019\\n, \\n112 g CO2/km (comb)\\n]</td>\n",
       "    </tr>\n",
       "    <tr>\n",
       "      <th>7</th>\n",
       "      <td>31     [\\n05/2019\\n, \\n95 g CO2/km (comb)\\n]</td>\n",
       "    </tr>\n",
       "    <tr>\n",
       "      <th>8</th>\n",
       "      <td>37     [\\n07/2019\\n, \\n97 g CO2/km (comb)\\n]</td>\n",
       "    </tr>\n",
       "    <tr>\n",
       "      <th>9</th>\n",
       "      <td>38     [\\n10/2019\\n, \\n97 g CO2/km (comb)\\n]</td>\n",
       "    </tr>\n",
       "  </tbody>\n",
       "</table>\n",
       "</div>"
      ],
      "text/plain": [
       "                                            Oto\n",
       "0  0      [\\n06/2021\\n, \\n99 g CO2/km (comb)\\n]\n",
       "1  8      [\\n02/2020\\n, \\n97 g CO2/km (comb)\\n]\n",
       "2  12    [\\n09/2019\\n, \\n112 g CO2/km (comb)\\n]\n",
       "3  14     [\\n10/2019\\n, \\n99 g CO2/km (comb)\\n]\n",
       "4  15     [\\n04/2020\\n, \\n97 g CO2/km (comb)\\n]\n",
       "5  18                               \\n07/2020\\n\n",
       "6  22    [\\n12/2019\\n, \\n112 g CO2/km (comb)\\n]\n",
       "7  31     [\\n05/2019\\n, \\n95 g CO2/km (comb)\\n]\n",
       "8  37     [\\n07/2019\\n, \\n97 g CO2/km (comb)\\n]\n",
       "9  38     [\\n10/2019\\n, \\n97 g CO2/km (comb)\\n]"
      ]
     },
     "execution_count": 270,
     "metadata": {},
     "output_type": "execute_result"
    }
   ],
   "source": [
    "oto"
   ]
  },
  {
   "cell_type": "code",
   "execution_count": 271,
   "id": "e54987c1",
   "metadata": {},
   "outputs": [
    {
     "data": {
      "text/plain": [
       "0    0      [\\n06/2021\\n, \\n99 g CO2/km (comb)\\n]\n",
       "1    8      [\\n02/2020\\n, \\n97 g CO2/km (comb)\\n]\n",
       "2    12    [\\n09/2019\\n, \\n112 g CO2/km (comb)\\n]\n",
       "3    14     [\\n10/2019\\n, \\n99 g CO2/km (comb)\\n]\n",
       "4    15     [\\n04/2020\\n, \\n97 g CO2/km (comb)\\n]\n",
       "5    18                               \\n07/2020\\n\n",
       "6    22    [\\n12/2019\\n, \\n112 g CO2/km (comb)\\n]\n",
       "7    31     [\\n05/2019\\n, \\n95 g CO2/km (comb)\\n]\n",
       "8    37     [\\n07/2019\\n, \\n97 g CO2/km (comb)\\n]\n",
       "9    38     [\\n10/2019\\n, \\n97 g CO2/km (comb)\\n]\n",
       "Name: Oto, dtype: object"
      ]
     },
     "execution_count": 271,
     "metadata": {},
     "output_type": "execute_result"
    }
   ],
   "source": [
    "oto[\"Oto\"]"
   ]
  },
  {
   "cell_type": "code",
   "execution_count": 272,
   "id": "afefc510",
   "metadata": {},
   "outputs": [
    {
     "data": {
      "text/plain": [
       "'14     [\\\\n10/2019\\\\n, \\\\n99 g CO2/km (comb)\\\\n]'"
      ]
     },
     "execution_count": 272,
     "metadata": {},
     "output_type": "execute_result"
    }
   ],
   "source": [
    "a=oto.Oto.values[3]\n",
    "a"
   ]
  },
  {
   "cell_type": "code",
   "execution_count": 273,
   "id": "747157f4",
   "metadata": {},
   "outputs": [],
   "source": [
    "patern4=f\"\\d+\\/\\d+\""
   ]
  },
  {
   "cell_type": "code",
   "execution_count": 274,
   "id": "b53983ad",
   "metadata": {},
   "outputs": [
    {
     "data": {
      "text/plain": [
       "['10/2019']"
      ]
     },
     "execution_count": 274,
     "metadata": {},
     "output_type": "execute_result"
    }
   ],
   "source": [
    "re.findall(patern4,a)"
   ]
  },
  {
   "cell_type": "code",
   "execution_count": 275,
   "id": "25bc8778",
   "metadata": {},
   "outputs": [],
   "source": [
    "oto[\"tarih\"]=oto.Oto.str.extract(f\"\\s\\[\\\\\\\\n(\\d+\\/\\d+)\")"
   ]
  },
  {
   "cell_type": "code",
   "execution_count": 55,
   "id": "986c4d0b",
   "metadata": {},
   "outputs": [
    {
     "data": {
      "text/html": [
       "<div>\n",
       "<style scoped>\n",
       "    .dataframe tbody tr th:only-of-type {\n",
       "        vertical-align: middle;\n",
       "    }\n",
       "\n",
       "    .dataframe tbody tr th {\n",
       "        vertical-align: top;\n",
       "    }\n",
       "\n",
       "    .dataframe thead th {\n",
       "        text-align: right;\n",
       "    }\n",
       "</style>\n",
       "<table border=\"1\" class=\"dataframe\">\n",
       "  <thead>\n",
       "    <tr style=\"text-align: right;\">\n",
       "      <th></th>\n",
       "      <th>Oto</th>\n",
       "      <th>tarih</th>\n",
       "    </tr>\n",
       "  </thead>\n",
       "  <tbody>\n",
       "    <tr>\n",
       "      <th>0</th>\n",
       "      <td>0      [\\n06/2021\\n, \\n99 g CO2/km (comb)\\n]</td>\n",
       "      <td>06/2021</td>\n",
       "    </tr>\n",
       "    <tr>\n",
       "      <th>1</th>\n",
       "      <td>8      [\\n02/2020\\n, \\n97 g CO2/km (comb)\\n]</td>\n",
       "      <td>02/2020</td>\n",
       "    </tr>\n",
       "    <tr>\n",
       "      <th>2</th>\n",
       "      <td>12    [\\n09/2019\\n, \\n112 g CO2/km (comb)\\n]</td>\n",
       "      <td>09/2019</td>\n",
       "    </tr>\n",
       "    <tr>\n",
       "      <th>3</th>\n",
       "      <td>14     [\\n10/2019\\n, \\n99 g CO2/km (comb)\\n]</td>\n",
       "      <td>10/2019</td>\n",
       "    </tr>\n",
       "    <tr>\n",
       "      <th>4</th>\n",
       "      <td>15     [\\n04/2020\\n, \\n97 g CO2/km (comb)\\n]</td>\n",
       "      <td>04/2020</td>\n",
       "    </tr>\n",
       "    <tr>\n",
       "      <th>5</th>\n",
       "      <td>18                               \\n07/2020\\n</td>\n",
       "      <td>NaN</td>\n",
       "    </tr>\n",
       "    <tr>\n",
       "      <th>6</th>\n",
       "      <td>22    [\\n12/2019\\n, \\n112 g CO2/km (comb)\\n]</td>\n",
       "      <td>12/2019</td>\n",
       "    </tr>\n",
       "    <tr>\n",
       "      <th>7</th>\n",
       "      <td>31     [\\n05/2019\\n, \\n95 g CO2/km (comb)\\n]</td>\n",
       "      <td>05/2019</td>\n",
       "    </tr>\n",
       "    <tr>\n",
       "      <th>8</th>\n",
       "      <td>37     [\\n07/2019\\n, \\n97 g CO2/km (comb)\\n]</td>\n",
       "      <td>07/2019</td>\n",
       "    </tr>\n",
       "    <tr>\n",
       "      <th>9</th>\n",
       "      <td>38     [\\n10/2019\\n, \\n97 g CO2/km (comb)\\n]</td>\n",
       "      <td>10/2019</td>\n",
       "    </tr>\n",
       "  </tbody>\n",
       "</table>\n",
       "</div>"
      ],
      "text/plain": [
       "                                            Oto    tarih\n",
       "0  0      [\\n06/2021\\n, \\n99 g CO2/km (comb)\\n]  06/2021\n",
       "1  8      [\\n02/2020\\n, \\n97 g CO2/km (comb)\\n]  02/2020\n",
       "2  12    [\\n09/2019\\n, \\n112 g CO2/km (comb)\\n]  09/2019\n",
       "3  14     [\\n10/2019\\n, \\n99 g CO2/km (comb)\\n]  10/2019\n",
       "4  15     [\\n04/2020\\n, \\n97 g CO2/km (comb)\\n]  04/2020\n",
       "5  18                               \\n07/2020\\n      NaN\n",
       "6  22    [\\n12/2019\\n, \\n112 g CO2/km (comb)\\n]  12/2019\n",
       "7  31     [\\n05/2019\\n, \\n95 g CO2/km (comb)\\n]  05/2019\n",
       "8  37     [\\n07/2019\\n, \\n97 g CO2/km (comb)\\n]  07/2019\n",
       "9  38     [\\n10/2019\\n, \\n97 g CO2/km (comb)\\n]  10/2019"
      ]
     },
     "execution_count": 55,
     "metadata": {},
     "output_type": "execute_result"
    }
   ],
   "source": [
    "oto\n"
   ]
  },
  {
   "cell_type": "code",
   "execution_count": 280,
   "id": "3f3c05d4",
   "metadata": {},
   "outputs": [],
   "source": [
    "patern=f\"\\d+\\s\""
   ]
  },
  {
   "cell_type": "code",
   "execution_count": 281,
   "id": "0a808e89",
   "metadata": {},
   "outputs": [
    {
     "data": {
      "text/plain": [
       "'99 '"
      ]
     },
     "execution_count": 281,
     "metadata": {},
     "output_type": "execute_result"
    }
   ],
   "source": [
    "re.findall(patern,a)[1]"
   ]
  },
  {
   "cell_type": "code",
   "execution_count": null,
   "id": "829083a4",
   "metadata": {},
   "outputs": [],
   "source": []
  }
 ],
 "metadata": {
  "kernelspec": {
   "display_name": "Python 3 (ipykernel)",
   "language": "python",
   "name": "python3"
  },
  "language_info": {
   "codemirror_mode": {
    "name": "ipython",
    "version": 3
   },
   "file_extension": ".py",
   "mimetype": "text/x-python",
   "name": "python",
   "nbconvert_exporter": "python",
   "pygments_lexer": "ipython3",
   "version": "3.9.12"
  }
 },
 "nbformat": 4,
 "nbformat_minor": 5
}
