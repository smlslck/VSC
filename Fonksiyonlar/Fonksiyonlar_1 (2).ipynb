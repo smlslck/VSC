{
 "cells": [
  {
   "cell_type": "markdown",
   "id": "9f5a8015-037b-47df-b50e-38e7d499744d",
   "metadata": {},
   "source": [
    "# Fonksiyonlar"
   ]
  },
  {
   "cell_type": "markdown",
   "id": "d71dd677-b14b-4d74-907e-60650b9414af",
   "metadata": {},
   "source": [
    "Fonksiyonların görevi, karmaşık işlemleri bir araya toplayarak, bu işlemleri tek adımda yapmamızı sağlamaktır. Fonksiyonlar çoğu zaman, yapmak istediğimiz işlemler için bir şablon vazifesi görür. Fonksiyonları kullanarak, bir veya birkaç adımdan oluşan işlemleri tek bir isim altında toplayabiliriz. Python’daki ‘fonksiyon’ kavramı başka programlama dillerinde ‘rutin’ veya ‘prosedür’ olarak adlandırılır. Gerçekten de fonksiyonlar rutin olarak tekrar edilen görevleri veya prosedürleri tek bir ad/çatı altında toplayan araçlardır."
   ]
  },
  {
   "cell_type": "code",
   "execution_count": null,
   "id": "bab847e9-0607-4cd8-a08e-79895d0e4179",
   "metadata": {},
   "outputs": [],
   "source": [
    "# Python da fonksiyon yazmak için aşağıdaki form uygulanır.\n",
    "def fonksiyon_adı(parametreler):\n",
    "    fonksiyon_gövdesi"
   ]
  },
  {
   "cell_type": "code",
   "execution_count": null,
   "id": "e6418a66-d1ea-430d-8655-686060485332",
   "metadata": {},
   "outputs": [],
   "source": [
    "print(\"Paşa\", \"Gönül\", \"2010\", \"Karayazı\",sep='\\t',end='\\n',file=sys.stdout, flush=False) \n",
    "# parametre, argümanlar, Sıralı (veya İsimsiz) Parametreler,isimli parametreler\n",
    "# Gömülü fonksyion\n",
    "# parametreler 256 adet\n",
    "# ‘gömülü fonksiyonlar’ (builtin functions) adı verilir."
   ]
  },
  {
   "cell_type": "code",
   "execution_count": null,
   "id": "b3e8eedb-7098-46c7-ba55-77b1057410f7",
   "metadata": {},
   "outputs": [],
   "source": [
    "help(print)"
   ]
  },
  {
   "cell_type": "markdown",
   "id": "1d36ea12-74b4-4138-9aa7-76d44a4dc06d",
   "metadata": {},
   "source": [
    "Teknik olarak söylemek gerekirse, ilk parçaya ‘fonksiyon tanımı’ (function definition), ikinci parçaya ise ‘fonksiyon çağrısı’ (function call) adı verilir. Dolayısıyla bir fonksiyonun yaşam döngüsü iki aşamadan oluşur. Buna göre bir fonksiyon önce tanımlanır; Sonra çağrılır (function call)."
   ]
  },
  {
   "cell_type": "code",
   "execution_count": 28,
   "id": "c4faba39-90a3-46e6-aec3-2d569d482a2b",
   "metadata": {},
   "outputs": [],
   "source": [
    "del sys"
   ]
  },
  {
   "cell_type": "code",
   "execution_count": 30,
   "id": "f0389248-924a-4a7c-8370-4c5ef6a660a4",
   "metadata": {},
   "outputs": [],
   "source": [
    "def sistem_bilgisi_goster(): #parametre yok, \n",
    "    import sys\n",
    "    print(\"\\nSistemde kurulu Python'ın;\")\n",
    "    print(\"\\tana sürüm numarası:\", sys.version_info.major)\n",
    "    print(\"\\talt sürüm numarası:\", sys.version_info.minor)\n",
    "    print(\"\\tminik sürüm numarası:\", sys.version_info.micro)\n",
    "\n",
    "    print(\"\\nKullanılan işletim sisteminin;\")\n",
    "    print(\"\\tadı:\", sys.platform)"
   ]
  },
  {
   "cell_type": "code",
   "execution_count": 31,
   "id": "2f3d55c0-db49-4d73-bf66-f126c9597db8",
   "metadata": {},
   "outputs": [
    {
     "name": "stdout",
     "output_type": "stream",
     "text": [
      "\n",
      "Sistemde kurulu Python'ın;\n",
      "\tana sürüm numarası: 3\n",
      "\talt sürüm numarası: 9\n",
      "\tminik sürüm numarası: 12\n",
      "\n",
      "Kullanılan işletim sisteminin;\n",
      "\tadı: win32\n"
     ]
    }
   ],
   "source": [
    "sistem_bilgisi_goster()"
   ]
  },
  {
   "cell_type": "code",
   "execution_count": 32,
   "id": "d23f7993-45b9-4c13-a4b6-bedc51d3bc1b",
   "metadata": {},
   "outputs": [
    {
     "ename": "NameError",
     "evalue": "name 'sys' is not defined",
     "output_type": "error",
     "traceback": [
      "\u001b[1;31m---------------------------------------------------------------------------\u001b[0m",
      "\u001b[1;31mNameError\u001b[0m                                 Traceback (most recent call last)",
      "Input \u001b[1;32mIn [32]\u001b[0m, in \u001b[0;36m<cell line: 2>\u001b[1;34m()\u001b[0m\n\u001b[0;32m      1\u001b[0m \u001b[38;5;66;03m# fonksiyon içindeki import dışarıda çalışmadı\u001b[39;00m\n\u001b[1;32m----> 2\u001b[0m \u001b[43msys\u001b[49m\u001b[38;5;241m.\u001b[39mversion\n",
      "\u001b[1;31mNameError\u001b[0m: name 'sys' is not defined"
     ]
    }
   ],
   "source": [
    "# fonksiyon içindeki import dışarıda çalışmadı\n",
    "sys.version"
   ]
  },
  {
   "cell_type": "code",
   "execution_count": 33,
   "id": "3bfc7934-fe9c-473c-878a-afa20a739343",
   "metadata": {},
   "outputs": [],
   "source": [
    "import math"
   ]
  },
  {
   "cell_type": "code",
   "execution_count": 34,
   "id": "ad4a2842-d70b-4900-a0bd-92871c049aa7",
   "metadata": {},
   "outputs": [
    {
     "data": {
      "text/plain": [
       "['__doc__',\n",
       " '__loader__',\n",
       " '__name__',\n",
       " '__package__',\n",
       " '__spec__',\n",
       " 'acos',\n",
       " 'acosh',\n",
       " 'asin',\n",
       " 'asinh',\n",
       " 'atan',\n",
       " 'atan2',\n",
       " 'atanh',\n",
       " 'ceil',\n",
       " 'comb',\n",
       " 'copysign',\n",
       " 'cos',\n",
       " 'cosh',\n",
       " 'degrees',\n",
       " 'dist',\n",
       " 'e',\n",
       " 'erf',\n",
       " 'erfc',\n",
       " 'exp',\n",
       " 'expm1',\n",
       " 'fabs',\n",
       " 'factorial',\n",
       " 'floor',\n",
       " 'fmod',\n",
       " 'frexp',\n",
       " 'fsum',\n",
       " 'gamma',\n",
       " 'gcd',\n",
       " 'hypot',\n",
       " 'inf',\n",
       " 'isclose',\n",
       " 'isfinite',\n",
       " 'isinf',\n",
       " 'isnan',\n",
       " 'isqrt',\n",
       " 'lcm',\n",
       " 'ldexp',\n",
       " 'lgamma',\n",
       " 'log',\n",
       " 'log10',\n",
       " 'log1p',\n",
       " 'log2',\n",
       " 'modf',\n",
       " 'nan',\n",
       " 'nextafter',\n",
       " 'perm',\n",
       " 'pi',\n",
       " 'pow',\n",
       " 'prod',\n",
       " 'radians',\n",
       " 'remainder',\n",
       " 'sin',\n",
       " 'sinh',\n",
       " 'sqrt',\n",
       " 'tan',\n",
       " 'tanh',\n",
       " 'tau',\n",
       " 'trunc',\n",
       " 'ulp']"
      ]
     },
     "execution_count": 34,
     "metadata": {},
     "output_type": "execute_result"
    }
   ],
   "source": [
    "dir(math)"
   ]
  },
  {
   "cell_type": "code",
   "execution_count": 35,
   "id": "426aca0f-7425-4233-8cae-d0da8f6b8717",
   "metadata": {},
   "outputs": [
    {
     "data": {
      "text/plain": [
       "'This module provides access to the mathematical functions\\ndefined by the C standard.'"
      ]
     },
     "execution_count": 35,
     "metadata": {},
     "output_type": "execute_result"
    }
   ],
   "source": [
    "math.__doc__"
   ]
  },
  {
   "cell_type": "code",
   "execution_count": 36,
   "id": "3e073f7b-d54e-44c3-9913-50778ab16a0a",
   "metadata": {},
   "outputs": [
    {
     "data": {
      "text/plain": [
       "120"
      ]
     },
     "execution_count": 36,
     "metadata": {},
     "output_type": "execute_result"
    }
   ],
   "source": [
    "math.factorial(5)"
   ]
  },
  {
   "cell_type": "code",
   "execution_count": 38,
   "id": "c7b89a32-3743-441d-94f7-0682c6a98442",
   "metadata": {},
   "outputs": [],
   "source": [
    "from math import *"
   ]
  },
  {
   "cell_type": "code",
   "execution_count": 39,
   "id": "7f3d93ef-98a1-4146-8a06-f54e269a686e",
   "metadata": {},
   "outputs": [
    {
     "data": {
      "text/plain": [
       "120"
      ]
     },
     "execution_count": 39,
     "metadata": {},
     "output_type": "execute_result"
    }
   ],
   "source": [
    "factorial(5)"
   ]
  },
  {
   "attachments": {
    "e9a47592-5239-44e0-ad48-9f715f52c1e8.png": {
     "image/png": "[encoded data removed]"
    }
   },
   "cell_type": "markdown",
   "id": "fd288560-dd41-4431-9dc2-4caa5a09b9b1",
   "metadata": {},
   "source": [
    "![image.png](attachment:e9a47592-5239-44e0-ad48-9f715f52c1e8.png)"
   ]
  },
  {
   "cell_type": "code",
   "execution_count": 41,
   "id": "c4cc4c9c-0b19-4780-8fcd-bac5100b362c",
   "metadata": {},
   "outputs": [],
   "source": [
    "def faktoriyel(x):\n",
    "    f = 1\n",
    "    for i in range(2,x+1):\n",
    "        f = f*i\n",
    "    return f "
   ]
  },
  {
   "cell_type": "code",
   "execution_count": 30,
   "id": "3f98ce08-6d58-469c-8991-a9e46bc53b31",
   "metadata": {},
   "outputs": [
    {
     "data": {
      "text/plain": [
       "120"
      ]
     },
     "execution_count": 30,
     "metadata": {},
     "output_type": "execute_result"
    }
   ],
   "source": [
    "faktoriyel(5)"
   ]
  },
  {
   "attachments": {
    "356cf207-e014-489d-a077-7e2f60ead36f.png": {
     "image/png": "[encoded data removed]"
    }
   },
   "cell_type": "markdown",
   "id": "aa361a8b-acb1-4399-9616-17c400c06309",
   "metadata": {},
   "source": [
    "![image.png](attachment:356cf207-e014-489d-a077-7e2f60ead36f.png)"
   ]
  },
  {
   "attachments": {
    "72386f07-a1e7-4c5d-a6f4-11998a187ee7.png": {
     "image/png": "[encoded data removed]"
    }
   },
   "cell_type": "markdown",
   "id": "340a3f27-15b1-4d40-a7f7-9b1584754b90",
   "metadata": {},
   "source": [
    "![image.png](attachment:72386f07-a1e7-4c5d-a6f4-11998a187ee7.png)"
   ]
  },
  {
   "cell_type": "code",
   "execution_count": 47,
   "id": "abcd428a-4b28-4be2-a77b-15a11b374f1b",
   "metadata": {},
   "outputs": [
    {
     "name": "stdout",
     "output_type": "stream",
     "text": [
      "x değerini gir : 1.5708\n"
     ]
    },
    {
     "name": "stdout",
     "output_type": "stream",
     "text": [
      "Seri :  0.9999999999932534\n"
     ]
    }
   ],
   "source": [
    "x=float(input(\"x değerini gir :\"))\n",
    "Seri =0; isaret = 1\n",
    "for i in range(1,170,2):\n",
    "    Seri = Seri + isaret*x**i/faktoriyel(i)\n",
    "    isaret = isaret*(-1)\n",
    "print(\"Seri : \",Seri)"
   ]
  },
  {
   "cell_type": "code",
   "execution_count": 48,
   "id": "9d12da46-5c59-4ace-858e-4e780f23f760",
   "metadata": {},
   "outputs": [],
   "source": [
    "def kayit(isim, soyisim, d_tar, sehir):\n",
    "    print(\"-\"*30)\n",
    "\n",
    "    print(\"isim     : \", isim)\n",
    "    print(\"soyisim  : \", soyisim)\n",
    "    print(\"Doğ_tar  : \", d_tar)\n",
    "    print(\"şehir    : \", sehir)\n",
    "\n",
    "    print(\"-\"*30)"
   ]
  },
  {
   "cell_type": "code",
   "execution_count": 49,
   "id": "a4f77244-ba2c-4e79-9e2f-ef72f6f69872",
   "metadata": {},
   "outputs": [
    {
     "name": "stdout",
     "output_type": "stream",
     "text": [
      "------------------------------\n",
      "isim     :  Şakir\n",
      "soyisim  :  Karabiber\n",
      "Doğ_tar  :  2005\n",
      "şehir    :  Manisa\n",
      "------------------------------\n"
     ]
    }
   ],
   "source": [
    "kayit(\"Şakir\", \"Karabiber\", 2005, \"Manisa\" )"
   ]
  },
  {
   "cell_type": "code",
   "execution_count": null,
   "id": "d536dc62-8d03-4c4f-b141-765c40c3aa60",
   "metadata": {},
   "outputs": [],
   "source": [
    "kayit(\"Şakir\", \"Karabiber\", 2005)"
   ]
  },
  {
   "cell_type": "code",
   "execution_count": null,
   "id": "5084382c-035f-4431-8fc0-0ffcab9659f2",
   "metadata": {},
   "outputs": [],
   "source": [
    "kayit(isim=\"Şakir\", soyisim=\"Karabiber\", d_tar=2005, sehir=\"Manisa\" )"
   ]
  },
  {
   "cell_type": "code",
   "execution_count": null,
   "id": "25684460-626c-4a64-9664-8d560211ba4d",
   "metadata": {},
   "outputs": [],
   "source": [
    "# Burada sıralama önemli değil\n",
    "kayit(soyisim=\"Karabiber\", d_tar=2005, sehir=\"Manisa\", isim=\"Şakir\" ) "
   ]
  },
  {
   "cell_type": "code",
   "execution_count": 52,
   "id": "01ac62f7-0d6b-4d64-8547-388848546d3e",
   "metadata": {},
   "outputs": [
    {
     "ename": "SyntaxError",
     "evalue": "positional argument follows keyword argument (2668687942.py, line 1)",
     "output_type": "error",
     "traceback": [
      "\u001b[1;36m  Input \u001b[1;32mIn [52]\u001b[1;36m\u001b[0m\n\u001b[1;33m    kayit(isim=\"Şakir\", \"Karabiber\", 2005, \"Rize\")\u001b[0m\n\u001b[1;37m                                                 ^\u001b[0m\n\u001b[1;31mSyntaxError\u001b[0m\u001b[1;31m:\u001b[0m positional argument follows keyword argument\n"
     ]
    }
   ],
   "source": [
    "kayit(isim=\"Şakir\", \"Karabiber\", 2005, \"Rize\") "
   ]
  },
  {
   "cell_type": "code",
   "execution_count": 53,
   "id": "a3c4fb7f-6360-4080-91b7-53e0836ef22f",
   "metadata": {},
   "outputs": [
    {
     "name": "stdout",
     "output_type": "stream",
     "text": [
      "------------------------------\n",
      "isim     :  Şakir\n",
      "soyisim  :  Karabiber\n",
      "Doğ_tar  :  2005\n",
      "şehir    :  Rize\n",
      "------------------------------\n"
     ]
    }
   ],
   "source": [
    "kayit(\"Şakir\", \"Karabiber\", 2005,\"Rize\") "
   ]
  },
  {
   "cell_type": "code",
   "execution_count": null,
   "id": "72737acc-2468-4387-bcb5-3234ba68a898",
   "metadata": {},
   "outputs": [],
   "source": [
    "kayit(\"Şakir\", \"Karabiber\", 2005)"
   ]
  },
  {
   "cell_type": "code",
   "execution_count": null,
   "id": "a956ed03-e88e-4659-8ffc-a6fff9c9ad34",
   "metadata": {},
   "outputs": [],
   "source": [
    "def kayit(isim, soyisim, d_tar = 2000, sehir = \"Ankara\"):\n",
    "    print(\"-\"*30)\n",
    "\n",
    "    print(\"isim     : \", isim)\n",
    "    print(\"soyisim  : \", soyisim)\n",
    "    print(\"Doğ_tar  : \", d_tar)\n",
    "    print(\"şehir    : \", sehir)\n",
    "\n",
    "    print(\"-\"*30)"
   ]
  },
  {
   "cell_type": "code",
   "execution_count": null,
   "id": "f354eb91-448b-49d2-8798-82e684f3e879",
   "metadata": {},
   "outputs": [],
   "source": [
    "kayit(\"Şakir\", \"Karabiber\", 2005)"
   ]
  },
  {
   "cell_type": "code",
   "execution_count": 55,
   "id": "351203c5-6ef2-4ea2-96f7-46c89c02c74e",
   "metadata": {},
   "outputs": [],
   "source": [
    "def kayit(isim=\"Yok\", soyisim=\"Alınmadı\", d_tar=2000, sehir=\"Ankara\"):\n",
    "    print(\"-\"*30)\n",
    "\n",
    "    print(\"isim     : \", isim)\n",
    "    print(\"soyisim  : \", soyisim)\n",
    "    print(\"Doğ_tar  : \", d_tar)\n",
    "    print(\"şehir    : \", sehir)\n",
    "\n",
    "    print(\"-\"*30)"
   ]
  },
  {
   "cell_type": "code",
   "execution_count": 56,
   "id": "f25dcd54-3265-46e1-a002-b6f41e6a3a2a",
   "metadata": {},
   "outputs": [
    {
     "name": "stdout",
     "output_type": "stream",
     "text": [
      "------------------------------\n",
      "isim     :  Yok\n",
      "soyisim  :  Alınmadı\n",
      "Doğ_tar  :  2000\n",
      "şehir    :  Ankara\n",
      "------------------------------\n"
     ]
    }
   ],
   "source": [
    "kayit()"
   ]
  },
  {
   "cell_type": "code",
   "execution_count": 57,
   "id": "3445686f-4a16-4a52-bc94-41a190cb6be9",
   "metadata": {},
   "outputs": [
    {
     "name": "stdout",
     "output_type": "stream",
     "text": [
      "------------------------------\n",
      "isim     :  Yok\n",
      "soyisim  :  Alınmadı\n",
      "Doğ_tar  :  2000\n",
      "şehir    :  Afyon\n",
      "------------------------------\n"
     ]
    }
   ],
   "source": [
    "kayit(sehir=\"Afyon\")"
   ]
  },
  {
   "cell_type": "code",
   "execution_count": 58,
   "id": "79732182-640c-4c12-8834-1469152b5bfd",
   "metadata": {},
   "outputs": [
    {
     "ename": "SyntaxError",
     "evalue": "positional argument follows keyword argument (1981545702.py, line 1)",
     "output_type": "error",
     "traceback": [
      "\u001b[1;36m  Input \u001b[1;32mIn [58]\u001b[1;36m\u001b[0m\n\u001b[1;33m    kayit(sehir=\"Van\",\"ali\",\"veli\")  # Sıralama önemli\u001b[0m\n\u001b[1;37m                                  ^\u001b[0m\n\u001b[1;31mSyntaxError\u001b[0m\u001b[1;31m:\u001b[0m positional argument follows keyword argument\n"
     ]
    }
   ],
   "source": [
    "kayit(sehir=\"Van\",\"ali\",\"veli\")  # Sıralama önemli"
   ]
  },
  {
   "cell_type": "code",
   "execution_count": 59,
   "id": "8084d339-09cc-446b-a788-220cb2af687a",
   "metadata": {},
   "outputs": [
    {
     "name": "stdout",
     "output_type": "stream",
     "text": [
      "------------------------------\n",
      "isim     :  Ali\n",
      "soyisim  :  Alınmadı\n",
      "Doğ_tar  :  2000\n",
      "şehir    :  Ankara\n",
      "------------------------------\n"
     ]
    }
   ],
   "source": [
    "kayit(isim=\"Ali\",d_tar=2000)"
   ]
  },
  {
   "cell_type": "markdown",
   "id": "55a12bf0-49b5-4f22-853f-471eeb15cd4c",
   "metadata": {},
   "source": [
    "### Rastgele sayıda isimsiz parametreler belirleme"
   ]
  },
  {
   "cell_type": "markdown",
   "id": "6dbd9bad-fcf3-43d7-b205-af407130bd4d",
   "metadata": {},
   "source": [
    "Mesela bir dizideki elemanların enbüyüğünü bulan fonksiyon"
   ]
  },
  {
   "cell_type": "code",
   "execution_count": 60,
   "id": "366f082d-1f1e-45d7-8306-d839d71dbf88",
   "metadata": {},
   "outputs": [
    {
     "name": "stdout",
     "output_type": "stream",
     "text": [
      "A,l,i\n"
     ]
    }
   ],
   "source": [
    "print(*\"Ali\",sep=',')"
   ]
  },
  {
   "cell_type": "code",
   "execution_count": 61,
   "id": "19a13593-4fb7-4aef-9344-4e3b4c46042e",
   "metadata": {},
   "outputs": [],
   "source": [
    "def fonksiyon(*args): # args en fazla 256 değer alır. args yerine başka isimde hullanılabilir.\n",
    "    print(args)"
   ]
  },
  {
   "cell_type": "code",
   "execution_count": 62,
   "id": "f53e03b5-1005-451b-9ace-7eb751c33338",
   "metadata": {},
   "outputs": [
    {
     "name": "stdout",
     "output_type": "stream",
     "text": [
      "(1, 2, 3, 4, 5, 7)\n"
     ]
    }
   ],
   "source": [
    "fonksiyon(1, 2, 3, 4, 5,7)"
   ]
  },
  {
   "cell_type": "code",
   "execution_count": 63,
   "id": "187ae064-613d-4c8a-aa78-359136fa1db5",
   "metadata": {},
   "outputs": [
    {
     "name": "stdout",
     "output_type": "stream",
     "text": [
      "300\n"
     ]
    }
   ],
   "source": [
    "def eb(*args):\n",
    "    eb = args[0]\n",
    "    for i in args:\n",
    "        if eb<i:\n",
    "            eb=i\n",
    "    print(eb)\n",
    "eb(1,2,3,89,0,300)"
   ]
  },
  {
   "cell_type": "code",
   "execution_count": null,
   "id": "58855fe5-1f71-4e3c-9057-ba1d11e98297",
   "metadata": {},
   "outputs": [],
   "source": [
    "del eb\n",
    "eb(1,2,3,89,0,300)"
   ]
  },
  {
   "cell_type": "code",
   "execution_count": 65,
   "id": "a34c1b36-f689-48dd-9f33-112891488873",
   "metadata": {},
   "outputs": [
    {
     "data": {
      "text/plain": [
       "300"
      ]
     },
     "execution_count": 65,
     "metadata": {},
     "output_type": "execute_result"
    }
   ],
   "source": [
    "max(1,2,3,89,0,300)"
   ]
  },
  {
   "cell_type": "markdown",
   "id": "caf7c51a-bb4f-4212-b107-528ed5ccba11",
   "metadata": {},
   "source": [
    "### Rastgele sayıda isimli parametreler belirleme"
   ]
  },
  {
   "cell_type": "code",
   "execution_count": 66,
   "id": "3aadb60f-db7f-4af4-8d5d-bda1cdd1ef23",
   "metadata": {},
   "outputs": [],
   "source": [
    "def kayit(**kwargs): \n",
    "    print(kwargs)"
   ]
  },
  {
   "cell_type": "code",
   "execution_count": 67,
   "id": "daaa667a-0f63-4ad1-bdb4-0f511fabec22",
   "metadata": {},
   "outputs": [
    {
     "name": "stdout",
     "output_type": "stream",
     "text": [
      "{'isim': 'Ahmet', 'soyisim': 'Öz', 'meslek': 'Mühendis', 'şehir': 'Ankara'}\n"
     ]
    }
   ],
   "source": [
    "kayit(isim=\"Ahmet\", soyisim=\"Öz\", meslek=\"Mühendis\", şehir=\"Ankara\")"
   ]
  },
  {
   "cell_type": "code",
   "execution_count": 68,
   "id": "cdca7fa3-82f0-40df-9630-d5da7678dd59",
   "metadata": {},
   "outputs": [],
   "source": [
    "def kayit(**kwargs): \n",
    "    for i in kwargs:\n",
    "        #print(i,kwargs[i])\n",
    "        print(f\"{i:10.8} : {kwargs[i]:.10}\")"
   ]
  },
  {
   "cell_type": "code",
   "execution_count": 69,
   "id": "a81f4a96-94e0-44ae-a449-ce0480ad4ae6",
   "metadata": {},
   "outputs": [
    {
     "name": "stdout",
     "output_type": "stream",
     "text": [
      "İsim       : Ayşe\n",
      "Soyisim    : Susam\n",
      "Meslek     : Öğretmen\n",
      "Şehir      : Muş\n"
     ]
    }
   ],
   "source": [
    "kayit(İsim=\"Ayşe\", Soyisim=\"Susam\", Meslek=\"Öğretmen\", Şehir=\"Muş\")"
   ]
  },
  {
   "cell_type": "code",
   "execution_count": 70,
   "id": "18fd098d-c534-49a0-a828-06a3cea3a99e",
   "metadata": {},
   "outputs": [],
   "source": [
    "def kayit(**kwargs): \n",
    "    for i,j in kwargs.items():\n",
    "        print(f\"{i:10.8} : {j}\")"
   ]
  },
  {
   "cell_type": "code",
   "execution_count": 71,
   "id": "9d9950c7-4635-4d47-a316-974a056c0f78",
   "metadata": {},
   "outputs": [
    {
     "name": "stdout",
     "output_type": "stream",
     "text": [
      "İsim       : Ayşe\n",
      "Soyisim    : Susam\n",
      "Meslek     : Öğretmen\n",
      "Şehir      : Muş\n"
     ]
    }
   ],
   "source": [
    "kayit(İsim=\"Ayşe\", Soyisim=\"Susam\", Meslek=\"Öğretmen\", Şehir=\"Muş\")"
   ]
  },
  {
   "cell_type": "code",
   "execution_count": 2,
   "id": "dbd2b7e0-eadd-4657-8c5f-67dd6a76ca0e",
   "metadata": {},
   "outputs": [
    {
     "name": "stdout",
     "output_type": "stream",
     "text": [
      "kitap = book\n",
      "bilgisayar = computer\n",
      "programlama = programming\n",
      "beş = five\n",
      "fonksiyon kelimesi sözlükte yok!\n"
     ]
    }
   ],
   "source": [
    "def karşılık_bul(*args, **kwargs):\n",
    "    for sözcük in args:\n",
    "        if sözcük in kwargs:\n",
    "            print(\"{} = {}\".format(sözcük, kwargs[sözcük]))\n",
    "        else:\n",
    "            print(\"{} kelimesi sözlükte yok!\".format(sözcük))\n",
    "\n",
    "sözlük = {\"kitap\"      : \"book\",\n",
    "          \"bilgisayar\" : \"computer\",\n",
    "          \"programlama\": \"programming\",\n",
    "          \"beş\"        : \"five\"\n",
    "         }\n",
    "\n",
    "karşılık_bul(\"kitap\", \"bilgisayar\", \"programlama\", \"beş\",\"fonksiyon\", **sözlük)"
   ]
  },
  {
   "cell_type": "code",
   "execution_count": 3,
   "id": "58cbb91f-281f-4076-b667-348cd73b4dea",
   "metadata": {},
   "outputs": [
    {
     "name": "stdout",
     "output_type": "stream",
     "text": [
      "kitap = book\n",
      "bilgisayar kelimesi sözlükte yok!\n",
      "programlama kelimesi sözlükte yok!\n",
      "beş = five\n",
      "fonksiyon kelimesi sözlükte yok!\n"
     ]
    }
   ],
   "source": [
    "karşılık_bul(\"kitap\", \"bilgisayar\", \"programlama\", \"beş\",\"fonksiyon\", kitap = \"book\",beş=\"five\")"
   ]
  },
  {
   "cell_type": "markdown",
   "id": "af029d7f-9e7f-4181-b606-a923e19c885f",
   "metadata": {},
   "source": [
    "## Return değimi"
   ]
  },
  {
   "cell_type": "code",
   "execution_count": 73,
   "id": "cff14c59-a3cf-4f02-8c18-85dea57c1416",
   "metadata": {},
   "outputs": [
    {
     "name": "stdout",
     "output_type": "stream",
     "text": [
      "300\n"
     ]
    }
   ],
   "source": [
    "def eb(*args):\n",
    "    eb = args[0]\n",
    "    for i in args:\n",
    "        if eb<i:\n",
    "            eb=i\n",
    "    print(eb)\n",
    "sonuc=eb(1,2,3,89,0,300)"
   ]
  },
  {
   "cell_type": "code",
   "execution_count": 74,
   "id": "77f894cb-f29d-4a8f-99c6-04232780678c",
   "metadata": {},
   "outputs": [],
   "source": [
    "sonuc"
   ]
  },
  {
   "cell_type": "code",
   "execution_count": 75,
   "id": "dfeb6d8b-24c8-40c8-ad4e-b86c82d4394a",
   "metadata": {},
   "outputs": [
    {
     "data": {
      "text/plain": [
       "300"
      ]
     },
     "execution_count": 75,
     "metadata": {},
     "output_type": "execute_result"
    }
   ],
   "source": [
    "a=max(1,2,3,89,0,300)\n",
    "a"
   ]
  },
  {
   "cell_type": "code",
   "execution_count": 76,
   "id": "4d09ee1b-8010-4b4e-a50f-87213d05670e",
   "metadata": {},
   "outputs": [],
   "source": [
    "def eb(*args):\n",
    "    eb = args[0]\n",
    "    for i in args:\n",
    "        if eb<i:\n",
    "            eb=i\n",
    "    return eb"
   ]
  },
  {
   "cell_type": "code",
   "execution_count": 77,
   "id": "6cb30712-7988-42c3-851a-5f1a8d90bb45",
   "metadata": {},
   "outputs": [
    {
     "data": {
      "text/plain": [
       "100"
      ]
     },
     "execution_count": 77,
     "metadata": {},
     "output_type": "execute_result"
    }
   ],
   "source": [
    "eb(1,2,3,89,45,78,100)"
   ]
  },
  {
   "cell_type": "code",
   "execution_count": 78,
   "id": "446cbc84-7201-4865-907d-f4640abb3bc6",
   "metadata": {},
   "outputs": [],
   "source": [
    "def eb(*args):   # return dan sonra kesintiye uğrar, aşağıdaki print çalışmaz\n",
    "    eb = args[0]\n",
    "    for i in args:\n",
    "        if eb<i:\n",
    "            eb=i\n",
    "    return eb\n",
    "    print( \"Ali geldi mi?\")"
   ]
  },
  {
   "cell_type": "code",
   "execution_count": 79,
   "id": "9a5769bc-2df8-4921-8c3b-678ab5a4743d",
   "metadata": {},
   "outputs": [
    {
     "data": {
      "text/plain": [
       "100"
      ]
     },
     "execution_count": 79,
     "metadata": {},
     "output_type": "execute_result"
    }
   ],
   "source": [
    "eb(1,2,3,89,45,78,100)"
   ]
  },
  {
   "cell_type": "code",
   "execution_count": null,
   "id": "2f89790e-04a4-448c-8b9a-e8ba10e400af",
   "metadata": {},
   "outputs": [],
   "source": [
    "# Ancak aşağıdaki gibi kullanılabilir."
   ]
  },
  {
   "cell_type": "code",
   "execution_count": null,
   "id": "dbe6ea56-6cf5-4eec-a2a5-5473c7338b27",
   "metadata": {},
   "outputs": [],
   "source": [
    "def faktoriyel(x):\n",
    "    f = 1\n",
    "    for i in range(2,x+1):\n",
    "        f = f*i\n",
    "    return f "
   ]
  },
  {
   "cell_type": "code",
   "execution_count": null,
   "id": "2ef0074d-26a1-4e5c-a157-715b8628d4ed",
   "metadata": {},
   "outputs": [],
   "source": [
    "faktoriyel(-5)"
   ]
  },
  {
   "cell_type": "code",
   "execution_count": null,
   "id": "97aa26ed-0087-40d7-a47a-efae98b5f80a",
   "metadata": {},
   "outputs": [],
   "source": [
    "def faktoriyel(x):\n",
    "    if x<0:\n",
    "        return \"Negatif sayının fakt. olmaz\"\n",
    "    else:\n",
    "        f = 1\n",
    "        for i in range(2,x+1):\n",
    "            f = f*i\n",
    "        return f "
   ]
  },
  {
   "cell_type": "code",
   "execution_count": null,
   "id": "badc3236-5c77-4c6e-bd6b-739b197086b6",
   "metadata": {},
   "outputs": [],
   "source": [
    "faktoriyel(-5)"
   ]
  },
  {
   "cell_type": "markdown",
   "id": "5e9fc1b9-020d-416f-b085-0045f1a162f0",
   "metadata": {},
   "source": [
    "## Global değimi"
   ]
  }
 ],
 "metadata": {
  "kernelspec": {
   "display_name": "Python 3.9.12 ('base')",
   "language": "python",
   "name": "python3"
  },
  "language_info": {
   "codemirror_mode": {
    "name": "ipython",
    "version": 3
   },
   "file_extension": ".py",
   "mimetype": "text/x-python",
   "name": "python",
   "nbconvert_exporter": "python",
   "pygments_lexer": "ipython3",
   "version": "3.9.12"
  },
  "vscode": {
   "interpreter": {
    "hash": "ad2bdc8ecc057115af97d19610ffacc2b4e99fae6737bb82f5d7fb13d2f2c186"
   }
  }
 },
 "nbformat": 4,
 "nbformat_minor": 5
}
